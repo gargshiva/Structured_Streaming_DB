{
 "cells": [
  {
   "cell_type": "code",
   "execution_count": 0,
   "metadata": {
    "application/vnd.databricks.v1+cell": {
     "cellMetadata": {
      "byteLimit": 2048000,
      "rowLimit": 10000
     },
     "inputWidgets": {},
     "nuid": "cc128f91-fe9c-4fec-a919-f0f986f5fe82",
     "showTitle": false,
     "tableResultSettingsMap": {},
     "title": ""
    }
   },
   "outputs": [],
   "source": [
    "class KafkaConsumer:\n",
    "    def __init__(self, bootstrap_server, jaas_module, api_key, api_secret):\n",
    "        self.bootstrap_server = bootstrap_server\n",
    "        self.jaas_module = jaas_module\n",
    "        self.api_key = api_key\n",
    "        self.api_secret = api_secret\n",
    "    \n",
    "    def consume(self):\n",
    "        raw_df = (spark.read\n",
    "                  .format(\"kafka\")\n",
    "                  .option(\"kafka.bootstrap.servers\", self.bootstrap_server)\n",
    "                  .option(\"kafka.security.protocol\", \"SASL_SSL\")\n",
    "                  .option(\"kafka.sasl.mechanism\", \"PLAIN\")\n",
    "                  .option(\"kafka.sasl.jaas.config\", f\"{self.jaas_module} required username='{self.api_key}' password='{self.api_secret}';\")\n",
    "                  .option(\"subscribe\", \"invoices\")\n",
    "                  .load()\n",
    "                  )\n",
    "        \n",
    "        raw_df.display()"
   ]
  },
  {
   "cell_type": "code",
   "execution_count": 0,
   "metadata": {
    "application/vnd.databricks.v1+cell": {
     "cellMetadata": {
      "byteLimit": 2048000,
      "rowLimit": 10000
     },
     "inputWidgets": {},
     "nuid": "4b7f5326-45e7-497d-85d2-0d1c0106bc31",
     "showTitle": false,
     "tableResultSettingsMap": {},
     "title": ""
    }
   },
   "outputs": [
    {
     "output_type": "display_data",
     "data": {
      "text/html": [
       "<style scoped>\n",
       "  .table-result-container {\n",
       "    max-height: 300px;\n",
       "    overflow: auto;\n",
       "  }\n",
       "  table, th, td {\n",
       "    border: 1px solid black;\n",
       "    border-collapse: collapse;\n",
       "  }\n",
       "  th, td {\n",
       "    padding: 5px;\n",
       "  }\n",
       "  th {\n",
       "    text-align: left;\n",
       "  }\n",
       "</style><div class='table-result-container'><table class='table-result'><thead style='background-color: white'><tr><th>key</th><th>value</th><th>topic</th><th>partition</th><th>offset</th><th>timestamp</th><th>timestampType</th></tr></thead><tbody><tr><td>U1RSNzE4OA==</td><td>eyJJbnZvaWNlTnVtYmVyIjoiNTE0MDI5NzciLCJDcmVhdGVkVGltZSI6MTU5NTY4ODkwMDM0OCwiU3RvcmVJRCI6IlNUUjcxODgiLCJQb3NJRCI6IlBPUzk1NiIsIkNhc2hpZXJJRCI6Ik9BUzEzNCIsIkN1c3RvbWVyVHlwZSI= (truncated)</td><td>invoices</td><td>0</td><td>0</td><td>2024-12-08T16:59:05.133Z</td><td>0</td></tr><tr><td>U1RSNzE4OA==</td><td>eyJJbnZvaWNlTnVtYmVyIjoiODMyMDU5NCIsIkNyZWF0ZWRUaW1lIjoxNTk1Njg4OTAyMjU0LCJTdG9yZUlEIjoiU1RSNzE4OCIsIlBvc0lEIjoiUE9TODI1IiwiQ2FzaGllcklEIjoiT0FTMzI5IiwiQ3VzdG9tZXJUeXBlIjo= (truncated)</td><td>invoices</td><td>0</td><td>1</td><td>2024-12-08T16:59:07.655Z</td><td>0</td></tr><tr><td>U1RSNjM0Nw==</td><td>eyJJbnZvaWNlTnVtYmVyIjoiOTk3OTQ3NjEiLCJDcmVhdGVkVGltZSI6MTU5NTY4ODkwMzI1OCwiU3RvcmVJRCI6IlNUUjYzNDciLCJQb3NJRCI6IlBPUzMzMyIsIkNhc2hpZXJJRCI6Ik9BUzY5NyIsIkN1c3RvbWVyVHlwZSI= (truncated)</td><td>invoices</td><td>0</td><td>2</td><td>2024-12-08T16:59:08.664Z</td><td>0</td></tr><tr><td>U1RSNjM0Nw==</td><td>eyJJbnZvaWNlTnVtYmVyIjoiODkxMDE1MTAiLCJDcmVhdGVkVGltZSI6MTU5NTY4ODkwNDc2MywiU3RvcmVJRCI6IlNUUjYzNDciLCJQb3NJRCI6IlBPUzk5NCIsIkNhc2hpZXJJRCI6Ik9BUzI3NCIsIkN1c3RvbWVyVHlwZSI= (truncated)</td><td>invoices</td><td>0</td><td>3</td><td>2024-12-08T16:59:09.169Z</td><td>0</td></tr><tr><td>U1RSNzE4OA==</td><td>eyJJbnZvaWNlTnVtYmVyIjoiMjY3MjMwNTgiLCJDcmVhdGVkVGltZSI6MTU5NTY4OTAyODI2MiwiU3RvcmVJRCI6IlNUUjcxODgiLCJQb3NJRCI6IlBPUzY2NCIsIkNhc2hpZXJJRCI6Ik9BUzk3MSIsIkN1c3RvbWVyVHlwZSI= (truncated)</td><td>invoices</td><td>0</td><td>4</td><td>2024-12-08T16:59:09.674Z</td><td>0</td></tr><tr><td>U1RSNzE4OA==</td><td>eyJJbnZvaWNlTnVtYmVyIjoiNTE0MDI5NzciLCJDcmVhdGVkVGltZSI6MTU5NTY4ODkwMDM0OCwiU3RvcmVJRCI6IlNUUjcxODgiLCJQb3NJRCI6IlBPUzk1NiIsIkNhc2hpZXJJRCI6Ik9BUzEzNCIsIkN1c3RvbWVyVHlwZSI= (truncated)</td><td>invoices</td><td>0</td><td>5</td><td>2024-12-08T17:08:58.967Z</td><td>0</td></tr><tr><td>U1RSNzE4OA==</td><td>eyJJbnZvaWNlTnVtYmVyIjoiODMyMDU5NCIsIkNyZWF0ZWRUaW1lIjoxNTk1Njg4OTAyMjU0LCJTdG9yZUlEIjoiU1RSNzE4OCIsIlBvc0lEIjoiUE9TODI1IiwiQ2FzaGllcklEIjoiT0FTMzI5IiwiQ3VzdG9tZXJUeXBlIjo= (truncated)</td><td>invoices</td><td>0</td><td>6</td><td>2024-12-08T17:09:01.484Z</td><td>0</td></tr><tr><td>U1RSNjM0Nw==</td><td>eyJJbnZvaWNlTnVtYmVyIjoiOTk3OTQ3NjEiLCJDcmVhdGVkVGltZSI6MTU5NTY4ODkwMzI1OCwiU3RvcmVJRCI6IlNUUjYzNDciLCJQb3NJRCI6IlBPUzMzMyIsIkNhc2hpZXJJRCI6Ik9BUzY5NyIsIkN1c3RvbWVyVHlwZSI= (truncated)</td><td>invoices</td><td>0</td><td>7</td><td>2024-12-08T17:09:02.49Z</td><td>0</td></tr><tr><td>U1RSNjM0Nw==</td><td>eyJJbnZvaWNlTnVtYmVyIjoiODkxMDE1MTAiLCJDcmVhdGVkVGltZSI6MTU5NTY4ODkwNDc2MywiU3RvcmVJRCI6IlNUUjYzNDciLCJQb3NJRCI6IlBPUzk5NCIsIkNhc2hpZXJJRCI6Ik9BUzI3NCIsIkN1c3RvbWVyVHlwZSI= (truncated)</td><td>invoices</td><td>0</td><td>8</td><td>2024-12-08T17:09:02.995Z</td><td>0</td></tr><tr><td>U1RSNzE4OA==</td><td>eyJJbnZvaWNlTnVtYmVyIjoiMjY3MjMwNTgiLCJDcmVhdGVkVGltZSI6MTU5NTY4OTAyODI2MiwiU3RvcmVJRCI6IlNUUjcxODgiLCJQb3NJRCI6IlBPUzY2NCIsIkNhc2hpZXJJRCI6Ik9BUzk3MSIsIkN1c3RvbWVyVHlwZSI= (truncated)</td><td>invoices</td><td>0</td><td>9</td><td>2024-12-08T17:09:03.5Z</td><td>0</td></tr><tr><td>U1RSNjM0Nw==</td><td>eyJJbnZvaWNlTnVtYmVyIjoiMjU3NjA5NTEiLCJDcmVhdGVkVGltZSI6MTU5NTY4OTAyOTUwNiwiU3RvcmVJRCI6IlNUUjYzNDciLCJQb3NJRCI6IlBPUzk5NCIsIkNhc2hpZXJJRCI6Ik9BUzI3NCIsIkN1c3RvbWVyVHlwZSI= (truncated)</td><td>invoices</td><td>0</td><td>10</td><td>2024-12-08T17:09:05.015Z</td><td>0</td></tr><tr><td>U1RSNjM0Nw==</td><td>eyJJbnZvaWNlTnVtYmVyIjoiMjcwODA1NjEiLCJDcmVhdGVkVGltZSI6MTU5NTY4OTAzMDAwOCwiU3RvcmVJRCI6IlNUUjYzNDciLCJQb3NJRCI6IlBPUzYyMiIsIkNhc2hpZXJJRCI6Ik9BUzc5MyIsIkN1c3RvbWVyVHlwZSI= (truncated)</td><td>invoices</td><td>0</td><td>11</td><td>2024-12-08T17:09:05.52Z</td><td>0</td></tr><tr><td>U1RSNjM0Nw==</td><td>eyJJbnZvaWNlTnVtYmVyIjoiNDYyMzYwNTIiLCJDcmVhdGVkVGltZSI6MTU5NTY4OTAzMjAzOCwiU3RvcmVJRCI6IlNUUjYzNDciLCJQb3NJRCI6IlBPUzMzMyIsIkNhc2hpZXJJRCI6Ik9BUzY5NyIsIkN1c3RvbWVyVHlwZSI= (truncated)</td><td>invoices</td><td>0</td><td>12</td><td>2024-12-08T17:09:07.033Z</td><td>0</td></tr><tr><td>U1RSMTk1NQ==</td><td>eyJJbnZvaWNlTnVtYmVyIjoiNTcyNDQ3MCIsIkNyZWF0ZWRUaW1lIjoxNTk1Njg5MDMzMDQzLCJTdG9yZUlEIjoiU1RSMTk1NSIsIlBvc0lEIjoiUE9TODM3IiwiQ2FzaGllcklEIjoiT0FTODYxIiwiQ3VzdG9tZXJUeXBlIjo= (truncated)</td><td>invoices</td><td>0</td><td>13</td><td>2024-12-08T17:09:08.038Z</td><td>0</td></tr><tr><td>U1RSMTk1NQ==</td><td>eyJJbnZvaWNlTnVtYmVyIjoiNjk0MTA5MzUiLCJDcmVhdGVkVGltZSI6MTU5NTY4OTAzMzU0NCwiU3RvcmVJRCI6IlNUUjE5NTUiLCJQb3NJRCI6IlBPUzk5MiIsIkNhc2hpZXJJRCI6Ik9BUzUyMSIsIkN1c3RvbWVyVHlwZSI= (truncated)</td><td>invoices</td><td>0</td><td>14</td><td>2024-12-08T17:09:09.045Z</td><td>0</td></tr><tr><td>U1RSNTQ5NA==</td><td>eyJJbnZvaWNlTnVtYmVyIjoiMTQzMjcxMzAiLCJDcmVhdGVkVGltZSI6MTU5NTY4OTAzNTA0OSwiU3RvcmVJRCI6IlNUUjU0OTQiLCJQb3NJRCI6IlBPUzM1MyIsIkNhc2hpZXJJRCI6Ik9BUzk2OSIsIkN1c3RvbWVyVHlwZSI= (truncated)</td><td>invoices</td><td>0</td><td>15</td><td>2024-12-08T17:09:10.561Z</td><td>0</td></tr><tr><td>U1RSNTQ5NA==</td><td>eyJJbnZvaWNlTnVtYmVyIjoiNDE4ODM1OCIsIkNyZWF0ZWRUaW1lIjoxNTk1Njg5MDM1MDQ5LCJTdG9yZUlEIjoiU1RSNTQ5NCIsIlBvc0lEIjoiUE9TMzg0IiwiQ2FzaGllcklEIjoiT0FTMzk4IiwiQ3VzdG9tZXJUeXBlIjo= (truncated)</td><td>invoices</td><td>0</td><td>16</td><td>2024-12-08T17:09:11.066Z</td><td>0</td></tr><tr><td>U1RSNTQ5NA==</td><td>eyJJbnZvaWNlTnVtYmVyIjoiMjU4NDQ0OSIsIkNyZWF0ZWRUaW1lIjoxNTk1Njg5MDM2MDUyLCJTdG9yZUlEIjoiU1RSNTQ5NCIsIlBvc0lEIjoiUE9TMTIxIiwiQ2FzaGllcklEIjoiT0FTMjM3IiwiQ3VzdG9tZXJUeXBlIjo= (truncated)</td><td>invoices</td><td>0</td><td>17</td><td>2024-12-08T17:09:11.571Z</td><td>0</td></tr><tr><td>U1RSMTk1NQ==</td><td>eyJJbnZvaWNlTnVtYmVyIjoiODA2Mzc5OTAiLCJDcmVhdGVkVGltZSI6MTU5NTY4OTAzNjU1NCwiU3RvcmVJRCI6IlNUUjE5NTUiLCJQb3NJRCI6IlBPUzMyNCIsIkNhc2hpZXJJRCI6Ik9BUzE4MyIsIkN1c3RvbWVyVHlwZSI= (truncated)</td><td>invoices</td><td>0</td><td>18</td><td>2024-12-08T17:09:12.075Z</td><td>0</td></tr><tr><td>U1RSNTQ5NA==</td><td>eyJJbnZvaWNlTnVtYmVyIjoiMTM2OTU1MjEiLCJDcmVhdGVkVGltZSI6MTU5NTY4OTAzNzA1NiwiU3RvcmVJRCI6IlNUUjU0OTQiLCJQb3NJRCI6IlBPUzc1OSIsIkNhc2hpZXJJRCI6Ik9BUzc5NiIsIkN1c3RvbWVyVHlwZSI= (truncated)</td><td>invoices</td><td>0</td><td>19</td><td>2024-12-08T17:09:12.58Z</td><td>0</td></tr><tr><td>U1RSNjM0Nw==</td><td>eyJJbnZvaWNlTnVtYmVyIjoiMjc5MzAyMjYiLCJDcmVhdGVkVGltZSI6MTU5NTY4OTAzNzA1NiwiU3RvcmVJRCI6IlNUUjYzNDciLCJQb3NJRCI6IlBPUzk5NCIsIkNhc2hpZXJJRCI6Ik9BUzI3NCIsIkN1c3RvbWVyVHlwZSI= (truncated)</td><td>invoices</td><td>0</td><td>20</td><td>2024-12-08T17:09:13.084Z</td><td>0</td></tr><tr><td>U1RSMTk1NQ==</td><td>eyJJbnZvaWNlTnVtYmVyIjoiNzYwMDA1ODIiLCJDcmVhdGVkVGltZSI6MTU5NTY4OTAzODU2MiwiU3RvcmVJRCI6IlNUUjE5NTUiLCJQb3NJRCI6IlBPUzc2OSIsIkNhc2hpZXJJRCI6Ik9BUzk5NiIsIkN1c3RvbWVyVHlwZSI= (truncated)</td><td>invoices</td><td>0</td><td>21</td><td>2024-12-08T17:09:14.599Z</td><td>0</td></tr><tr><td>U1RSODUxMw==</td><td>eyJJbnZvaWNlTnVtYmVyIjoiOTEzNzI5NzMiLCJDcmVhdGVkVGltZSI6MTU5NTY4ODkwMTIxOSwiU3RvcmVJRCI6IlNUUjg1MTMiLCJQb3NJRCI6IlBPUzE2MyIsIkNhc2hpZXJJRCI6Ik9BUzk2MSIsIkN1c3RvbWVyVHlwZSI= (truncated)</td><td>invoices</td><td>1</td><td>0</td><td>2024-12-08T16:59:06.643Z</td><td>0</td></tr><tr><td>U1RSODUxMw==</td><td>eyJJbnZvaWNlTnVtYmVyIjoiOTM2NDc1MTMiLCJDcmVhdGVkVGltZSI6MTU5NTY4ODkwMjI1NCwiU3RvcmVJRCI6IlNUUjg1MTMiLCJQb3NJRCI6IlBPUzg4MSIsIkNhc2hpZXJJRCI6Ik9BUzM1NCIsIkN1c3RvbWVyVHlwZSI= (truncated)</td><td>invoices</td><td>1</td><td>1</td><td>2024-12-08T16:59:07.148Z</td><td>0</td></tr><tr><td>U1RSMjYyOQ==</td><td>eyJJbnZvaWNlTnVtYmVyIjoiNDg4ODYwNyIsIkNyZWF0ZWRUaW1lIjoxNTk1Njg4OTAzMjU4LCJTdG9yZUlEIjoiU1RSMjYyOSIsIlBvc0lEIjoiUE9TMTcyIiwiQ2FzaGllcklEIjoiT0FTNjIyIiwiQ3VzdG9tZXJUeXBlIjo= (truncated)</td><td>invoices</td><td>1</td><td>2</td><td>2024-12-08T16:59:08.16Z</td><td>0</td></tr><tr><td>U1RSNjE2Mg==</td><td>eyJJbnZvaWNlTnVtYmVyIjoiOTY4Mzc4MzQiLCJDcmVhdGVkVGltZSI6MTU5NTY4OTAyOTAwMiwiU3RvcmVJRCI6IlNUUjYxNjIiLCJQb3NJRCI6IlBPUzgzNSIsIkNhc2hpZXJJRCI6Ik9BUzU4MyIsIkN1c3RvbWVyVHlwZSI= (truncated)</td><td>invoices</td><td>1</td><td>3</td><td>2024-12-08T16:59:10.179Z</td><td>0</td></tr><tr><td>U1RSODUxMw==</td><td>eyJJbnZvaWNlTnVtYmVyIjoiNzgzMDI2NDUiLCJDcmVhdGVkVGltZSI6MTU5NTY4OTAyOTUwNiwiU3RvcmVJRCI6IlNUUjg1MTMiLCJQb3NJRCI6IlBPUzE1NSIsIkNhc2hpZXJJRCI6Ik9BUzU1OCIsIkN1c3RvbWVyVHlwZSI= (truncated)</td><td>invoices</td><td>1</td><td>4</td><td>2024-12-08T16:59:10.684Z</td><td>0</td></tr><tr><td>U1RSODUxMw==</td><td>eyJJbnZvaWNlTnVtYmVyIjoiOTEzNzI5NzMiLCJDcmVhdGVkVGltZSI6MTU5NTY4ODkwMTIxOSwiU3RvcmVJRCI6IlNUUjg1MTMiLCJQb3NJRCI6IlBPUzE2MyIsIkNhc2hpZXJJRCI6Ik9BUzk2MSIsIkN1c3RvbWVyVHlwZSI= (truncated)</td><td>invoices</td><td>1</td><td>5</td><td>2024-12-08T17:09:00.477Z</td><td>0</td></tr><tr><td>U1RSODUxMw==</td><td>eyJJbnZvaWNlTnVtYmVyIjoiOTM2NDc1MTMiLCJDcmVhdGVkVGltZSI6MTU5NTY4ODkwMjI1NCwiU3RvcmVJRCI6IlNUUjg1MTMiLCJQb3NJRCI6IlBPUzg4MSIsIkNhc2hpZXJJRCI6Ik9BUzM1NCIsIkN1c3RvbWVyVHlwZSI= (truncated)</td><td>invoices</td><td>1</td><td>6</td><td>2024-12-08T17:09:00.979Z</td><td>0</td></tr><tr><td>U1RSMjYyOQ==</td><td>eyJJbnZvaWNlTnVtYmVyIjoiNDg4ODYwNyIsIkNyZWF0ZWRUaW1lIjoxNTk1Njg4OTAzMjU4LCJTdG9yZUlEIjoiU1RSMjYyOSIsIlBvc0lEIjoiUE9TMTcyIiwiQ2FzaGllcklEIjoiT0FTNjIyIiwiQ3VzdG9tZXJUeXBlIjo= (truncated)</td><td>invoices</td><td>1</td><td>7</td><td>2024-12-08T17:09:01.989Z</td><td>0</td></tr><tr><td>U1RSNjE2Mg==</td><td>eyJJbnZvaWNlTnVtYmVyIjoiOTY4Mzc4MzQiLCJDcmVhdGVkVGltZSI6MTU5NTY4OTAyOTAwMiwiU3RvcmVJRCI6IlNUUjYxNjIiLCJQb3NJRCI6IlBPUzgzNSIsIkNhc2hpZXJJRCI6Ik9BUzU4MyIsIkN1c3RvbWVyVHlwZSI= (truncated)</td><td>invoices</td><td>1</td><td>8</td><td>2024-12-08T17:09:04.006Z</td><td>0</td></tr><tr><td>U1RSODUxMw==</td><td>eyJJbnZvaWNlTnVtYmVyIjoiNzgzMDI2NDUiLCJDcmVhdGVkVGltZSI6MTU5NTY4OTAyOTUwNiwiU3RvcmVJRCI6IlNUUjg1MTMiLCJQb3NJRCI6IlBPUzE1NSIsIkNhc2hpZXJJRCI6Ik9BUzU1OCIsIkN1c3RvbWVyVHlwZSI= (truncated)</td><td>invoices</td><td>1</td><td>9</td><td>2024-12-08T17:09:04.511Z</td><td>0</td></tr><tr><td>U1RSODUxMw==</td><td>eyJJbnZvaWNlTnVtYmVyIjoiNzM1MzQzMjIiLCJDcmVhdGVkVGltZSI6MTU5NTY4OTAzMDUxMCwiU3RvcmVJRCI6IlNUUjg1MTMiLCJQb3NJRCI6IlBPUzMxMSIsIkNhc2hpZXJJRCI6Ik9BUzg0NSIsIkN1c3RvbWVyVHlwZSI= (truncated)</td><td>invoices</td><td>1</td><td>10</td><td>2024-12-08T17:09:06.025Z</td><td>0</td></tr><tr><td>U1RSMjYyOQ==</td><td>eyJJbnZvaWNlTnVtYmVyIjoiMzUyNDg0NjIiLCJDcmVhdGVkVGltZSI6MTU5NTY4OTAzMDUxMCwiU3RvcmVJRCI6IlNUUjI2MjkiLCJQb3NJRCI6IlBPUzI4NSIsIkNhc2hpZXJJRCI6Ik9BUzg4MiIsIkN1c3RvbWVyVHlwZSI= (truncated)</td><td>invoices</td><td>1</td><td>11</td><td>2024-12-08T17:09:06.53Z</td><td>0</td></tr><tr><td>U1RSMjYyOQ==</td><td>eyJJbnZvaWNlTnVtYmVyIjoiODA4MTczMzMiLCJDcmVhdGVkVGltZSI6MTU5NTY4OTAzMjUxOCwiU3RvcmVJRCI6IlNUUjI2MjkiLCJQb3NJRCI6IlBPUzI1MyIsIkNhc2hpZXJJRCI6Ik9BUzczNyIsIkN1c3RvbWVyVHlwZSI= (truncated)</td><td>invoices</td><td>1</td><td>12</td><td>2024-12-08T17:09:07.536Z</td><td>0</td></tr><tr><td>U1RSMjYyOQ==</td><td>eyJJbnZvaWNlTnVtYmVyIjoiNjAyMzU4NDgiLCJDcmVhdGVkVGltZSI6MTU5NTY4OTAzMzA0MywiU3RvcmVJRCI6IlNUUjI2MjkiLCJQb3NJRCI6IlBPUzI1MyIsIkNhc2hpZXJJRCI6Ik9BUzczNyIsIkN1c3RvbWVyVHlwZSI= (truncated)</td><td>invoices</td><td>1</td><td>13</td><td>2024-12-08T17:09:08.541Z</td><td>0</td></tr><tr><td>U1RSMjYyOQ==</td><td>eyJJbnZvaWNlTnVtYmVyIjoiOTMxMTgyNzEiLCJDcmVhdGVkVGltZSI6MTU5NTY4OTAzNDA0NywiU3RvcmVJRCI6IlNUUjI2MjkiLCJQb3NJRCI6IlBPUzI4NSIsIkNhc2hpZXJJRCI6Ik9BUzg4MiIsIkN1c3RvbWVyVHlwZSI= (truncated)</td><td>invoices</td><td>1</td><td>14</td><td>2024-12-08T17:09:09.55Z</td><td>0</td></tr><tr><td>U1RSNjE2Mg==</td><td>eyJJbnZvaWNlTnVtYmVyIjoiMzgwNDA2MzMiLCJDcmVhdGVkVGltZSI6MTU5NTY4OTAzNDU0OCwiU3RvcmVJRCI6IlNUUjYxNjIiLCJQb3NJRCI6IlBPUzgzNSIsIkNhc2hpZXJJRCI6Ik9BUzU4MyIsIkN1c3RvbWVyVHlwZSI= (truncated)</td><td>invoices</td><td>1</td><td>15</td><td>2024-12-08T17:09:10.056Z</td><td>0</td></tr><tr><td>U1RSNjE2Mg==</td><td>eyJJbnZvaWNlTnVtYmVyIjoiNjEwNzQxNTAiLCJDcmVhdGVkVGltZSI6MTU5NTY4OTAzODA2MSwiU3RvcmVJRCI6IlNUUjYxNjIiLCJQb3NJRCI6IlBPUzQzMSIsIkNhc2hpZXJJRCI6Ik9BUzEzOSIsIkN1c3RvbWVyVHlwZSI= (truncated)</td><td>invoices</td><td>1</td><td>16</td><td>2024-12-08T17:09:13.59Z</td><td>0</td></tr><tr><td>U1RSMzc4MQ==</td><td>eyJJbnZvaWNlTnVtYmVyIjoiNzI2MTI5OCIsIkNyZWF0ZWRUaW1lIjoxNTk1Njg5MDM4MDYxLCJTdG9yZUlEIjoiU1RSMzc4MSIsIlBvc0lEIjoiUE9TMTI5IiwiQ2FzaGllcklEIjoiT0FTMzExIiwiQ3VzdG9tZXJUeXBlIjo= (truncated)</td><td>invoices</td><td>1</td><td>17</td><td>2024-12-08T17:09:14.095Z</td><td>0</td></tr></tbody></table></div>"
      ]
     },
     "metadata": {
      "application/vnd.databricks.v1+output": {
       "addedWidgets": {},
       "aggData": [],
       "aggError": "",
       "aggOverflow": false,
       "aggSchema": [],
       "aggSeriesLimitReached": false,
       "aggType": "",
       "arguments": {},
       "columnCustomDisplayInfos": {},
       "data": [
        [
         "U1RSNzE4OA==",
         "eyJJbnZvaWNlTnVtYmVyIjoiNTE0MDI5NzciLCJDcmVhdGVkVGltZSI6MTU5NTY4ODkwMDM0OCwiU3RvcmVJRCI6IlNUUjcxODgiLCJQb3NJRCI6IlBPUzk1NiIsIkNhc2hpZXJJRCI6Ik9BUzEzNCIsIkN1c3RvbWVyVHlwZSI= (truncated)",
         "invoices",
         0,
         0,
         "2024-12-08T16:59:05.133Z",
         0
        ],
        [
         "U1RSNzE4OA==",
         "eyJJbnZvaWNlTnVtYmVyIjoiODMyMDU5NCIsIkNyZWF0ZWRUaW1lIjoxNTk1Njg4OTAyMjU0LCJTdG9yZUlEIjoiU1RSNzE4OCIsIlBvc0lEIjoiUE9TODI1IiwiQ2FzaGllcklEIjoiT0FTMzI5IiwiQ3VzdG9tZXJUeXBlIjo= (truncated)",
         "invoices",
         0,
         1,
         "2024-12-08T16:59:07.655Z",
         0
        ],
        [
         "U1RSNjM0Nw==",
         "eyJJbnZvaWNlTnVtYmVyIjoiOTk3OTQ3NjEiLCJDcmVhdGVkVGltZSI6MTU5NTY4ODkwMzI1OCwiU3RvcmVJRCI6IlNUUjYzNDciLCJQb3NJRCI6IlBPUzMzMyIsIkNhc2hpZXJJRCI6Ik9BUzY5NyIsIkN1c3RvbWVyVHlwZSI= (truncated)",
         "invoices",
         0,
         2,
         "2024-12-08T16:59:08.664Z",
         0
        ],
        [
         "U1RSNjM0Nw==",
         "eyJJbnZvaWNlTnVtYmVyIjoiODkxMDE1MTAiLCJDcmVhdGVkVGltZSI6MTU5NTY4ODkwNDc2MywiU3RvcmVJRCI6IlNUUjYzNDciLCJQb3NJRCI6IlBPUzk5NCIsIkNhc2hpZXJJRCI6Ik9BUzI3NCIsIkN1c3RvbWVyVHlwZSI= (truncated)",
         "invoices",
         0,
         3,
         "2024-12-08T16:59:09.169Z",
         0
        ],
        [
         "U1RSNzE4OA==",
         "eyJJbnZvaWNlTnVtYmVyIjoiMjY3MjMwNTgiLCJDcmVhdGVkVGltZSI6MTU5NTY4OTAyODI2MiwiU3RvcmVJRCI6IlNUUjcxODgiLCJQb3NJRCI6IlBPUzY2NCIsIkNhc2hpZXJJRCI6Ik9BUzk3MSIsIkN1c3RvbWVyVHlwZSI= (truncated)",
         "invoices",
         0,
         4,
         "2024-12-08T16:59:09.674Z",
         0
        ],
        [
         "U1RSNzE4OA==",
         "eyJJbnZvaWNlTnVtYmVyIjoiNTE0MDI5NzciLCJDcmVhdGVkVGltZSI6MTU5NTY4ODkwMDM0OCwiU3RvcmVJRCI6IlNUUjcxODgiLCJQb3NJRCI6IlBPUzk1NiIsIkNhc2hpZXJJRCI6Ik9BUzEzNCIsIkN1c3RvbWVyVHlwZSI= (truncated)",
         "invoices",
         0,
         5,
         "2024-12-08T17:08:58.967Z",
         0
        ],
        [
         "U1RSNzE4OA==",
         "eyJJbnZvaWNlTnVtYmVyIjoiODMyMDU5NCIsIkNyZWF0ZWRUaW1lIjoxNTk1Njg4OTAyMjU0LCJTdG9yZUlEIjoiU1RSNzE4OCIsIlBvc0lEIjoiUE9TODI1IiwiQ2FzaGllcklEIjoiT0FTMzI5IiwiQ3VzdG9tZXJUeXBlIjo= (truncated)",
         "invoices",
         0,
         6,
         "2024-12-08T17:09:01.484Z",
         0
        ],
        [
         "U1RSNjM0Nw==",
         "eyJJbnZvaWNlTnVtYmVyIjoiOTk3OTQ3NjEiLCJDcmVhdGVkVGltZSI6MTU5NTY4ODkwMzI1OCwiU3RvcmVJRCI6IlNUUjYzNDciLCJQb3NJRCI6IlBPUzMzMyIsIkNhc2hpZXJJRCI6Ik9BUzY5NyIsIkN1c3RvbWVyVHlwZSI= (truncated)",
         "invoices",
         0,
         7,
         "2024-12-08T17:09:02.49Z",
         0
        ],
        [
         "U1RSNjM0Nw==",
         "eyJJbnZvaWNlTnVtYmVyIjoiODkxMDE1MTAiLCJDcmVhdGVkVGltZSI6MTU5NTY4ODkwNDc2MywiU3RvcmVJRCI6IlNUUjYzNDciLCJQb3NJRCI6IlBPUzk5NCIsIkNhc2hpZXJJRCI6Ik9BUzI3NCIsIkN1c3RvbWVyVHlwZSI= (truncated)",
         "invoices",
         0,
         8,
         "2024-12-08T17:09:02.995Z",
         0
        ],
        [
         "U1RSNzE4OA==",
         "eyJJbnZvaWNlTnVtYmVyIjoiMjY3MjMwNTgiLCJDcmVhdGVkVGltZSI6MTU5NTY4OTAyODI2MiwiU3RvcmVJRCI6IlNUUjcxODgiLCJQb3NJRCI6IlBPUzY2NCIsIkNhc2hpZXJJRCI6Ik9BUzk3MSIsIkN1c3RvbWVyVHlwZSI= (truncated)",
         "invoices",
         0,
         9,
         "2024-12-08T17:09:03.5Z",
         0
        ],
        [
         "U1RSNjM0Nw==",
         "eyJJbnZvaWNlTnVtYmVyIjoiMjU3NjA5NTEiLCJDcmVhdGVkVGltZSI6MTU5NTY4OTAyOTUwNiwiU3RvcmVJRCI6IlNUUjYzNDciLCJQb3NJRCI6IlBPUzk5NCIsIkNhc2hpZXJJRCI6Ik9BUzI3NCIsIkN1c3RvbWVyVHlwZSI= (truncated)",
         "invoices",
         0,
         10,
         "2024-12-08T17:09:05.015Z",
         0
        ],
        [
         "U1RSNjM0Nw==",
         "eyJJbnZvaWNlTnVtYmVyIjoiMjcwODA1NjEiLCJDcmVhdGVkVGltZSI6MTU5NTY4OTAzMDAwOCwiU3RvcmVJRCI6IlNUUjYzNDciLCJQb3NJRCI6IlBPUzYyMiIsIkNhc2hpZXJJRCI6Ik9BUzc5MyIsIkN1c3RvbWVyVHlwZSI= (truncated)",
         "invoices",
         0,
         11,
         "2024-12-08T17:09:05.52Z",
         0
        ],
        [
         "U1RSNjM0Nw==",
         "eyJJbnZvaWNlTnVtYmVyIjoiNDYyMzYwNTIiLCJDcmVhdGVkVGltZSI6MTU5NTY4OTAzMjAzOCwiU3RvcmVJRCI6IlNUUjYzNDciLCJQb3NJRCI6IlBPUzMzMyIsIkNhc2hpZXJJRCI6Ik9BUzY5NyIsIkN1c3RvbWVyVHlwZSI= (truncated)",
         "invoices",
         0,
         12,
         "2024-12-08T17:09:07.033Z",
         0
        ],
        [
         "U1RSMTk1NQ==",
         "eyJJbnZvaWNlTnVtYmVyIjoiNTcyNDQ3MCIsIkNyZWF0ZWRUaW1lIjoxNTk1Njg5MDMzMDQzLCJTdG9yZUlEIjoiU1RSMTk1NSIsIlBvc0lEIjoiUE9TODM3IiwiQ2FzaGllcklEIjoiT0FTODYxIiwiQ3VzdG9tZXJUeXBlIjo= (truncated)",
         "invoices",
         0,
         13,
         "2024-12-08T17:09:08.038Z",
         0
        ],
        [
         "U1RSMTk1NQ==",
         "eyJJbnZvaWNlTnVtYmVyIjoiNjk0MTA5MzUiLCJDcmVhdGVkVGltZSI6MTU5NTY4OTAzMzU0NCwiU3RvcmVJRCI6IlNUUjE5NTUiLCJQb3NJRCI6IlBPUzk5MiIsIkNhc2hpZXJJRCI6Ik9BUzUyMSIsIkN1c3RvbWVyVHlwZSI= (truncated)",
         "invoices",
         0,
         14,
         "2024-12-08T17:09:09.045Z",
         0
        ],
        [
         "U1RSNTQ5NA==",
         "eyJJbnZvaWNlTnVtYmVyIjoiMTQzMjcxMzAiLCJDcmVhdGVkVGltZSI6MTU5NTY4OTAzNTA0OSwiU3RvcmVJRCI6IlNUUjU0OTQiLCJQb3NJRCI6IlBPUzM1MyIsIkNhc2hpZXJJRCI6Ik9BUzk2OSIsIkN1c3RvbWVyVHlwZSI= (truncated)",
         "invoices",
         0,
         15,
         "2024-12-08T17:09:10.561Z",
         0
        ],
        [
         "U1RSNTQ5NA==",
         "eyJJbnZvaWNlTnVtYmVyIjoiNDE4ODM1OCIsIkNyZWF0ZWRUaW1lIjoxNTk1Njg5MDM1MDQ5LCJTdG9yZUlEIjoiU1RSNTQ5NCIsIlBvc0lEIjoiUE9TMzg0IiwiQ2FzaGllcklEIjoiT0FTMzk4IiwiQ3VzdG9tZXJUeXBlIjo= (truncated)",
         "invoices",
         0,
         16,
         "2024-12-08T17:09:11.066Z",
         0
        ],
        [
         "U1RSNTQ5NA==",
         "eyJJbnZvaWNlTnVtYmVyIjoiMjU4NDQ0OSIsIkNyZWF0ZWRUaW1lIjoxNTk1Njg5MDM2MDUyLCJTdG9yZUlEIjoiU1RSNTQ5NCIsIlBvc0lEIjoiUE9TMTIxIiwiQ2FzaGllcklEIjoiT0FTMjM3IiwiQ3VzdG9tZXJUeXBlIjo= (truncated)",
         "invoices",
         0,
         17,
         "2024-12-08T17:09:11.571Z",
         0
        ],
        [
         "U1RSMTk1NQ==",
         "eyJJbnZvaWNlTnVtYmVyIjoiODA2Mzc5OTAiLCJDcmVhdGVkVGltZSI6MTU5NTY4OTAzNjU1NCwiU3RvcmVJRCI6IlNUUjE5NTUiLCJQb3NJRCI6IlBPUzMyNCIsIkNhc2hpZXJJRCI6Ik9BUzE4MyIsIkN1c3RvbWVyVHlwZSI= (truncated)",
         "invoices",
         0,
         18,
         "2024-12-08T17:09:12.075Z",
         0
        ],
        [
         "U1RSNTQ5NA==",
         "eyJJbnZvaWNlTnVtYmVyIjoiMTM2OTU1MjEiLCJDcmVhdGVkVGltZSI6MTU5NTY4OTAzNzA1NiwiU3RvcmVJRCI6IlNUUjU0OTQiLCJQb3NJRCI6IlBPUzc1OSIsIkNhc2hpZXJJRCI6Ik9BUzc5NiIsIkN1c3RvbWVyVHlwZSI= (truncated)",
         "invoices",
         0,
         19,
         "2024-12-08T17:09:12.58Z",
         0
        ],
        [
         "U1RSNjM0Nw==",
         "eyJJbnZvaWNlTnVtYmVyIjoiMjc5MzAyMjYiLCJDcmVhdGVkVGltZSI6MTU5NTY4OTAzNzA1NiwiU3RvcmVJRCI6IlNUUjYzNDciLCJQb3NJRCI6IlBPUzk5NCIsIkNhc2hpZXJJRCI6Ik9BUzI3NCIsIkN1c3RvbWVyVHlwZSI= (truncated)",
         "invoices",
         0,
         20,
         "2024-12-08T17:09:13.084Z",
         0
        ],
        [
         "U1RSMTk1NQ==",
         "eyJJbnZvaWNlTnVtYmVyIjoiNzYwMDA1ODIiLCJDcmVhdGVkVGltZSI6MTU5NTY4OTAzODU2MiwiU3RvcmVJRCI6IlNUUjE5NTUiLCJQb3NJRCI6IlBPUzc2OSIsIkNhc2hpZXJJRCI6Ik9BUzk5NiIsIkN1c3RvbWVyVHlwZSI= (truncated)",
         "invoices",
         0,
         21,
         "2024-12-08T17:09:14.599Z",
         0
        ],
        [
         "U1RSODUxMw==",
         "eyJJbnZvaWNlTnVtYmVyIjoiOTEzNzI5NzMiLCJDcmVhdGVkVGltZSI6MTU5NTY4ODkwMTIxOSwiU3RvcmVJRCI6IlNUUjg1MTMiLCJQb3NJRCI6IlBPUzE2MyIsIkNhc2hpZXJJRCI6Ik9BUzk2MSIsIkN1c3RvbWVyVHlwZSI= (truncated)",
         "invoices",
         1,
         0,
         "2024-12-08T16:59:06.643Z",
         0
        ],
        [
         "U1RSODUxMw==",
         "eyJJbnZvaWNlTnVtYmVyIjoiOTM2NDc1MTMiLCJDcmVhdGVkVGltZSI6MTU5NTY4ODkwMjI1NCwiU3RvcmVJRCI6IlNUUjg1MTMiLCJQb3NJRCI6IlBPUzg4MSIsIkNhc2hpZXJJRCI6Ik9BUzM1NCIsIkN1c3RvbWVyVHlwZSI= (truncated)",
         "invoices",
         1,
         1,
         "2024-12-08T16:59:07.148Z",
         0
        ],
        [
         "U1RSMjYyOQ==",
         "eyJJbnZvaWNlTnVtYmVyIjoiNDg4ODYwNyIsIkNyZWF0ZWRUaW1lIjoxNTk1Njg4OTAzMjU4LCJTdG9yZUlEIjoiU1RSMjYyOSIsIlBvc0lEIjoiUE9TMTcyIiwiQ2FzaGllcklEIjoiT0FTNjIyIiwiQ3VzdG9tZXJUeXBlIjo= (truncated)",
         "invoices",
         1,
         2,
         "2024-12-08T16:59:08.16Z",
         0
        ],
        [
         "U1RSNjE2Mg==",
         "eyJJbnZvaWNlTnVtYmVyIjoiOTY4Mzc4MzQiLCJDcmVhdGVkVGltZSI6MTU5NTY4OTAyOTAwMiwiU3RvcmVJRCI6IlNUUjYxNjIiLCJQb3NJRCI6IlBPUzgzNSIsIkNhc2hpZXJJRCI6Ik9BUzU4MyIsIkN1c3RvbWVyVHlwZSI= (truncated)",
         "invoices",
         1,
         3,
         "2024-12-08T16:59:10.179Z",
         0
        ],
        [
         "U1RSODUxMw==",
         "eyJJbnZvaWNlTnVtYmVyIjoiNzgzMDI2NDUiLCJDcmVhdGVkVGltZSI6MTU5NTY4OTAyOTUwNiwiU3RvcmVJRCI6IlNUUjg1MTMiLCJQb3NJRCI6IlBPUzE1NSIsIkNhc2hpZXJJRCI6Ik9BUzU1OCIsIkN1c3RvbWVyVHlwZSI= (truncated)",
         "invoices",
         1,
         4,
         "2024-12-08T16:59:10.684Z",
         0
        ],
        [
         "U1RSODUxMw==",
         "eyJJbnZvaWNlTnVtYmVyIjoiOTEzNzI5NzMiLCJDcmVhdGVkVGltZSI6MTU5NTY4ODkwMTIxOSwiU3RvcmVJRCI6IlNUUjg1MTMiLCJQb3NJRCI6IlBPUzE2MyIsIkNhc2hpZXJJRCI6Ik9BUzk2MSIsIkN1c3RvbWVyVHlwZSI= (truncated)",
         "invoices",
         1,
         5,
         "2024-12-08T17:09:00.477Z",
         0
        ],
        [
         "U1RSODUxMw==",
         "eyJJbnZvaWNlTnVtYmVyIjoiOTM2NDc1MTMiLCJDcmVhdGVkVGltZSI6MTU5NTY4ODkwMjI1NCwiU3RvcmVJRCI6IlNUUjg1MTMiLCJQb3NJRCI6IlBPUzg4MSIsIkNhc2hpZXJJRCI6Ik9BUzM1NCIsIkN1c3RvbWVyVHlwZSI= (truncated)",
         "invoices",
         1,
         6,
         "2024-12-08T17:09:00.979Z",
         0
        ],
        [
         "U1RSMjYyOQ==",
         "eyJJbnZvaWNlTnVtYmVyIjoiNDg4ODYwNyIsIkNyZWF0ZWRUaW1lIjoxNTk1Njg4OTAzMjU4LCJTdG9yZUlEIjoiU1RSMjYyOSIsIlBvc0lEIjoiUE9TMTcyIiwiQ2FzaGllcklEIjoiT0FTNjIyIiwiQ3VzdG9tZXJUeXBlIjo= (truncated)",
         "invoices",
         1,
         7,
         "2024-12-08T17:09:01.989Z",
         0
        ],
        [
         "U1RSNjE2Mg==",
         "eyJJbnZvaWNlTnVtYmVyIjoiOTY4Mzc4MzQiLCJDcmVhdGVkVGltZSI6MTU5NTY4OTAyOTAwMiwiU3RvcmVJRCI6IlNUUjYxNjIiLCJQb3NJRCI6IlBPUzgzNSIsIkNhc2hpZXJJRCI6Ik9BUzU4MyIsIkN1c3RvbWVyVHlwZSI= (truncated)",
         "invoices",
         1,
         8,
         "2024-12-08T17:09:04.006Z",
         0
        ],
        [
         "U1RSODUxMw==",
         "eyJJbnZvaWNlTnVtYmVyIjoiNzgzMDI2NDUiLCJDcmVhdGVkVGltZSI6MTU5NTY4OTAyOTUwNiwiU3RvcmVJRCI6IlNUUjg1MTMiLCJQb3NJRCI6IlBPUzE1NSIsIkNhc2hpZXJJRCI6Ik9BUzU1OCIsIkN1c3RvbWVyVHlwZSI= (truncated)",
         "invoices",
         1,
         9,
         "2024-12-08T17:09:04.511Z",
         0
        ],
        [
         "U1RSODUxMw==",
         "eyJJbnZvaWNlTnVtYmVyIjoiNzM1MzQzMjIiLCJDcmVhdGVkVGltZSI6MTU5NTY4OTAzMDUxMCwiU3RvcmVJRCI6IlNUUjg1MTMiLCJQb3NJRCI6IlBPUzMxMSIsIkNhc2hpZXJJRCI6Ik9BUzg0NSIsIkN1c3RvbWVyVHlwZSI= (truncated)",
         "invoices",
         1,
         10,
         "2024-12-08T17:09:06.025Z",
         0
        ],
        [
         "U1RSMjYyOQ==",
         "eyJJbnZvaWNlTnVtYmVyIjoiMzUyNDg0NjIiLCJDcmVhdGVkVGltZSI6MTU5NTY4OTAzMDUxMCwiU3RvcmVJRCI6IlNUUjI2MjkiLCJQb3NJRCI6IlBPUzI4NSIsIkNhc2hpZXJJRCI6Ik9BUzg4MiIsIkN1c3RvbWVyVHlwZSI= (truncated)",
         "invoices",
         1,
         11,
         "2024-12-08T17:09:06.53Z",
         0
        ],
        [
         "U1RSMjYyOQ==",
         "eyJJbnZvaWNlTnVtYmVyIjoiODA4MTczMzMiLCJDcmVhdGVkVGltZSI6MTU5NTY4OTAzMjUxOCwiU3RvcmVJRCI6IlNUUjI2MjkiLCJQb3NJRCI6IlBPUzI1MyIsIkNhc2hpZXJJRCI6Ik9BUzczNyIsIkN1c3RvbWVyVHlwZSI= (truncated)",
         "invoices",
         1,
         12,
         "2024-12-08T17:09:07.536Z",
         0
        ],
        [
         "U1RSMjYyOQ==",
         "eyJJbnZvaWNlTnVtYmVyIjoiNjAyMzU4NDgiLCJDcmVhdGVkVGltZSI6MTU5NTY4OTAzMzA0MywiU3RvcmVJRCI6IlNUUjI2MjkiLCJQb3NJRCI6IlBPUzI1MyIsIkNhc2hpZXJJRCI6Ik9BUzczNyIsIkN1c3RvbWVyVHlwZSI= (truncated)",
         "invoices",
         1,
         13,
         "2024-12-08T17:09:08.541Z",
         0
        ],
        [
         "U1RSMjYyOQ==",
         "eyJJbnZvaWNlTnVtYmVyIjoiOTMxMTgyNzEiLCJDcmVhdGVkVGltZSI6MTU5NTY4OTAzNDA0NywiU3RvcmVJRCI6IlNUUjI2MjkiLCJQb3NJRCI6IlBPUzI4NSIsIkNhc2hpZXJJRCI6Ik9BUzg4MiIsIkN1c3RvbWVyVHlwZSI= (truncated)",
         "invoices",
         1,
         14,
         "2024-12-08T17:09:09.55Z",
         0
        ],
        [
         "U1RSNjE2Mg==",
         "eyJJbnZvaWNlTnVtYmVyIjoiMzgwNDA2MzMiLCJDcmVhdGVkVGltZSI6MTU5NTY4OTAzNDU0OCwiU3RvcmVJRCI6IlNUUjYxNjIiLCJQb3NJRCI6IlBPUzgzNSIsIkNhc2hpZXJJRCI6Ik9BUzU4MyIsIkN1c3RvbWVyVHlwZSI= (truncated)",
         "invoices",
         1,
         15,
         "2024-12-08T17:09:10.056Z",
         0
        ],
        [
         "U1RSNjE2Mg==",
         "eyJJbnZvaWNlTnVtYmVyIjoiNjEwNzQxNTAiLCJDcmVhdGVkVGltZSI6MTU5NTY4OTAzODA2MSwiU3RvcmVJRCI6IlNUUjYxNjIiLCJQb3NJRCI6IlBPUzQzMSIsIkNhc2hpZXJJRCI6Ik9BUzEzOSIsIkN1c3RvbWVyVHlwZSI= (truncated)",
         "invoices",
         1,
         16,
         "2024-12-08T17:09:13.59Z",
         0
        ],
        [
         "U1RSMzc4MQ==",
         "eyJJbnZvaWNlTnVtYmVyIjoiNzI2MTI5OCIsIkNyZWF0ZWRUaW1lIjoxNTk1Njg5MDM4MDYxLCJTdG9yZUlEIjoiU1RSMzc4MSIsIlBvc0lEIjoiUE9TMTI5IiwiQ2FzaGllcklEIjoiT0FTMzExIiwiQ3VzdG9tZXJUeXBlIjo= (truncated)",
         "invoices",
         1,
         17,
         "2024-12-08T17:09:14.095Z",
         0
        ]
       ],
       "datasetInfos": [],
       "dbfsResultPath": null,
       "isJsonSchema": true,
       "metadata": {},
       "overflow": false,
       "plotOptions": {
        "customPlotOptions": {},
        "displayType": "table",
        "pivotAggregation": null,
        "pivotColumns": null,
        "xColumns": null,
        "yColumns": null
       },
       "removedWidgets": [],
       "schema": [
        {
         "metadata": "{}",
         "name": "key",
         "type": "\"binary\""
        },
        {
         "metadata": "{}",
         "name": "value",
         "type": "\"binary\""
        },
        {
         "metadata": "{}",
         "name": "topic",
         "type": "\"string\""
        },
        {
         "metadata": "{}",
         "name": "partition",
         "type": "\"integer\""
        },
        {
         "metadata": "{}",
         "name": "offset",
         "type": "\"long\""
        },
        {
         "metadata": "{}",
         "name": "timestamp",
         "type": "\"timestamp\""
        },
        {
         "metadata": "{}",
         "name": "timestampType",
         "type": "\"integer\""
        }
       ],
       "type": "table"
      }
     },
     "output_type": "display_data"
    }
   ],
   "source": [
    "bootstrap_sever='pkc-619z3.us-east1.gcp.confluent.cloud:9092'\n",
    "jaas_module='org.apache.kafka.common.security.plain.PlainLoginModule'\n",
    "api_key='OVPNJYWE56QVX4LD'\n",
    "api_secret='LSK7hPY5Kvqpj12hiaZuLyawzvN+eOXqDXtOgyRdBAcz9j6RxQdx0DlIlSXLU7Jb'\n",
    "\n",
    "consumer = KafkaConsumer(bootstrap_sever, jaas_module, api_key, api_secret)\n",
    "consumer.consume()"
   ]
  }
 ],
 "metadata": {
  "application/vnd.databricks.v1+notebook": {
   "dashboards": [],
   "environmentMetadata": {
    "base_environment": "",
    "client": "1"
   },
   "language": "python",
   "notebookMetadata": {
    "pythonIndentUnit": 4
   },
   "notebookName": "Spark Kafka Consumer",
   "widgets": {}
  },
  "language_info": {
   "name": "python"
  }
 },
 "nbformat": 4,
 "nbformat_minor": 0
}
