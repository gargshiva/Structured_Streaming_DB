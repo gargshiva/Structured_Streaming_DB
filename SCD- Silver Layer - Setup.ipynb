{
 "cells": [
  {
   "cell_type": "code",
   "execution_count": 0,
   "metadata": {
    "application/vnd.databricks.v1+cell": {
     "cellMetadata": {
      "byteLimit": 2048000,
      "rowLimit": 10000
     },
     "inputWidgets": {},
     "nuid": "ed867e3e-4b9d-45b9-bd3e-512b12e5688e",
     "showTitle": false,
     "tableResultSettingsMap": {},
     "title": ""
    }
   },
   "outputs": [
    {
     "output_type": "execute_result",
     "data": {
      "text/plain": [
       "DataFrame[]"
      ]
     },
     "execution_count": 45,
     "metadata": {},
     "output_type": "execute_result"
    }
   ],
   "source": [
    "spark.sql(\"drop database if exists DEV.scd_silver_layer cascade\")"
   ]
  },
  {
   "cell_type": "code",
   "execution_count": 0,
   "metadata": {
    "application/vnd.databricks.v1+cell": {
     "cellMetadata": {},
     "inputWidgets": {},
     "nuid": "e69ba7d9-8752-43a0-9a7f-445d15f804ae",
     "showTitle": false,
     "tableResultSettingsMap": {},
     "title": ""
    }
   },
   "outputs": [],
   "source": [
    "# Realtime Application\n",
    "\n",
    "# Assume you are getting the data from the kafka.\n",
    "# Create Bronze Layer to store the raw data.\n",
    "# Create silver layer to implement the SCD 1 (overwrite). No History maintained."
   ]
  },
  {
   "cell_type": "code",
   "execution_count": 0,
   "metadata": {
    "application/vnd.databricks.v1+cell": {
     "cellMetadata": {
      "byteLimit": 2048000,
      "rowLimit": 10000
     },
     "inputWidgets": {},
     "nuid": "d298d337-f0a7-4a34-91b8-7af2107a07af",
     "showTitle": false,
     "tableResultSettingsMap": {},
     "title": ""
    }
   },
   "outputs": [
    {
     "output_type": "execute_result",
     "data": {
      "text/plain": [
       "DataFrame[]"
      ]
     },
     "execution_count": 41,
     "metadata": {},
     "output_type": "execute_result"
    }
   ],
   "source": [
    "spark.sql(\"create database if not exists DEV.scd_silver_layer\")"
   ]
  },
  {
   "cell_type": "code",
   "execution_count": 0,
   "metadata": {
    "application/vnd.databricks.v1+cell": {
     "cellMetadata": {
      "byteLimit": 2048000,
      "rowLimit": 10000
     },
     "inputWidgets": {},
     "nuid": "2eab20a6-f6f7-47cb-8086-a2b3ccedf472",
     "showTitle": false,
     "tableResultSettingsMap": {},
     "title": ""
    }
   },
   "outputs": [
    {
     "output_type": "execute_result",
     "data": {
      "text/plain": [
       "DataFrame[]"
      ]
     },
     "execution_count": 43,
     "metadata": {},
     "output_type": "execute_result"
    }
   ],
   "source": [
    "# Setup the environment\n",
    "\n",
    "spark.sql(\"\"\"create table if not exists DEV.scd_silver_layer.users_profile_scd1\n",
    "          (\n",
    "            user_id string,\n",
    "            event_timestamp timestamp,\n",
    "            dob date,\n",
    "            sex string,\n",
    "            gender string,\n",
    "            first_name string,\n",
    "            last_name string,\n",
    "            street_address string, \n",
    "            city string, \n",
    "            state string, \n",
    "            zip string\n",
    "          ) using delta\n",
    "          \"\"\")\n",
    "\n",
    "# Checkpoint directory\n",
    "spark.sql(\"create external volume if not exists DEV.scd_silver_layer.users_profile_scd1 location 'abfss://scd-implementation@dbstorageact.dfs.core.windows.net/checkpoint/users_profile_scd1'\")\n",
    "\n",
    "spark.sql(\"\"\"create table if not exists DEV.scd_silver_layer.users_profile_scd2\n",
    "          (\n",
    "            user_id string,\n",
    "            event_timestamp timestamp,\n",
    "            dob date,\n",
    "            sex string,\n",
    "            gender string,\n",
    "            first_name string,\n",
    "            last_name string,\n",
    "            street_address string, \n",
    "            city string, \n",
    "            state string, \n",
    "            zip string,\n",
    "            start_time timestamp,\n",
    "            end_time timestamp\n",
    "          ) using delta\n",
    "          \"\"\")\n",
    "\n",
    "# Checkpoint directory\n",
    "spark.sql(\"create external volume if not exists DEV.scd_silver_layer.users_profile_scd2 location 'abfss://scd-implementation@dbstorageact.dfs.core.windows.net/checkpoint/users_profile_scd2'\")\n",
    "\n",
    "\n",
    "spark.sql(\"\"\"create table if not exists DEV.scd_silver_layer.users_profile_scd4_actv\n",
    "          (\n",
    "            user_id string,\n",
    "            event_timestamp timestamp,\n",
    "            dob date,\n",
    "            sex string,\n",
    "            gender string,\n",
    "            first_name string,\n",
    "            last_name string,\n",
    "            street_address string, \n",
    "            city string, \n",
    "            state string, \n",
    "            zip string\n",
    "          ) using delta\n",
    "          \"\"\")\n",
    "\n",
    "spark.sql(\"\"\"create table if not exists DEV.scd_silver_layer.users_profile_scd4_hist\n",
    "          (\n",
    "            user_id string,\n",
    "            event_timestamp timestamp,\n",
    "            dob date,\n",
    "            sex string,\n",
    "            gender string,\n",
    "            first_name string,\n",
    "            last_name string,\n",
    "            street_address string, \n",
    "            city string, \n",
    "            state string, \n",
    "            zip string,\n",
    "            start_time timestamp,\n",
    "            end_time timestamp\n",
    "          ) using delta\n",
    "          \"\"\")\n",
    "\n",
    "# Checkpoint directory\n",
    "spark.sql(\"create external volume if not exists DEV.scd_silver_layer.users_profile_scd4 location 'abfss://scd-implementation@dbstorageact.dfs.core.windows.net/checkpoint/users_profile_scd4'\")\n",
    "\n"
   ]
  }
 ],
 "metadata": {
  "application/vnd.databricks.v1+notebook": {
   "computePreferences": null,
   "dashboards": [],
   "environmentMetadata": {
    "base_environment": "",
    "client": "1"
   },
   "language": "python",
   "notebookMetadata": {
    "mostRecentlyExecutedCommandWithImplicitDF": {
     "commandId": 1096621804045496,
     "dataframes": [
      "_sqldf"
     ]
    },
    "pythonIndentUnit": 4
   },
   "notebookName": "SCD- Silver Layer - Setup",
   "widgets": {}
  },
  "language_info": {
   "name": "python"
  }
 },
 "nbformat": 4,
 "nbformat_minor": 0
}