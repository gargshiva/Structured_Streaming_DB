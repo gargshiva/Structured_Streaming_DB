{
 "cells": [
  {
   "cell_type": "code",
   "execution_count": 0,
   "metadata": {
    "application/vnd.databricks.v1+cell": {
     "cellMetadata": {
      "byteLimit": 2048000,
      "rowLimit": 10000
     },
     "inputWidgets": {},
     "nuid": "a8769a11-eada-4c1c-acd9-3df01aeeea61",
     "showTitle": false,
     "tableResultSettingsMap": {},
     "title": ""
    }
   },
   "outputs": [],
   "source": [
    "from pyspark.sql.functions import *\n",
    "from pyspark.sql.types import *\n",
    "\n",
    "class InvoiceBronzeLayer:\n",
    "\n",
    "    def __init__(self):\n",
    "        self.bootstrap_server = 'pkc-619z3.us-east1.gcp.confluent.cloud:9092'\n",
    "        self.jaas_module = 'org.apache.kafka.common.security.plain.PlainLoginModule'\n",
    "        self.api_key = 'OVPNJYWE56QVX4LD'\n",
    "        self.api_secret = 'LSK7hPY5Kvqpj12hiaZuLyawzvN+eOXqDXtOgyRdBAcz9j6RxQdx0DlIlSXLU7Jb'\n",
    "        self.topic = 'invoices'\n",
    "        self.delivery_add_schema = (StructType([\n",
    "            StructField(\"AddressLine\", StringType(), True),\n",
    "            StructField(\"City\", StringType(), True),\n",
    "            StructField(\"State\", StringType(), True),\n",
    "            StructField(\"PinCode\", StringType(), True),\n",
    "            StructField(\"ContactNumber\", StringType(), True)\n",
    "        ]))\n",
    "        self.line_item_schema = (StructType([\n",
    "            StructField(\"ItemCode\", StringType(), True),\n",
    "            StructField(\"ItemDescription\", StringType(), True),\n",
    "            StructField(\"ItemPrice\", DoubleType(), True),\n",
    "            StructField(\"ItemQty\", IntegerType(), True),\n",
    "            StructField(\"TotalValue\", DoubleType(), True)\n",
    "        ]))\n",
    "        self.invoice_schema = (StructType([\n",
    "            StructField(\"InvoiceNumber\", StringType(), True),\n",
    "            StructField(\"CreatedTime\", LongType(), True),\n",
    "            StructField(\"StoreID\", StringType(), True),\n",
    "            StructField(\"PosID\", StringType(), True),\n",
    "            StructField(\"CashierID\", StringType(), True),\n",
    "            StructField(\"CustomerType\", StringType(), True),\n",
    "            StructField(\"CustomerCardNo\", IntegerType(), True),\n",
    "            StructField(\"TotalAmount\", DoubleType(), True),\n",
    "            StructField(\"NumberOfItems\", IntegerType(), True),\n",
    "            StructField(\"PaymentMethod\", StringType(), True),\n",
    "            StructField(\"TaxableAmount\", DoubleType(), True),\n",
    "            StructField(\"CGST\", DoubleType(), True),\n",
    "            StructField(\"SGST\", DoubleType(), True),\n",
    "            StructField(\"CESS\", DoubleType(), True),\n",
    "            StructField(\"DeliveryType\", StringType(), True),\n",
    "            StructField(\"DeliveryAddress\", self.delivery_add_schema),\n",
    "            StructField(\"InvoiceLineItems\", ArrayType(self.line_item_schema))]))\n",
    "    \n",
    "    def load_raw_data(self):\n",
    "        raw_df = (spark\n",
    "                  .readStream\n",
    "                  .format(\"kafka\")\n",
    "                  .option(\"kafka.bootstrap.servers\", self.bootstrap_server)\n",
    "                  .option(\"kafka.security.protocol\", \"SASL_SSL\")\n",
    "                  .option(\"kafka.sasl.mechanism\", \"PLAIN\")\n",
    "                  .option(\"kafka.sasl.jaas.config\", f\"{self.jaas_module} required username='{self.api_key}' password='{self.api_secret}';\")\n",
    "                  .option(\"maxOffsetsPerTrigger\",100)\n",
    "                  #.option(\"startingTimestamp\",1)\n",
    "                  .option(\"subscribe\", self.topic)\n",
    "                  .load()\n",
    "                  )\n",
    "        \n",
    "        processed_df = raw_df.select(raw_df.key.cast(\"string\").alias(\"key\"),\n",
    "                      from_json(raw_df.value.cast(\"string\"),self.invoice_schema).alias(\"value\"),\n",
    "                      \"topic\",\"timestamp\")\n",
    "        \n",
    "        return processed_df\n",
    "    \n",
    "    # Steaming Query will pass each microbatch to this function\n",
    "    # Delta table supports ACID transaction, so we can use merge statement to upsert data.\n",
    "\n",
    "    # Must create dev.retail_store.invoices_raw table upfront. Since we are not using the toTable method, we need to create the table manually.\n",
    "    def upsert(self, processed_df, batchId):\n",
    "        processed_df.createOrReplaceTempView(\"processed_data\")\n",
    "        merge_statement = \"\"\"\n",
    "         Merge into dev.retail_store.invoices_raw t\n",
    "         using processed_data s\n",
    "         on s.value == t.value\n",
    "         when matched then update set *\n",
    "         when not matched then insert *\n",
    "        \"\"\"\n",
    "        processed_df._jdf.sparkSession().sql(merge_statement)\n",
    "    \n",
    "    def persist_to_bronze(self, processed_df):\n",
    "        bronze_layer_streaming_query = (processed_df\n",
    "                                        .writeStream\n",
    "                                        .queryName(\"bronze_layer_streaming_query\")\n",
    "                                        .format(\"delta\")\n",
    "                                        .outputMode(\"append\")\n",
    "                                        .option(\"checkPointLocation\",\"/Volumes/dev/retail_store/checkpoint_invoices_raw\")\n",
    "                                        .foreachBatch(self.upsert)\n",
    "                                        .start()\n",
    "                                        )\n",
    "        return bronze_layer_streaming_query\n",
    "    \n",
    "    def start_streaming(self):\n",
    "        processed_df = self.load_raw_data()\n",
    "        return self.persist_to_bronze(processed_df)\n",
    "\n"
   ]
  },
  {
   "cell_type": "code",
   "execution_count": 0,
   "metadata": {
    "application/vnd.databricks.v1+cell": {
     "cellMetadata": {
      "byteLimit": 2048000,
      "rowLimit": 10000
     },
     "inputWidgets": {},
     "nuid": "1b5e29dd-5d89-4e27-9ec1-309b47ee478c",
     "showTitle": false,
     "tableResultSettingsMap": {},
     "title": ""
    }
   },
   "outputs": [],
   "source": [
    "bronze_layer = InvoiceBronzeLayer()\n",
    "bronze_layer_streaming_query = bronze_layer.start_streaming()"
   ]
  },
  {
   "cell_type": "code",
   "execution_count": 0,
   "metadata": {
    "application/vnd.databricks.v1+cell": {
     "cellMetadata": {
      "byteLimit": 2048000,
      "rowLimit": 10000
     },
     "inputWidgets": {},
     "nuid": "d622fde7-4132-445e-aa9c-5dc74d1bac10",
     "showTitle": false,
     "tableResultSettingsMap": {},
     "title": ""
    }
   },
   "outputs": [],
   "source": [
    "bronze_layer_streaming_query.stop()"
   ]
  },
  {
   "cell_type": "code",
   "execution_count": 0,
   "metadata": {
    "application/vnd.databricks.v1+cell": {
     "cellMetadata": {
      "byteLimit": 2048000,
      "implicitDf": true,
      "rowLimit": 10000
     },
     "inputWidgets": {},
     "nuid": "07c6cb68-bf7a-4982-951d-afb2798c4da5",
     "showTitle": false,
     "tableResultSettingsMap": {},
     "title": ""
    }
   },
   "outputs": [
    {
     "output_type": "display_data",
     "data": {
      "text/html": [
       "<style scoped>\n",
       "  .table-result-container {\n",
       "    max-height: 300px;\n",
       "    overflow: auto;\n",
       "  }\n",
       "  table, th, td {\n",
       "    border: 1px solid black;\n",
       "    border-collapse: collapse;\n",
       "  }\n",
       "  th, td {\n",
       "    padding: 5px;\n",
       "  }\n",
       "  th {\n",
       "    text-align: left;\n",
       "  }\n",
       "</style><div class='table-result-container'><table class='table-result'><thead style='background-color: white'><tr><th>version</th><th>timestamp</th><th>userId</th><th>userName</th><th>operation</th><th>operationParameters</th><th>job</th><th>notebook</th><th>clusterId</th><th>readVersion</th><th>isolationLevel</th><th>isBlindAppend</th><th>operationMetrics</th><th>userMetadata</th><th>engineInfo</th></tr></thead><tbody><tr><td>15</td><td>2024-12-08T23:16:33Z</td><td>2533331465148935</td><td>silkykansal10@gmail.com</td><td>MERGE</td><td>Map(predicate -> [\"(value#107089 = value#123818)\"], matchedPredicates -> [{\"actionType\":\"update\"}], statsOnLoad -> false, notMatchedBySourcePredicates -> [], notMatchedPredicates -> [{\"actionType\":\"insert\"}])</td><td>null</td><td>List(171749421940014)</td><td>1129-144324-d526nqyd</td><td>13</td><td>WriteSerializable</td><td>false</td><td>Map(numTargetRowsCopied -> 0, numTargetRowsDeleted -> 0, numTargetFilesAdded -> 2, numTargetBytesAdded -> 17865, numTargetBytesRemoved -> 0, numTargetDeletionVectorsAdded -> 1, numTargetRowsMatchedUpdated -> 7, executionTimeMs -> 5090, materializeSourceTimeMs -> 871, numTargetRowsInserted -> 0, conflictDetectionTimeMs -> 86, numTargetRowsMatchedDeleted -> 0, numTargetDeletionVectorsUpdated -> 1, scanTimeMs -> 1380, numTargetRowsUpdated -> 7, numOutputRows -> 7, numTargetDeletionVectorsRemoved -> 1, numTargetRowsNotMatchedBySourceUpdated -> 0, numTargetChangeFilesAdded -> 0, numSourceRows -> 7, numTargetFilesRemoved -> 0, numTargetRowsNotMatchedBySourceDeleted -> 0, rewriteTimeMs -> 2797)</td><td>null</td><td>Databricks-Runtime/15.4.x-aarch64-scala2.12</td></tr><tr><td>14</td><td>2024-12-08T23:16:30Z</td><td>2533331465148935</td><td>silkykansal10@gmail.com</td><td>OPTIMIZE</td><td>Map(predicate -> [], auto -> true, clusterBy -> [], zOrderBy -> [], batchId -> 0)</td><td>null</td><td>List(171749421940014)</td><td>1129-144324-d526nqyd</td><td>13</td><td>SnapshotIsolation</td><td>false</td><td>Map(numRemovedFiles -> 3, numRemovedBytes -> 36250, p25FileSize -> 16136, numDeletionVectorsRemoved -> 1, minFileSize -> 16136, numAddedFiles -> 1, maxFileSize -> 16136, p75FileSize -> 16136, p50FileSize -> 16136, numAddedBytes -> 16136)</td><td>null</td><td>Databricks-Runtime/15.4.x-aarch64-scala2.12</td></tr><tr><td>13</td><td>2024-12-08T23:16:25Z</td><td>2533331465148935</td><td>silkykansal10@gmail.com</td><td>MERGE</td><td>Map(predicate -> [\"(value#107089 = value#120993)\"], matchedPredicates -> [{\"actionType\":\"update\"}], statsOnLoad -> false, notMatchedBySourcePredicates -> [], notMatchedPredicates -> [{\"actionType\":\"insert\"}])</td><td>null</td><td>List(171749421940014)</td><td>1129-144324-d526nqyd</td><td>11</td><td>WriteSerializable</td><td>false</td><td>Map(numTargetRowsCopied -> 0, numTargetRowsDeleted -> 0, numTargetFilesAdded -> 2, numTargetBytesAdded -> 20097, numTargetBytesRemoved -> 0, numTargetDeletionVectorsAdded -> 1, numTargetRowsMatchedUpdated -> 15, executionTimeMs -> 4974, materializeSourceTimeMs -> 797, numTargetRowsInserted -> 0, conflictDetectionTimeMs -> 90, numTargetRowsMatchedDeleted -> 0, numTargetDeletionVectorsUpdated -> 1, scanTimeMs -> 1372, numTargetRowsUpdated -> 15, numOutputRows -> 15, numTargetDeletionVectorsRemoved -> 1, numTargetRowsNotMatchedBySourceUpdated -> 0, numTargetChangeFilesAdded -> 0, numSourceRows -> 15, numTargetFilesRemoved -> 0, numTargetRowsNotMatchedBySourceDeleted -> 0, rewriteTimeMs -> 2782)</td><td>null</td><td>Databricks-Runtime/15.4.x-aarch64-scala2.12</td></tr><tr><td>12</td><td>2024-12-08T23:16:22Z</td><td>2533331465148935</td><td>silkykansal10@gmail.com</td><td>OPTIMIZE</td><td>Map(predicate -> [], auto -> true, clusterBy -> [], zOrderBy -> [], batchId -> 0)</td><td>null</td><td>List(171749421940014)</td><td>1129-144324-d526nqyd</td><td>11</td><td>SnapshotIsolation</td><td>false</td><td>Map(numRemovedFiles -> 3, numRemovedBytes -> 36134, p25FileSize -> 16153, numDeletionVectorsRemoved -> 1, minFileSize -> 16153, numAddedFiles -> 1, maxFileSize -> 16153, p75FileSize -> 16153, p50FileSize -> 16153, numAddedBytes -> 16153)</td><td>null</td><td>Databricks-Runtime/15.4.x-aarch64-scala2.12</td></tr><tr><td>11</td><td>2024-12-08T23:16:18Z</td><td>2533331465148935</td><td>silkykansal10@gmail.com</td><td>MERGE</td><td>Map(predicate -> [\"(value#107089 = value#118339)\"], matchedPredicates -> [{\"actionType\":\"update\"}], statsOnLoad -> false, notMatchedBySourcePredicates -> [], notMatchedPredicates -> [{\"actionType\":\"insert\"}])</td><td>null</td><td>List(171749421940014)</td><td>1129-144324-d526nqyd</td><td>9</td><td>WriteSerializable</td><td>false</td><td>Map(numTargetRowsCopied -> 0, numTargetRowsDeleted -> 0, numTargetFilesAdded -> 2, numTargetBytesAdded -> 19954, numTargetBytesRemoved -> 37115, numTargetDeletionVectorsAdded -> 2, numTargetRowsMatchedUpdated -> 14, executionTimeMs -> 4910, materializeSourceTimeMs -> 796, numTargetRowsInserted -> 0, conflictDetectionTimeMs -> 328, numTargetRowsMatchedDeleted -> 0, numTargetDeletionVectorsUpdated -> 0, scanTimeMs -> 1312, numTargetRowsUpdated -> 14, numOutputRows -> 14, numTargetDeletionVectorsRemoved -> 2, numTargetRowsNotMatchedBySourceUpdated -> 0, numTargetChangeFilesAdded -> 0, numSourceRows -> 14, numTargetFilesRemoved -> 4, numTargetRowsNotMatchedBySourceDeleted -> 0, rewriteTimeMs -> 2776)</td><td>null</td><td>Databricks-Runtime/15.4.x-aarch64-scala2.12</td></tr><tr><td>10</td><td>2024-12-08T23:16:15Z</td><td>2533331465148935</td><td>silkykansal10@gmail.com</td><td>OPTIMIZE</td><td>Map(predicate -> [], auto -> true, clusterBy -> [], zOrderBy -> [], batchId -> 0)</td><td>null</td><td>List(171749421940014)</td><td>1129-144324-d526nqyd</td><td>9</td><td>SnapshotIsolation</td><td>false</td><td>Map(numRemovedFiles -> 13, numRemovedBytes -> 121122, p25FileSize -> 16180, numDeletionVectorsRemoved -> 2, minFileSize -> 16180, numAddedFiles -> 1, maxFileSize -> 16180, p75FileSize -> 16180, p50FileSize -> 16180, numAddedBytes -> 16180)</td><td>null</td><td>Databricks-Runtime/15.4.x-aarch64-scala2.12</td></tr><tr><td>9</td><td>2024-12-08T23:16:10Z</td><td>2533331465148935</td><td>silkykansal10@gmail.com</td><td>MERGE</td><td>Map(predicate -> [\"(value#107089 = value#116634)\"], matchedPredicates -> [{\"actionType\":\"update\"}], statsOnLoad -> false, notMatchedBySourcePredicates -> [], notMatchedPredicates -> [{\"actionType\":\"insert\"}])</td><td>null</td><td>List(171749421940014)</td><td>1129-144324-d526nqyd</td><td>8</td><td>WriteSerializable</td><td>false</td><td>Map(numTargetRowsCopied -> 0, numTargetRowsDeleted -> 0, numTargetFilesAdded -> 2, numTargetBytesAdded -> 19725, numTargetBytesRemoved -> 18658, numTargetDeletionVectorsAdded -> 2, numTargetRowsMatchedUpdated -> 13, executionTimeMs -> 4694, materializeSourceTimeMs -> 711, numTargetRowsInserted -> 0, numTargetRowsMatchedDeleted -> 0, numTargetDeletionVectorsUpdated -> 0, scanTimeMs -> 1211, numTargetRowsUpdated -> 13, numOutputRows -> 13, numTargetDeletionVectorsRemoved -> 0, numTargetRowsNotMatchedBySourceUpdated -> 0, numTargetChangeFilesAdded -> 0, numSourceRows -> 13, numTargetFilesRemoved -> 2, numTargetRowsNotMatchedBySourceDeleted -> 0, rewriteTimeMs -> 2748)</td><td>null</td><td>Databricks-Runtime/15.4.x-aarch64-scala2.12</td></tr><tr><td>8</td><td>2024-12-08T23:16:03Z</td><td>2533331465148935</td><td>silkykansal10@gmail.com</td><td>MERGE</td><td>Map(predicate -> [\"(value#107089 = value#115547)\"], matchedPredicates -> [{\"actionType\":\"update\"}], statsOnLoad -> false, notMatchedBySourcePredicates -> [], notMatchedPredicates -> [{\"actionType\":\"insert\"}])</td><td>null</td><td>List(171749421940014)</td><td>1129-144324-d526nqyd</td><td>7</td><td>WriteSerializable</td><td>false</td><td>Map(numTargetRowsCopied -> 0, numTargetRowsDeleted -> 0, numTargetFilesAdded -> 1, numTargetBytesAdded -> 8270, numTargetBytesRemoved -> 8270, numTargetDeletionVectorsAdded -> 0, numTargetRowsMatchedUpdated -> 1, executionTimeMs -> 3211, materializeSourceTimeMs -> 748, numTargetRowsInserted -> 0, numTargetRowsMatchedDeleted -> 0, numTargetDeletionVectorsUpdated -> 0, scanTimeMs -> 928, numTargetRowsUpdated -> 1, numOutputRows -> 1, numTargetDeletionVectorsRemoved -> 0, numTargetRowsNotMatchedBySourceUpdated -> 0, numTargetChangeFilesAdded -> 0, numSourceRows -> 1, numTargetFilesRemoved -> 1, numTargetRowsNotMatchedBySourceDeleted -> 0, rewriteTimeMs -> 1482)</td><td>null</td><td>Databricks-Runtime/15.4.x-aarch64-scala2.12</td></tr><tr><td>7</td><td>2024-12-08T23:15:05Z</td><td>2533331465148935</td><td>silkykansal10@gmail.com</td><td>MERGE</td><td>Map(predicate -> [\"(value#107089 = value#113875)\"], matchedPredicates -> [{\"actionType\":\"update\"}], statsOnLoad -> false, notMatchedBySourcePredicates -> [], notMatchedPredicates -> [{\"actionType\":\"insert\"}])</td><td>null</td><td>List(171749421940014)</td><td>1129-144324-d526nqyd</td><td>6</td><td>WriteSerializable</td><td>false</td><td>Map(numTargetRowsCopied -> 0, numTargetRowsDeleted -> 0, numTargetFilesAdded -> 2, numTargetBytesAdded -> 18733, numTargetBytesRemoved -> 0, numTargetDeletionVectorsAdded -> 0, numTargetRowsMatchedUpdated -> 0, executionTimeMs -> 2910, materializeSourceTimeMs -> 731, numTargetRowsInserted -> 8, numTargetRowsMatchedDeleted -> 0, numTargetDeletionVectorsUpdated -> 0, scanTimeMs -> 937, numTargetRowsUpdated -> 0, numOutputRows -> 8, numTargetDeletionVectorsRemoved -> 0, numTargetRowsNotMatchedBySourceUpdated -> 0, numTargetChangeFilesAdded -> 0, numSourceRows -> 8, numTargetFilesRemoved -> 0, numTargetRowsNotMatchedBySourceDeleted -> 0, rewriteTimeMs -> 706)</td><td>null</td><td>Databricks-Runtime/15.4.x-aarch64-scala2.12</td></tr><tr><td>6</td><td>2024-12-08T23:14:59Z</td><td>2533331465148935</td><td>silkykansal10@gmail.com</td><td>MERGE</td><td>Map(predicate -> [\"(value#107089 = value#112751)\"], matchedPredicates -> [{\"actionType\":\"update\"}], statsOnLoad -> false, notMatchedBySourcePredicates -> [], notMatchedPredicates -> [{\"actionType\":\"insert\"}])</td><td>null</td><td>List(171749421940014)</td><td>1129-144324-d526nqyd</td><td>5</td><td>WriteSerializable</td><td>false</td><td>Map(numTargetRowsCopied -> 0, numTargetRowsDeleted -> 0, numTargetFilesAdded -> 2, numTargetBytesAdded -> 18495, numTargetBytesRemoved -> 0, numTargetDeletionVectorsAdded -> 0, numTargetRowsMatchedUpdated -> 0, executionTimeMs -> 2190, materializeSourceTimeMs -> 629, numTargetRowsInserted -> 7, numTargetRowsMatchedDeleted -> 0, numTargetDeletionVectorsUpdated -> 0, scanTimeMs -> 802, numTargetRowsUpdated -> 0, numOutputRows -> 7, numTargetDeletionVectorsRemoved -> 0, numTargetRowsNotMatchedBySourceUpdated -> 0, numTargetChangeFilesAdded -> 0, numSourceRows -> 7, numTargetFilesRemoved -> 0, numTargetRowsNotMatchedBySourceDeleted -> 0, rewriteTimeMs -> 738)</td><td>null</td><td>Databricks-Runtime/15.4.x-aarch64-scala2.12</td></tr><tr><td>5</td><td>2024-12-08T23:14:56Z</td><td>2533331465148935</td><td>silkykansal10@gmail.com</td><td>MERGE</td><td>Map(predicate -> [\"(value#107089 = value#111627)\"], matchedPredicates -> [{\"actionType\":\"update\"}], statsOnLoad -> false, notMatchedBySourcePredicates -> [], notMatchedPredicates -> [{\"actionType\":\"insert\"}])</td><td>null</td><td>List(171749421940014)</td><td>1129-144324-d526nqyd</td><td>4</td><td>WriteSerializable</td><td>false</td><td>Map(numTargetRowsCopied -> 0, numTargetRowsDeleted -> 0, numTargetFilesAdded -> 2, numTargetBytesAdded -> 18784, numTargetBytesRemoved -> 0, numTargetDeletionVectorsAdded -> 0, numTargetRowsMatchedUpdated -> 0, executionTimeMs -> 2370, materializeSourceTimeMs -> 702, numTargetRowsInserted -> 9, numTargetRowsMatchedDeleted -> 0, numTargetDeletionVectorsUpdated -> 0, scanTimeMs -> 1040, numTargetRowsUpdated -> 0, numOutputRows -> 9, numTargetDeletionVectorsRemoved -> 0, numTargetRowsNotMatchedBySourceUpdated -> 0, numTargetChangeFilesAdded -> 0, numSourceRows -> 9, numTargetFilesRemoved -> 0, numTargetRowsNotMatchedBySourceDeleted -> 0, rewriteTimeMs -> 605)</td><td>null</td><td>Databricks-Runtime/15.4.x-aarch64-scala2.12</td></tr><tr><td>4</td><td>2024-12-08T23:14:51Z</td><td>2533331465148935</td><td>silkykansal10@gmail.com</td><td>MERGE</td><td>Map(predicate -> [\"(value#107089 = value#110503)\"], matchedPredicates -> [{\"actionType\":\"update\"}], statsOnLoad -> false, notMatchedBySourcePredicates -> [], notMatchedPredicates -> [{\"actionType\":\"insert\"}])</td><td>null</td><td>List(171749421940014)</td><td>1129-144324-d526nqyd</td><td>3</td><td>WriteSerializable</td><td>false</td><td>Map(numTargetRowsCopied -> 0, numTargetRowsDeleted -> 0, numTargetFilesAdded -> 2, numTargetBytesAdded -> 18169, numTargetBytesRemoved -> 0, numTargetDeletionVectorsAdded -> 0, numTargetRowsMatchedUpdated -> 0, executionTimeMs -> 1915, materializeSourceTimeMs -> 656, numTargetRowsInserted -> 8, numTargetRowsMatchedDeleted -> 0, numTargetDeletionVectorsUpdated -> 0, scanTimeMs -> 732, numTargetRowsUpdated -> 0, numOutputRows -> 8, numTargetDeletionVectorsRemoved -> 0, numTargetRowsNotMatchedBySourceUpdated -> 0, numTargetChangeFilesAdded -> 0, numSourceRows -> 8, numTargetFilesRemoved -> 0, numTargetRowsNotMatchedBySourceDeleted -> 0, rewriteTimeMs -> 503)</td><td>null</td><td>Databricks-Runtime/15.4.x-aarch64-scala2.12</td></tr><tr><td>3</td><td>2024-12-08T23:14:47Z</td><td>2533331465148935</td><td>silkykansal10@gmail.com</td><td>MERGE</td><td>Map(predicate -> [\"(value#107089 = value#109379)\"], matchedPredicates -> [{\"actionType\":\"update\"}], statsOnLoad -> false, notMatchedBySourcePredicates -> [], notMatchedPredicates -> [{\"actionType\":\"insert\"}])</td><td>null</td><td>List(171749421940014)</td><td>1129-144324-d526nqyd</td><td>2</td><td>WriteSerializable</td><td>false</td><td>Map(numTargetRowsCopied -> 0, numTargetRowsDeleted -> 0, numTargetFilesAdded -> 2, numTargetBytesAdded -> 18946, numTargetBytesRemoved -> 0, numTargetDeletionVectorsAdded -> 0, numTargetRowsMatchedUpdated -> 0, executionTimeMs -> 2367, materializeSourceTimeMs -> 697, numTargetRowsInserted -> 9, numTargetRowsMatchedDeleted -> 0, numTargetDeletionVectorsUpdated -> 0, scanTimeMs -> 1016, numTargetRowsUpdated -> 0, numOutputRows -> 9, numTargetDeletionVectorsRemoved -> 0, numTargetRowsNotMatchedBySourceUpdated -> 0, numTargetChangeFilesAdded -> 0, numSourceRows -> 9, numTargetFilesRemoved -> 0, numTargetRowsNotMatchedBySourceDeleted -> 0, rewriteTimeMs -> 627)</td><td>null</td><td>Databricks-Runtime/15.4.x-aarch64-scala2.12</td></tr><tr><td>2</td><td>2024-12-08T23:14:43Z</td><td>2533331465148935</td><td>silkykansal10@gmail.com</td><td>MERGE</td><td>Map(predicate -> [\"(value#107089 = value#108255)\"], matchedPredicates -> [{\"actionType\":\"update\"}], statsOnLoad -> false, notMatchedBySourcePredicates -> [], notMatchedPredicates -> [{\"actionType\":\"insert\"}])</td><td>null</td><td>List(171749421940014)</td><td>1129-144324-d526nqyd</td><td>1</td><td>WriteSerializable</td><td>false</td><td>Map(numTargetRowsCopied -> 0, numTargetRowsDeleted -> 0, numTargetFilesAdded -> 2, numTargetBytesAdded -> 18658, numTargetBytesRemoved -> 0, numTargetDeletionVectorsAdded -> 0, numTargetRowsMatchedUpdated -> 0, executionTimeMs -> 2571, materializeSourceTimeMs -> 1092, numTargetRowsInserted -> 8, numTargetRowsMatchedDeleted -> 0, numTargetDeletionVectorsUpdated -> 0, scanTimeMs -> 992, numTargetRowsUpdated -> 0, numOutputRows -> 8, numTargetDeletionVectorsRemoved -> 0, numTargetRowsNotMatchedBySourceUpdated -> 0, numTargetChangeFilesAdded -> 0, numSourceRows -> 8, numTargetFilesRemoved -> 0, numTargetRowsNotMatchedBySourceDeleted -> 0, rewriteTimeMs -> 469)</td><td>null</td><td>Databricks-Runtime/15.4.x-aarch64-scala2.12</td></tr><tr><td>1</td><td>2024-12-08T23:14:39Z</td><td>2533331465148935</td><td>silkykansal10@gmail.com</td><td>MERGE</td><td>Map(predicate -> [\"(value#107089 = value#107314)\"], matchedPredicates -> [{\"actionType\":\"update\"}], statsOnLoad -> false, notMatchedBySourcePredicates -> [], notMatchedPredicates -> [{\"actionType\":\"insert\"}])</td><td>null</td><td>List(171749421940014)</td><td>1129-144324-d526nqyd</td><td>0</td><td>WriteSerializable</td><td>false</td><td>Map(numTargetRowsCopied -> 0, numTargetRowsDeleted -> 0, numTargetFilesAdded -> 1, numTargetBytesAdded -> 8270, numTargetBytesRemoved -> 0, numTargetDeletionVectorsAdded -> 0, numTargetRowsMatchedUpdated -> 0, executionTimeMs -> 2517, materializeSourceTimeMs -> 1084, numTargetRowsInserted -> 1, numTargetRowsMatchedDeleted -> 0, numTargetDeletionVectorsUpdated -> 0, scanTimeMs -> 581, numTargetRowsUpdated -> 0, numOutputRows -> 1, numTargetDeletionVectorsRemoved -> 0, numTargetRowsNotMatchedBySourceUpdated -> 0, numTargetChangeFilesAdded -> 0, numSourceRows -> 1, numTargetFilesRemoved -> 0, numTargetRowsNotMatchedBySourceDeleted -> 0, rewriteTimeMs -> 822)</td><td>null</td><td>Databricks-Runtime/15.4.x-aarch64-scala2.12</td></tr><tr><td>0</td><td>2024-12-08T23:13:55Z</td><td>2533331465148935</td><td>silkykansal10@gmail.com</td><td>CREATE TABLE</td><td>Map(partitionBy -> [], clusterBy -> [], description -> null, isManaged -> true, properties -> {\"delta.enableDeletionVectors\":\"true\"}, statsOnLoad -> false)</td><td>null</td><td>List(3312121708906007)</td><td>1129-144324-d526nqyd</td><td>null</td><td>WriteSerializable</td><td>true</td><td>Map()</td><td>null</td><td>Databricks-Runtime/15.4.x-aarch64-scala2.12</td></tr></tbody></table></div>"
      ]
     },
     "metadata": {
      "application/vnd.databricks.v1+output": {
       "addedWidgets": {},
       "aggData": [],
       "aggError": "",
       "aggOverflow": false,
       "aggSchema": [],
       "aggSeriesLimitReached": false,
       "aggType": "",
       "arguments": {},
       "columnCustomDisplayInfos": {},
       "data": [
        [
         15,
         "2024-12-08T23:16:33Z",
         "2533331465148935",
         "silkykansal10@gmail.com",
         "MERGE",
         {
          "matchedPredicates": "[{\"actionType\":\"update\"}]",
          "notMatchedBySourcePredicates": "[]",
          "notMatchedPredicates": "[{\"actionType\":\"insert\"}]",
          "predicate": "[\"(value#107089 = value#123818)\"]",
          "statsOnLoad": "false"
         },
         null,
         [
          "171749421940014"
         ],
         "1129-144324-d526nqyd",
         13,
         "WriteSerializable",
         false,
         {
          "conflictDetectionTimeMs": "86",
          "executionTimeMs": "5090",
          "materializeSourceTimeMs": "871",
          "numOutputRows": "7",
          "numSourceRows": "7",
          "numTargetBytesAdded": "17865",
          "numTargetBytesRemoved": "0",
          "numTargetChangeFilesAdded": "0",
          "numTargetDeletionVectorsAdded": "1",
          "numTargetDeletionVectorsRemoved": "1",
          "numTargetDeletionVectorsUpdated": "1",
          "numTargetFilesAdded": "2",
          "numTargetFilesRemoved": "0",
          "numTargetRowsCopied": "0",
          "numTargetRowsDeleted": "0",
          "numTargetRowsInserted": "0",
          "numTargetRowsMatchedDeleted": "0",
          "numTargetRowsMatchedUpdated": "7",
          "numTargetRowsNotMatchedBySourceDeleted": "0",
          "numTargetRowsNotMatchedBySourceUpdated": "0",
          "numTargetRowsUpdated": "7",
          "rewriteTimeMs": "2797",
          "scanTimeMs": "1380"
         },
         null,
         "Databricks-Runtime/15.4.x-aarch64-scala2.12"
        ],
        [
         14,
         "2024-12-08T23:16:30Z",
         "2533331465148935",
         "silkykansal10@gmail.com",
         "OPTIMIZE",
         {
          "auto": "true",
          "batchId": "0",
          "clusterBy": "[]",
          "predicate": "[]",
          "zOrderBy": "[]"
         },
         null,
         [
          "171749421940014"
         ],
         "1129-144324-d526nqyd",
         13,
         "SnapshotIsolation",
         false,
         {
          "maxFileSize": "16136",
          "minFileSize": "16136",
          "numAddedBytes": "16136",
          "numAddedFiles": "1",
          "numDeletionVectorsRemoved": "1",
          "numRemovedBytes": "36250",
          "numRemovedFiles": "3",
          "p25FileSize": "16136",
          "p50FileSize": "16136",
          "p75FileSize": "16136"
         },
         null,
         "Databricks-Runtime/15.4.x-aarch64-scala2.12"
        ],
        [
         13,
         "2024-12-08T23:16:25Z",
         "2533331465148935",
         "silkykansal10@gmail.com",
         "MERGE",
         {
          "matchedPredicates": "[{\"actionType\":\"update\"}]",
          "notMatchedBySourcePredicates": "[]",
          "notMatchedPredicates": "[{\"actionType\":\"insert\"}]",
          "predicate": "[\"(value#107089 = value#120993)\"]",
          "statsOnLoad": "false"
         },
         null,
         [
          "171749421940014"
         ],
         "1129-144324-d526nqyd",
         11,
         "WriteSerializable",
         false,
         {
          "conflictDetectionTimeMs": "90",
          "executionTimeMs": "4974",
          "materializeSourceTimeMs": "797",
          "numOutputRows": "15",
          "numSourceRows": "15",
          "numTargetBytesAdded": "20097",
          "numTargetBytesRemoved": "0",
          "numTargetChangeFilesAdded": "0",
          "numTargetDeletionVectorsAdded": "1",
          "numTargetDeletionVectorsRemoved": "1",
          "numTargetDeletionVectorsUpdated": "1",
          "numTargetFilesAdded": "2",
          "numTargetFilesRemoved": "0",
          "numTargetRowsCopied": "0",
          "numTargetRowsDeleted": "0",
          "numTargetRowsInserted": "0",
          "numTargetRowsMatchedDeleted": "0",
          "numTargetRowsMatchedUpdated": "15",
          "numTargetRowsNotMatchedBySourceDeleted": "0",
          "numTargetRowsNotMatchedBySourceUpdated": "0",
          "numTargetRowsUpdated": "15",
          "rewriteTimeMs": "2782",
          "scanTimeMs": "1372"
         },
         null,
         "Databricks-Runtime/15.4.x-aarch64-scala2.12"
        ],
        [
         12,
         "2024-12-08T23:16:22Z",
         "2533331465148935",
         "silkykansal10@gmail.com",
         "OPTIMIZE",
         {
          "auto": "true",
          "batchId": "0",
          "clusterBy": "[]",
          "predicate": "[]",
          "zOrderBy": "[]"
         },
         null,
         [
          "171749421940014"
         ],
         "1129-144324-d526nqyd",
         11,
         "SnapshotIsolation",
         false,
         {
          "maxFileSize": "16153",
          "minFileSize": "16153",
          "numAddedBytes": "16153",
          "numAddedFiles": "1",
          "numDeletionVectorsRemoved": "1",
          "numRemovedBytes": "36134",
          "numRemovedFiles": "3",
          "p25FileSize": "16153",
          "p50FileSize": "16153",
          "p75FileSize": "16153"
         },
         null,
         "Databricks-Runtime/15.4.x-aarch64-scala2.12"
        ],
        [
         11,
         "2024-12-08T23:16:18Z",
         "2533331465148935",
         "silkykansal10@gmail.com",
         "MERGE",
         {
          "matchedPredicates": "[{\"actionType\":\"update\"}]",
          "notMatchedBySourcePredicates": "[]",
          "notMatchedPredicates": "[{\"actionType\":\"insert\"}]",
          "predicate": "[\"(value#107089 = value#118339)\"]",
          "statsOnLoad": "false"
         },
         null,
         [
          "171749421940014"
         ],
         "1129-144324-d526nqyd",
         9,
         "WriteSerializable",
         false,
         {
          "conflictDetectionTimeMs": "328",
          "executionTimeMs": "4910",
          "materializeSourceTimeMs": "796",
          "numOutputRows": "14",
          "numSourceRows": "14",
          "numTargetBytesAdded": "19954",
          "numTargetBytesRemoved": "37115",
          "numTargetChangeFilesAdded": "0",
          "numTargetDeletionVectorsAdded": "2",
          "numTargetDeletionVectorsRemoved": "2",
          "numTargetDeletionVectorsUpdated": "0",
          "numTargetFilesAdded": "2",
          "numTargetFilesRemoved": "4",
          "numTargetRowsCopied": "0",
          "numTargetRowsDeleted": "0",
          "numTargetRowsInserted": "0",
          "numTargetRowsMatchedDeleted": "0",
          "numTargetRowsMatchedUpdated": "14",
          "numTargetRowsNotMatchedBySourceDeleted": "0",
          "numTargetRowsNotMatchedBySourceUpdated": "0",
          "numTargetRowsUpdated": "14",
          "rewriteTimeMs": "2776",
          "scanTimeMs": "1312"
         },
         null,
         "Databricks-Runtime/15.4.x-aarch64-scala2.12"
        ],
        [
         10,
         "2024-12-08T23:16:15Z",
         "2533331465148935",
         "silkykansal10@gmail.com",
         "OPTIMIZE",
         {
          "auto": "true",
          "batchId": "0",
          "clusterBy": "[]",
          "predicate": "[]",
          "zOrderBy": "[]"
         },
         null,
         [
          "171749421940014"
         ],
         "1129-144324-d526nqyd",
         9,
         "SnapshotIsolation",
         false,
         {
          "maxFileSize": "16180",
          "minFileSize": "16180",
          "numAddedBytes": "16180",
          "numAddedFiles": "1",
          "numDeletionVectorsRemoved": "2",
          "numRemovedBytes": "121122",
          "numRemovedFiles": "13",
          "p25FileSize": "16180",
          "p50FileSize": "16180",
          "p75FileSize": "16180"
         },
         null,
         "Databricks-Runtime/15.4.x-aarch64-scala2.12"
        ],
        [
         9,
         "2024-12-08T23:16:10Z",
         "2533331465148935",
         "silkykansal10@gmail.com",
         "MERGE",
         {
          "matchedPredicates": "[{\"actionType\":\"update\"}]",
          "notMatchedBySourcePredicates": "[]",
          "notMatchedPredicates": "[{\"actionType\":\"insert\"}]",
          "predicate": "[\"(value#107089 = value#116634)\"]",
          "statsOnLoad": "false"
         },
         null,
         [
          "171749421940014"
         ],
         "1129-144324-d526nqyd",
         8,
         "WriteSerializable",
         false,
         {
          "executionTimeMs": "4694",
          "materializeSourceTimeMs": "711",
          "numOutputRows": "13",
          "numSourceRows": "13",
          "numTargetBytesAdded": "19725",
          "numTargetBytesRemoved": "18658",
          "numTargetChangeFilesAdded": "0",
          "numTargetDeletionVectorsAdded": "2",
          "numTargetDeletionVectorsRemoved": "0",
          "numTargetDeletionVectorsUpdated": "0",
          "numTargetFilesAdded": "2",
          "numTargetFilesRemoved": "2",
          "numTargetRowsCopied": "0",
          "numTargetRowsDeleted": "0",
          "numTargetRowsInserted": "0",
          "numTargetRowsMatchedDeleted": "0",
          "numTargetRowsMatchedUpdated": "13",
          "numTargetRowsNotMatchedBySourceDeleted": "0",
          "numTargetRowsNotMatchedBySourceUpdated": "0",
          "numTargetRowsUpdated": "13",
          "rewriteTimeMs": "2748",
          "scanTimeMs": "1211"
         },
         null,
         "Databricks-Runtime/15.4.x-aarch64-scala2.12"
        ],
        [
         8,
         "2024-12-08T23:16:03Z",
         "2533331465148935",
         "silkykansal10@gmail.com",
         "MERGE",
         {
          "matchedPredicates": "[{\"actionType\":\"update\"}]",
          "notMatchedBySourcePredicates": "[]",
          "notMatchedPredicates": "[{\"actionType\":\"insert\"}]",
          "predicate": "[\"(value#107089 = value#115547)\"]",
          "statsOnLoad": "false"
         },
         null,
         [
          "171749421940014"
         ],
         "1129-144324-d526nqyd",
         7,
         "WriteSerializable",
         false,
         {
          "executionTimeMs": "3211",
          "materializeSourceTimeMs": "748",
          "numOutputRows": "1",
          "numSourceRows": "1",
          "numTargetBytesAdded": "8270",
          "numTargetBytesRemoved": "8270",
          "numTargetChangeFilesAdded": "0",
          "numTargetDeletionVectorsAdded": "0",
          "numTargetDeletionVectorsRemoved": "0",
          "numTargetDeletionVectorsUpdated": "0",
          "numTargetFilesAdded": "1",
          "numTargetFilesRemoved": "1",
          "numTargetRowsCopied": "0",
          "numTargetRowsDeleted": "0",
          "numTargetRowsInserted": "0",
          "numTargetRowsMatchedDeleted": "0",
          "numTargetRowsMatchedUpdated": "1",
          "numTargetRowsNotMatchedBySourceDeleted": "0",
          "numTargetRowsNotMatchedBySourceUpdated": "0",
          "numTargetRowsUpdated": "1",
          "rewriteTimeMs": "1482",
          "scanTimeMs": "928"
         },
         null,
         "Databricks-Runtime/15.4.x-aarch64-scala2.12"
        ],
        [
         7,
         "2024-12-08T23:15:05Z",
         "2533331465148935",
         "silkykansal10@gmail.com",
         "MERGE",
         {
          "matchedPredicates": "[{\"actionType\":\"update\"}]",
          "notMatchedBySourcePredicates": "[]",
          "notMatchedPredicates": "[{\"actionType\":\"insert\"}]",
          "predicate": "[\"(value#107089 = value#113875)\"]",
          "statsOnLoad": "false"
         },
         null,
         [
          "171749421940014"
         ],
         "1129-144324-d526nqyd",
         6,
         "WriteSerializable",
         false,
         {
          "executionTimeMs": "2910",
          "materializeSourceTimeMs": "731",
          "numOutputRows": "8",
          "numSourceRows": "8",
          "numTargetBytesAdded": "18733",
          "numTargetBytesRemoved": "0",
          "numTargetChangeFilesAdded": "0",
          "numTargetDeletionVectorsAdded": "0",
          "numTargetDeletionVectorsRemoved": "0",
          "numTargetDeletionVectorsUpdated": "0",
          "numTargetFilesAdded": "2",
          "numTargetFilesRemoved": "0",
          "numTargetRowsCopied": "0",
          "numTargetRowsDeleted": "0",
          "numTargetRowsInserted": "8",
          "numTargetRowsMatchedDeleted": "0",
          "numTargetRowsMatchedUpdated": "0",
          "numTargetRowsNotMatchedBySourceDeleted": "0",
          "numTargetRowsNotMatchedBySourceUpdated": "0",
          "numTargetRowsUpdated": "0",
          "rewriteTimeMs": "706",
          "scanTimeMs": "937"
         },
         null,
         "Databricks-Runtime/15.4.x-aarch64-scala2.12"
        ],
        [
         6,
         "2024-12-08T23:14:59Z",
         "2533331465148935",
         "silkykansal10@gmail.com",
         "MERGE",
         {
          "matchedPredicates": "[{\"actionType\":\"update\"}]",
          "notMatchedBySourcePredicates": "[]",
          "notMatchedPredicates": "[{\"actionType\":\"insert\"}]",
          "predicate": "[\"(value#107089 = value#112751)\"]",
          "statsOnLoad": "false"
         },
         null,
         [
          "171749421940014"
         ],
         "1129-144324-d526nqyd",
         5,
         "WriteSerializable",
         false,
         {
          "executionTimeMs": "2190",
          "materializeSourceTimeMs": "629",
          "numOutputRows": "7",
          "numSourceRows": "7",
          "numTargetBytesAdded": "18495",
          "numTargetBytesRemoved": "0",
          "numTargetChangeFilesAdded": "0",
          "numTargetDeletionVectorsAdded": "0",
          "numTargetDeletionVectorsRemoved": "0",
          "numTargetDeletionVectorsUpdated": "0",
          "numTargetFilesAdded": "2",
          "numTargetFilesRemoved": "0",
          "numTargetRowsCopied": "0",
          "numTargetRowsDeleted": "0",
          "numTargetRowsInserted": "7",
          "numTargetRowsMatchedDeleted": "0",
          "numTargetRowsMatchedUpdated": "0",
          "numTargetRowsNotMatchedBySourceDeleted": "0",
          "numTargetRowsNotMatchedBySourceUpdated": "0",
          "numTargetRowsUpdated": "0",
          "rewriteTimeMs": "738",
          "scanTimeMs": "802"
         },
         null,
         "Databricks-Runtime/15.4.x-aarch64-scala2.12"
        ],
        [
         5,
         "2024-12-08T23:14:56Z",
         "2533331465148935",
         "silkykansal10@gmail.com",
         "MERGE",
         {
          "matchedPredicates": "[{\"actionType\":\"update\"}]",
          "notMatchedBySourcePredicates": "[]",
          "notMatchedPredicates": "[{\"actionType\":\"insert\"}]",
          "predicate": "[\"(value#107089 = value#111627)\"]",
          "statsOnLoad": "false"
         },
         null,
         [
          "171749421940014"
         ],
         "1129-144324-d526nqyd",
         4,
         "WriteSerializable",
         false,
         {
          "executionTimeMs": "2370",
          "materializeSourceTimeMs": "702",
          "numOutputRows": "9",
          "numSourceRows": "9",
          "numTargetBytesAdded": "18784",
          "numTargetBytesRemoved": "0",
          "numTargetChangeFilesAdded": "0",
          "numTargetDeletionVectorsAdded": "0",
          "numTargetDeletionVectorsRemoved": "0",
          "numTargetDeletionVectorsUpdated": "0",
          "numTargetFilesAdded": "2",
          "numTargetFilesRemoved": "0",
          "numTargetRowsCopied": "0",
          "numTargetRowsDeleted": "0",
          "numTargetRowsInserted": "9",
          "numTargetRowsMatchedDeleted": "0",
          "numTargetRowsMatchedUpdated": "0",
          "numTargetRowsNotMatchedBySourceDeleted": "0",
          "numTargetRowsNotMatchedBySourceUpdated": "0",
          "numTargetRowsUpdated": "0",
          "rewriteTimeMs": "605",
          "scanTimeMs": "1040"
         },
         null,
         "Databricks-Runtime/15.4.x-aarch64-scala2.12"
        ],
        [
         4,
         "2024-12-08T23:14:51Z",
         "2533331465148935",
         "silkykansal10@gmail.com",
         "MERGE",
         {
          "matchedPredicates": "[{\"actionType\":\"update\"}]",
          "notMatchedBySourcePredicates": "[]",
          "notMatchedPredicates": "[{\"actionType\":\"insert\"}]",
          "predicate": "[\"(value#107089 = value#110503)\"]",
          "statsOnLoad": "false"
         },
         null,
         [
          "171749421940014"
         ],
         "1129-144324-d526nqyd",
         3,
         "WriteSerializable",
         false,
         {
          "executionTimeMs": "1915",
          "materializeSourceTimeMs": "656",
          "numOutputRows": "8",
          "numSourceRows": "8",
          "numTargetBytesAdded": "18169",
          "numTargetBytesRemoved": "0",
          "numTargetChangeFilesAdded": "0",
          "numTargetDeletionVectorsAdded": "0",
          "numTargetDeletionVectorsRemoved": "0",
          "numTargetDeletionVectorsUpdated": "0",
          "numTargetFilesAdded": "2",
          "numTargetFilesRemoved": "0",
          "numTargetRowsCopied": "0",
          "numTargetRowsDeleted": "0",
          "numTargetRowsInserted": "8",
          "numTargetRowsMatchedDeleted": "0",
          "numTargetRowsMatchedUpdated": "0",
          "numTargetRowsNotMatchedBySourceDeleted": "0",
          "numTargetRowsNotMatchedBySourceUpdated": "0",
          "numTargetRowsUpdated": "0",
          "rewriteTimeMs": "503",
          "scanTimeMs": "732"
         },
         null,
         "Databricks-Runtime/15.4.x-aarch64-scala2.12"
        ],
        [
         3,
         "2024-12-08T23:14:47Z",
         "2533331465148935",
         "silkykansal10@gmail.com",
         "MERGE",
         {
          "matchedPredicates": "[{\"actionType\":\"update\"}]",
          "notMatchedBySourcePredicates": "[]",
          "notMatchedPredicates": "[{\"actionType\":\"insert\"}]",
          "predicate": "[\"(value#107089 = value#109379)\"]",
          "statsOnLoad": "false"
         },
         null,
         [
          "171749421940014"
         ],
         "1129-144324-d526nqyd",
         2,
         "WriteSerializable",
         false,
         {
          "executionTimeMs": "2367",
          "materializeSourceTimeMs": "697",
          "numOutputRows": "9",
          "numSourceRows": "9",
          "numTargetBytesAdded": "18946",
          "numTargetBytesRemoved": "0",
          "numTargetChangeFilesAdded": "0",
          "numTargetDeletionVectorsAdded": "0",
          "numTargetDeletionVectorsRemoved": "0",
          "numTargetDeletionVectorsUpdated": "0",
          "numTargetFilesAdded": "2",
          "numTargetFilesRemoved": "0",
          "numTargetRowsCopied": "0",
          "numTargetRowsDeleted": "0",
          "numTargetRowsInserted": "9",
          "numTargetRowsMatchedDeleted": "0",
          "numTargetRowsMatchedUpdated": "0",
          "numTargetRowsNotMatchedBySourceDeleted": "0",
          "numTargetRowsNotMatchedBySourceUpdated": "0",
          "numTargetRowsUpdated": "0",
          "rewriteTimeMs": "627",
          "scanTimeMs": "1016"
         },
         null,
         "Databricks-Runtime/15.4.x-aarch64-scala2.12"
        ],
        [
         2,
         "2024-12-08T23:14:43Z",
         "2533331465148935",
         "silkykansal10@gmail.com",
         "MERGE",
         {
          "matchedPredicates": "[{\"actionType\":\"update\"}]",
          "notMatchedBySourcePredicates": "[]",
          "notMatchedPredicates": "[{\"actionType\":\"insert\"}]",
          "predicate": "[\"(value#107089 = value#108255)\"]",
          "statsOnLoad": "false"
         },
         null,
         [
          "171749421940014"
         ],
         "1129-144324-d526nqyd",
         1,
         "WriteSerializable",
         false,
         {
          "executionTimeMs": "2571",
          "materializeSourceTimeMs": "1092",
          "numOutputRows": "8",
          "numSourceRows": "8",
          "numTargetBytesAdded": "18658",
          "numTargetBytesRemoved": "0",
          "numTargetChangeFilesAdded": "0",
          "numTargetDeletionVectorsAdded": "0",
          "numTargetDeletionVectorsRemoved": "0",
          "numTargetDeletionVectorsUpdated": "0",
          "numTargetFilesAdded": "2",
          "numTargetFilesRemoved": "0",
          "numTargetRowsCopied": "0",
          "numTargetRowsDeleted": "0",
          "numTargetRowsInserted": "8",
          "numTargetRowsMatchedDeleted": "0",
          "numTargetRowsMatchedUpdated": "0",
          "numTargetRowsNotMatchedBySourceDeleted": "0",
          "numTargetRowsNotMatchedBySourceUpdated": "0",
          "numTargetRowsUpdated": "0",
          "rewriteTimeMs": "469",
          "scanTimeMs": "992"
         },
         null,
         "Databricks-Runtime/15.4.x-aarch64-scala2.12"
        ],
        [
         1,
         "2024-12-08T23:14:39Z",
         "2533331465148935",
         "silkykansal10@gmail.com",
         "MERGE",
         {
          "matchedPredicates": "[{\"actionType\":\"update\"}]",
          "notMatchedBySourcePredicates": "[]",
          "notMatchedPredicates": "[{\"actionType\":\"insert\"}]",
          "predicate": "[\"(value#107089 = value#107314)\"]",
          "statsOnLoad": "false"
         },
         null,
         [
          "171749421940014"
         ],
         "1129-144324-d526nqyd",
         0,
         "WriteSerializable",
         false,
         {
          "executionTimeMs": "2517",
          "materializeSourceTimeMs": "1084",
          "numOutputRows": "1",
          "numSourceRows": "1",
          "numTargetBytesAdded": "8270",
          "numTargetBytesRemoved": "0",
          "numTargetChangeFilesAdded": "0",
          "numTargetDeletionVectorsAdded": "0",
          "numTargetDeletionVectorsRemoved": "0",
          "numTargetDeletionVectorsUpdated": "0",
          "numTargetFilesAdded": "1",
          "numTargetFilesRemoved": "0",
          "numTargetRowsCopied": "0",
          "numTargetRowsDeleted": "0",
          "numTargetRowsInserted": "1",
          "numTargetRowsMatchedDeleted": "0",
          "numTargetRowsMatchedUpdated": "0",
          "numTargetRowsNotMatchedBySourceDeleted": "0",
          "numTargetRowsNotMatchedBySourceUpdated": "0",
          "numTargetRowsUpdated": "0",
          "rewriteTimeMs": "822",
          "scanTimeMs": "581"
         },
         null,
         "Databricks-Runtime/15.4.x-aarch64-scala2.12"
        ],
        [
         0,
         "2024-12-08T23:13:55Z",
         "2533331465148935",
         "silkykansal10@gmail.com",
         "CREATE TABLE",
         {
          "clusterBy": "[]",
          "description": null,
          "isManaged": "true",
          "partitionBy": "[]",
          "properties": "{\"delta.enableDeletionVectors\":\"true\"}",
          "statsOnLoad": "false"
         },
         null,
         [
          "3312121708906007"
         ],
         "1129-144324-d526nqyd",
         null,
         "WriteSerializable",
         true,
         {},
         null,
         "Databricks-Runtime/15.4.x-aarch64-scala2.12"
        ]
       ],
       "datasetInfos": [],
       "dbfsResultPath": null,
       "isJsonSchema": true,
       "metadata": {
        "createTempViewForImplicitDf": true,
        "dataframeName": "_sqldf",
        "executionCount": 16
       },
       "overflow": false,
       "plotOptions": {
        "customPlotOptions": {},
        "displayType": "table",
        "pivotAggregation": null,
        "pivotColumns": null,
        "xColumns": null,
        "yColumns": null
       },
       "removedWidgets": [],
       "schema": [
        {
         "metadata": "{}",
         "name": "version",
         "type": "\"long\""
        },
        {
         "metadata": "{}",
         "name": "timestamp",
         "type": "\"timestamp\""
        },
        {
         "metadata": "{}",
         "name": "userId",
         "type": "\"string\""
        },
        {
         "metadata": "{}",
         "name": "userName",
         "type": "\"string\""
        },
        {
         "metadata": "{}",
         "name": "operation",
         "type": "\"string\""
        },
        {
         "metadata": "{}",
         "name": "operationParameters",
         "type": "{\"type\":\"map\",\"keyType\":\"string\",\"valueType\":\"string\",\"valueContainsNull\":true}"
        },
        {
         "metadata": "{}",
         "name": "job",
         "type": "{\"type\":\"struct\",\"fields\":[{\"name\":\"jobId\",\"type\":\"string\",\"nullable\":true,\"metadata\":{}},{\"name\":\"jobName\",\"type\":\"string\",\"nullable\":true,\"metadata\":{}},{\"name\":\"jobRunId\",\"type\":\"string\",\"nullable\":true,\"metadata\":{}},{\"name\":\"runId\",\"type\":\"string\",\"nullable\":true,\"metadata\":{}},{\"name\":\"jobOwnerId\",\"type\":\"string\",\"nullable\":true,\"metadata\":{}},{\"name\":\"triggerType\",\"type\":\"string\",\"nullable\":true,\"metadata\":{}}]}"
        },
        {
         "metadata": "{}",
         "name": "notebook",
         "type": "{\"type\":\"struct\",\"fields\":[{\"name\":\"notebookId\",\"type\":\"string\",\"nullable\":true,\"metadata\":{}}]}"
        },
        {
         "metadata": "{}",
         "name": "clusterId",
         "type": "\"string\""
        },
        {
         "metadata": "{}",
         "name": "readVersion",
         "type": "\"long\""
        },
        {
         "metadata": "{}",
         "name": "isolationLevel",
         "type": "\"string\""
        },
        {
         "metadata": "{}",
         "name": "isBlindAppend",
         "type": "\"boolean\""
        },
        {
         "metadata": "{}",
         "name": "operationMetrics",
         "type": "{\"type\":\"map\",\"keyType\":\"string\",\"valueType\":\"string\",\"valueContainsNull\":true}"
        },
        {
         "metadata": "{}",
         "name": "userMetadata",
         "type": "\"string\""
        },
        {
         "metadata": "{}",
         "name": "engineInfo",
         "type": "\"string\""
        }
       ],
       "type": "table"
      }
     },
     "output_type": "display_data"
    }
   ],
   "source": [
    "%sql\n",
    "describe history dev.retail_store.invoices_raw;"
   ]
  }
 ],
 "metadata": {
  "application/vnd.databricks.v1+notebook": {
   "dashboards": [],
   "environmentMetadata": {
    "base_environment": "",
    "client": "1"
   },
   "language": "python",
   "notebookMetadata": {
    "mostRecentlyExecutedCommandWithImplicitDF": {
     "commandId": 171749421940020,
     "dataframes": [
      "_sqldf"
     ]
    },
    "pythonIndentUnit": 4
   },
   "notebookName": "Retail Store - Medallion - Kafka - Idempotence",
   "widgets": {}
  },
  "language_info": {
   "name": "python"
  }
 },
 "nbformat": 4,
 "nbformat_minor": 0
}
