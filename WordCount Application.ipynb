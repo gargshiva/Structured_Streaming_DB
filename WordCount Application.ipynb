{
 "cells": [
  {
   "cell_type": "code",
   "execution_count": 0,
   "metadata": {
    "application/vnd.databricks.v1+cell": {
     "cellMetadata": {
      "byteLimit": 2048000,
      "rowLimit": 10000
     },
     "inputWidgets": {},
     "nuid": "1f915d43-1685-45f9-846e-a268874eb5b7",
     "showTitle": false,
     "tableResultSettingsMap": {},
     "title": ""
    }
   },
   "outputs": [],
   "source": [
    "from pyspark.sql.functions import *\n",
    "class BatchWordCount():\n",
    "    def __init__(self):\n",
    "        self.landing_zone = '/Volumes/dev/demo_db/landing_zone/'\n",
    "    \n",
    "    def load_incoming_files(self):\n",
    "        return (spark.read\n",
    "               .format(\"text\")\n",
    "               .option(\"lineSep\",\".\")\n",
    "               .load(\"/Volumes/dev/demo_db/landing_zone/\"))\n",
    "    \n",
    "    def clean_data(self, raw_df):\n",
    "        word_df = raw_df.withColumn(\"word\", explode(split(col(\"value\"), \" \")).alias(\"word\")).drop(\"value\")\n",
    "        cleansed_df = (word_df\n",
    "               .select(lower(trim(col(\"word\"))).alias(\"word\"))\n",
    "               .where(\"word is not null\")\n",
    "               .where(\"word rlike '[a-z]'\"))\n",
    "        return cleansed_df\n",
    "    \n",
    "    def calculate_word_count(self, cleansed_df):\n",
    "        final_df = (cleansed_df\n",
    "            .select(substring(col(\"word\"), 0, 1).alias(\"letter\"))\n",
    "            .groupBy(\"letter\")\n",
    "            .count().alias(\"count\"))\n",
    "\n",
    "        return final_df\n",
    "    \n",
    "    def persist(self,final_df):\n",
    "        final_df.write.format(\"delta\").mode(\"overwrite\").saveAsTable(\"DEV.demo_db.word_count\")\n",
    "\n",
    "    def process(self):\n",
    "        raw_df = self.load_incoming_files()\n",
    "        cleansed_df= self.clean_data(raw_df)\n",
    "        final_df=self.calculate_word_count(cleansed_df)\n",
    "        self.persist(final_df)\n",
    "        \n",
    "        "
   ]
  },
  {
   "cell_type": "code",
   "execution_count": 0,
   "metadata": {
    "application/vnd.databricks.v1+cell": {
     "cellMetadata": {
      "byteLimit": 2048000,
      "rowLimit": 10000
     },
     "inputWidgets": {},
     "nuid": "4536e239-28d0-4eda-a336-24184bde08e7",
     "showTitle": false,
     "tableResultSettingsMap": {},
     "title": ""
    }
   },
   "outputs": [],
   "source": [
    "app = BatchWordCount()\n",
    "app.process()"
   ]
  },
  {
   "cell_type": "code",
   "execution_count": 0,
   "metadata": {
    "application/vnd.databricks.v1+cell": {
     "cellMetadata": {
      "byteLimit": 2048000,
      "implicitDf": true,
      "rowLimit": 10000
     },
     "inputWidgets": {},
     "nuid": "420c230a-f6bc-4eee-9b1a-53ace197c5d1",
     "showTitle": false,
     "tableResultSettingsMap": {},
     "title": ""
    }
   },
   "outputs": [
    {
     "output_type": "display_data",
     "data": {
      "text/html": [
       "<style scoped>\n",
       "  .table-result-container {\n",
       "    max-height: 300px;\n",
       "    overflow: auto;\n",
       "  }\n",
       "  table, th, td {\n",
       "    border: 1px solid black;\n",
       "    border-collapse: collapse;\n",
       "  }\n",
       "  th, td {\n",
       "    padding: 5px;\n",
       "  }\n",
       "  th {\n",
       "    text-align: left;\n",
       "  }\n",
       "</style><div class='table-result-container'><table class='table-result'><thead style='background-color: white'><tr><th>letter</th><th>count</th></tr></thead><tbody><tr><td>a</td><td>34</td></tr><tr><td>b</td><td>6</td></tr><tr><td>c</td><td>17</td></tr><tr><td>d</td><td>8</td></tr><tr><td>e</td><td>21</td></tr><tr><td>f</td><td>8</td></tr><tr><td>g</td><td>6</td></tr><tr><td>h</td><td>3</td></tr><tr><td>i</td><td>10</td></tr><tr><td>j</td><td>3</td></tr><tr><td>l</td><td>8</td></tr><tr><td>m</td><td>10</td></tr><tr><td>n</td><td>1</td></tr><tr><td>o</td><td>10</td></tr><tr><td>p</td><td>12</td></tr><tr><td>q</td><td>3</td></tr><tr><td>r</td><td>5</td></tr><tr><td>s</td><td>37</td></tr><tr><td>t</td><td>27</td></tr><tr><td>u</td><td>5</td></tr><tr><td>w</td><td>17</td></tr><tr><td>y</td><td>8</td></tr></tbody></table></div>"
      ]
     },
     "metadata": {
      "application/vnd.databricks.v1+output": {
       "addedWidgets": {},
       "aggData": [],
       "aggError": "",
       "aggOverflow": false,
       "aggSchema": [],
       "aggSeriesLimitReached": false,
       "aggType": "",
       "arguments": {},
       "columnCustomDisplayInfos": {},
       "data": [
        [
         "a",
         34
        ],
        [
         "b",
         6
        ],
        [
         "c",
         17
        ],
        [
         "d",
         8
        ],
        [
         "e",
         21
        ],
        [
         "f",
         8
        ],
        [
         "g",
         6
        ],
        [
         "h",
         3
        ],
        [
         "i",
         10
        ],
        [
         "j",
         3
        ],
        [
         "l",
         8
        ],
        [
         "m",
         10
        ],
        [
         "n",
         1
        ],
        [
         "o",
         10
        ],
        [
         "p",
         12
        ],
        [
         "q",
         3
        ],
        [
         "r",
         5
        ],
        [
         "s",
         37
        ],
        [
         "t",
         27
        ],
        [
         "u",
         5
        ],
        [
         "w",
         17
        ],
        [
         "y",
         8
        ]
       ],
       "datasetInfos": [],
       "dbfsResultPath": null,
       "isJsonSchema": true,
       "metadata": {
        "createTempViewForImplicitDf": true,
        "dataframeName": "_sqldf",
        "executionCount": 34
       },
       "overflow": false,
       "plotOptions": {
        "customPlotOptions": {},
        "displayType": "table",
        "pivotAggregation": null,
        "pivotColumns": null,
        "xColumns": null,
        "yColumns": null
       },
       "removedWidgets": [],
       "schema": [
        {
         "metadata": "{}",
         "name": "letter",
         "type": "\"string\""
        },
        {
         "metadata": "{}",
         "name": "count",
         "type": "\"long\""
        }
       ],
       "type": "table"
      }
     },
     "output_type": "display_data"
    }
   ],
   "source": [
    "%sql\n",
    "\n",
    "select * from DEV.demo_db.word_count order by letter;"
   ]
  },
  {
   "cell_type": "code",
   "execution_count": 0,
   "metadata": {
    "application/vnd.databricks.v1+cell": {
     "cellMetadata": {
      "byteLimit": 2048000,
      "rowLimit": 10000
     },
     "inputWidgets": {},
     "nuid": "6c50c021-de53-4b7d-9cca-98ec3655b918",
     "showTitle": false,
     "tableResultSettingsMap": {},
     "title": ""
    }
   },
   "outputs": [],
   "source": [
    "class StreamingWordCountApp:\n",
    "    def __init__(self):\n",
    "        self.landing_zone = '/Volumes/dev/demo_db/landing_zone/'\n",
    "    \n",
    "    def load_raw_data(self):\n",
    "        raw_df = (spark\n",
    "                  .readStream\n",
    "                  .format(\"text\")\n",
    "                  .option(\"lineSep\",\".\")\n",
    "                  .load(self.landing_zone))\n",
    "        return raw_df\n",
    "    \n",
    "    def get_quality_data(self,raw_df):\n",
    "        word_df = raw_df.select(explode(split(col(\"value\"),\" \")).alias(\"word\"))\n",
    "        cleansed_df = (word_df\n",
    "                       .select(lower(trim(col(\"word\"))).alias(\"word\"))\n",
    "                       .where(\"word is not null\")\n",
    "                       .where(\"word rlike '[a-z]'\")\n",
    "                       )\n",
    "        return cleansed_df\n",
    "    \n",
    "    def count_words(self,cleansed_df):\n",
    "        letter_df = cleansed_df.select(substring(col(\"word\"),0,1).alias(\"letter\"))\n",
    "        agg_df = letter_df.groupBy(\"letter\").count().alias(\"count\")\n",
    "        return agg_df\n",
    "    \n",
    "    def persist(self,agg_df):\n",
    "        streaming_query = (agg_df\n",
    "                           .writeStream\n",
    "                           .option(\"checkpointLocation\", \"/Volumes/dev/demo_db/wc_checkpoint_data\")\n",
    "                           .format(\"delta\")\n",
    "                           .outputMode(\"complete\")\n",
    "                           .toTable(\"DEV.demo_db.word_count\")\n",
    "                           )\n",
    "        return streaming_query\n",
    "    \n",
    "    def process(self):\n",
    "        raw_df = self.load_raw_data()\n",
    "        cleansed_df = self.get_quality_data(raw_df)\n",
    "        agg_df = self.count_words(cleansed_df)\n",
    "        return self.persist(agg_df)\n",
    "\n",
    "\n",
    "\n"
   ]
  },
  {
   "cell_type": "code",
   "execution_count": 0,
   "metadata": {
    "application/vnd.databricks.v1+cell": {
     "cellMetadata": {
      "byteLimit": 2048000,
      "rowLimit": 10000
     },
     "inputWidgets": {},
     "nuid": "51d07e82-834e-439b-8663-a8dffb552fa6",
     "showTitle": false,
     "tableResultSettingsMap": {},
     "title": ""
    }
   },
   "outputs": [],
   "source": [
    "stream_app = StreamingWordCountApp()\n",
    "squery = stream_app.process()"
   ]
  },
  {
   "cell_type": "code",
   "execution_count": 0,
   "metadata": {
    "application/vnd.databricks.v1+cell": {
     "cellMetadata": {
      "byteLimit": 2048000,
      "rowLimit": 10000
     },
     "inputWidgets": {},
     "nuid": "408917fd-3ed9-40a2-a795-4be9b71be327",
     "showTitle": false,
     "tableResultSettingsMap": {},
     "title": ""
    }
   },
   "outputs": [],
   "source": [
    "squery.stop()"
   ]
  }
 ],
 "metadata": {
  "application/vnd.databricks.v1+notebook": {
   "dashboards": [],
   "environmentMetadata": {
    "base_environment": "",
    "client": "1"
   },
   "language": "python",
   "notebookMetadata": {
    "mostRecentlyExecutedCommandWithImplicitDF": {
     "commandId": 1516357589455733,
     "dataframes": [
      "_sqldf"
     ]
    },
    "pythonIndentUnit": 4
   },
   "notebookName": "WordCount Application",
   "widgets": {}
  },
  "language_info": {
   "name": "python"
  }
 },
 "nbformat": 4,
 "nbformat_minor": 0
}
