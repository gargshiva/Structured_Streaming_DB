{
 "cells": [
  {
   "cell_type": "code",
   "execution_count": 0,
   "metadata": {
    "application/vnd.databricks.v1+cell": {
     "cellMetadata": {},
     "inputWidgets": {},
     "nuid": "9d9ffcd1-63a4-499c-8b4e-fbbf511f1b3d",
     "showTitle": false,
     "tableResultSettingsMap": {},
     "title": ""
    }
   },
   "outputs": [],
   "source": [
    "spark.sql(\"create catalog if not exists DEV\")"
   ]
  },
  {
   "cell_type": "code",
   "execution_count": 0,
   "metadata": {
    "application/vnd.databricks.v1+cell": {
     "cellMetadata": {
      "byteLimit": 2048000,
      "rowLimit": 10000
     },
     "inputWidgets": {},
     "nuid": "82885249-8981-4b72-9bda-bfa79d71d26f",
     "showTitle": false,
     "tableResultSettingsMap": {},
     "title": ""
    }
   },
   "outputs": [
    {
     "output_type": "execute_result",
     "data": {
      "text/plain": [
       "DataFrame[]"
      ]
     },
     "execution_count": 1,
     "metadata": {},
     "output_type": "execute_result"
    }
   ],
   "source": [
    "spark.sql(\"drop database if exists DEV.scd_raw_layer cascade\")"
   ]
  },
  {
   "cell_type": "code",
   "execution_count": 0,
   "metadata": {
    "application/vnd.databricks.v1+cell": {
     "cellMetadata": {
      "byteLimit": 2048000,
      "rowLimit": 10000
     },
     "inputWidgets": {},
     "nuid": "c81be5db-dd7b-4700-b87d-442c3fb096c9",
     "showTitle": false,
     "tableResultSettingsMap": {},
     "title": ""
    }
   },
   "outputs": [
    {
     "output_type": "execute_result",
     "data": {
      "text/plain": [
       "DataFrame[]"
      ]
     },
     "execution_count": 1,
     "metadata": {},
     "output_type": "execute_result"
    }
   ],
   "source": [
    "\n",
    "\n",
    "spark.sql(\"create database if not exists DEV.scd_raw_layer\")\n",
    "\n",
    "spark.sql(\"\"\"create table if not exists DEV.scd_raw_layer.users_profile_raw(\n",
    "          user_id string,\n",
    "          update_type string,\n",
    "          timestamp bigint,\n",
    "          dob string,\n",
    "          sex string,\n",
    "          gender string,\n",
    "          first_name string,\n",
    "          last_name string,\n",
    "          address struct<street_address:string, city:string, state:string, zip:string>\n",
    "       ) using delta\n",
    "          \"\"\")\n",
    "\n",
    "\n",
    "# Input data directory\n",
    "spark.sql(\"create external volume if not exists DEV.scd_raw_layer.input_data location 'abfss://scd-implementation@dbstorageact.dfs.core.windows.net/data/users/'\")\n",
    "\n",
    "# Checkpoint Directory\n",
    "spark.sql(\"create external volume if not exists DEV.scd_raw_layer.users_profile_raw_checkpoint location 'abfss://scd-implementation@dbstorageact.dfs.core.windows.net/checkpoint/users_profile_raw'\")"
   ]
  },
  {
   "cell_type": "code",
   "execution_count": 0,
   "metadata": {
    "application/vnd.databricks.v1+cell": {
     "cellMetadata": {
      "byteLimit": 2048000,
      "rowLimit": 10000
     },
     "inputWidgets": {},
     "nuid": "4a431954-447c-441d-ae7a-53b434b3c5e8",
     "showTitle": false,
     "tableResultSettingsMap": {},
     "title": ""
    }
   },
   "outputs": [],
   "source": [
    "from pyspark.sql.functions import *\n",
    "from pyspark.sql.types import *\n",
    "from pyspark.sql import Window\n",
    "\n",
    "class BronzeLayer:\n",
    "    def __init__(self):\n",
    "        pass\n",
    "\n",
    "    def getSchema(self):\n",
    "        return StructType([\n",
    "            StructField(\"user_id\", StringType(), True),\n",
    "            StructField(\"update_type\", StringType(), True),\n",
    "            StructField(\"timestamp\", LongType(), True),\n",
    "            StructField(\"dob\", StringType(), True),\n",
    "            StructField(\"sex\", StringType(), True),\n",
    "            StructField(\"gender\", StringType(), True),\n",
    "            StructField(\"first_name\", StringType(), True),\n",
    "            StructField(\"last_name\", StringType(), True),\n",
    "            StructField(\"address\", StructType([\n",
    "                StructField(\"street_address\", StringType(), True),\n",
    "                StructField(\"city\", StringType(), True),\n",
    "                StructField(\"state\", StringType(), True),\n",
    "                StructField(\"zip\", StringType(), True),\n",
    "            ]),True)\n",
    "        ])\n",
    "\n",
    "    def read_raw_data(self):\n",
    "        raw_df = (\n",
    "            spark\n",
    "            .readStream\n",
    "            .format(\"json\")\n",
    "            .schema(self.getSchema())\n",
    "            .load(\"/Volumes/dev/scd_raw_layer/input_data\")\n",
    "        )\n",
    "\n",
    "        return raw_df\n",
    "    \n",
    "    # Handle the Duplicates\n",
    "    # Across Microbatch\n",
    "    # Within Microbtach\n",
    "\n",
    "    # Code inside the upsert method won't use the state store\n",
    "    def upsert(self,df,batch_id):\n",
    "        # Handle the duplicates within the mirobatch\n",
    "        window_spec = Window.partitionBy(\"user_id\",\"timestamp\").orderBy(col(\"timestamp\").desc())\n",
    "        df_rank = df.withColumn(\"row_num\",row_number().over(window_spec))\n",
    "        dedup_df = df_rank.filter(col(\"row_num\") == 1).drop(\"row_num\")\n",
    "\n",
    "        # Handle the duplicates across microbatch\n",
    "        dedup_df.createOrReplaceTempView(\"users_profile_stage\")\n",
    "        merge_statement = \"\"\"\n",
    "                  MERGE into DEV.scd_raw_layer.users_profile_raw\n",
    "                  USING users_profile_stage\n",
    "                  on (DEV.scd_raw_layer.users_profile_raw.user_id = users_profile_stage.user_id and DEV.scd_raw_layer.users_profile_raw.timestamp = users_profile_stage.timestamp)\n",
    "                  when matched then update set *\n",
    "                  when not matched then insert *\n",
    "                  \"\"\"\n",
    "        dedup_df._jdf.sparkSession().sql(merge_statement)\n",
    "    \n",
    "    \n",
    "    def write_raw_df(self,raw_df):\n",
    "        streamingQuery = (raw_df\n",
    "                          .writeStream\n",
    "                          .queryName(\"User_profile_bronze_layer\")\n",
    "                          .format(\"delta\")\n",
    "                          .option(\"checkpointLocation\",\"/Volumes/dev/scd_raw_layer/users_profile_raw_checkpoint\")\n",
    "                          .trigger(processingTime=\"1 seconds\")\n",
    "                          .outputMode(\"update\")\n",
    "                          .foreachBatch(self.upsert)\n",
    "                          .start()\n",
    "                          )\n",
    "\n",
    "        return streamingQuery\n",
    "    \n",
    "    def start_streaming(self):\n",
    "        raw_df = self.read_raw_data()\n",
    "        streamingQuery = self.write_raw_df(raw_df)\n",
    "        return streamingQuery\n",
    "\n",
    "\n"
   ]
  },
  {
   "cell_type": "code",
   "execution_count": 0,
   "metadata": {
    "application/vnd.databricks.v1+cell": {
     "cellMetadata": {
      "byteLimit": 2048000,
      "rowLimit": 10000
     },
     "inputWidgets": {},
     "nuid": "ed6d9ed0-2c3d-420b-908c-947c151eeb21",
     "showTitle": false,
     "tableResultSettingsMap": {},
     "title": ""
    }
   },
   "outputs": [],
   "source": [
    "# Bronze Layer Streaming Query\n",
    "\n",
    "bronze_layer = BronzeLayer()\n",
    "streaming_query = bronze_layer.start_streaming()"
   ]
  },
  {
   "cell_type": "code",
   "execution_count": 0,
   "metadata": {
    "application/vnd.databricks.v1+cell": {
     "cellMetadata": {
      "byteLimit": 2048000,
      "rowLimit": 10000
     },
     "inputWidgets": {},
     "nuid": "a2e07297-f894-438b-ab99-b78844c0a9bf",
     "showTitle": false,
     "tableResultSettingsMap": {},
     "title": ""
    }
   },
   "outputs": [],
   "source": [
    "streaming_query.stop()"
   ]
  },
  {
   "cell_type": "code",
   "execution_count": 0,
   "metadata": {
    "application/vnd.databricks.v1+cell": {
     "cellMetadata": {
      "byteLimit": 2048000,
      "implicitDf": true,
      "rowLimit": 10000
     },
     "inputWidgets": {},
     "nuid": "d2f3c741-f4c3-411a-93d9-52c087275176",
     "showTitle": false,
     "tableResultSettingsMap": {},
     "title": ""
    }
   },
   "outputs": [
    {
     "output_type": "display_data",
     "data": {
      "text/html": [
       "<style scoped>\n",
       "  .table-result-container {\n",
       "    max-height: 300px;\n",
       "    overflow: auto;\n",
       "  }\n",
       "  table, th, td {\n",
       "    border: 1px solid black;\n",
       "    border-collapse: collapse;\n",
       "  }\n",
       "  th, td {\n",
       "    padding: 5px;\n",
       "  }\n",
       "  th {\n",
       "    text-align: left;\n",
       "  }\n",
       "</style><div class='table-result-container'><table class='table-result'><thead style='background-color: white'><tr><th>user_id</th><th>update_type</th><th>timestamp</th><th>dob</th><th>sex</th><th>gender</th><th>first_name</th><th>last_name</th><th>address</th></tr></thead><tbody><tr><td>12140</td><td>new</td><td>1678451529</td><td>02/02/1999</td><td>M</td><td>M</td><td>Robert</td><td>Clark</td><td>List(68994 Steven Vista, Pearblossom, CA, 93553)</td></tr><tr><td>12140</td><td>update</td><td>1678451625</td><td>02/02/1999</td><td>M</td><td>M</td><td>Robert</td><td>Castillo</td><td>List(68994 Steven Vista, Pearblossom, CA, 93553)</td></tr><tr><td>12227</td><td>new</td><td>1678452028</td><td>12/11/1949</td><td>F</td><td>F</td><td>Courtney</td><td>Sheppard</td><td>List(47754 Angela Plaza Apt. 135, Los Angeles, CA, 90010)</td></tr><tr><td>14232</td><td>new</td><td>1678539087</td><td>01/04/1979</td><td>M</td><td>M</td><td>Edward</td><td>Simpson</td><td>List(92012 Bradley Shoals, Long Beach, CA, 90815)</td></tr><tr><td>14508</td><td>new</td><td>1678539025</td><td>01/28/1936</td><td>M</td><td>M</td><td>Justin</td><td>Eaton</td><td>List(04952 Lori Plain, Sierra Madre, CA, 91024)</td></tr><tr><td>14633</td><td>new</td><td>1678538830</td><td>09/04/1997</td><td>F</td><td>F</td><td>Hannah</td><td>Fuller</td><td>List(81346 Obrien Streets, Gardena, CA, 90249)</td></tr></tbody></table></div>"
      ]
     },
     "metadata": {
      "application/vnd.databricks.v1+output": {
       "addedWidgets": {},
       "aggData": [],
       "aggError": "",
       "aggOverflow": false,
       "aggSchema": [],
       "aggSeriesLimitReached": false,
       "aggType": "",
       "arguments": {},
       "columnCustomDisplayInfos": {},
       "data": [
        [
         "12140",
         "new",
         1678451529,
         "02/02/1999",
         "M",
         "M",
         "Robert",
         "Clark",
         [
          "68994 Steven Vista",
          "Pearblossom",
          "CA",
          "93553"
         ]
        ],
        [
         "12140",
         "update",
         1678451625,
         "02/02/1999",
         "M",
         "M",
         "Robert",
         "Castillo",
         [
          "68994 Steven Vista",
          "Pearblossom",
          "CA",
          "93553"
         ]
        ],
        [
         "12227",
         "new",
         1678452028,
         "12/11/1949",
         "F",
         "F",
         "Courtney",
         "Sheppard",
         [
          "47754 Angela Plaza Apt. 135",
          "Los Angeles",
          "CA",
          "90010"
         ]
        ],
        [
         "14232",
         "new",
         1678539087,
         "01/04/1979",
         "M",
         "M",
         "Edward",
         "Simpson",
         [
          "92012 Bradley Shoals",
          "Long Beach",
          "CA",
          "90815"
         ]
        ],
        [
         "14508",
         "new",
         1678539025,
         "01/28/1936",
         "M",
         "M",
         "Justin",
         "Eaton",
         [
          "04952 Lori Plain",
          "Sierra Madre",
          "CA",
          "91024"
         ]
        ],
        [
         "14633",
         "new",
         1678538830,
         "09/04/1997",
         "F",
         "F",
         "Hannah",
         "Fuller",
         [
          "81346 Obrien Streets",
          "Gardena",
          "CA",
          "90249"
         ]
        ]
       ],
       "datasetInfos": [],
       "dbfsResultPath": null,
       "isJsonSchema": true,
       "metadata": {
        "createTempViewForImplicitDf": true,
        "dataframeName": "_sqldf",
        "executionCount": 5
       },
       "overflow": false,
       "plotOptions": {
        "customPlotOptions": {},
        "displayType": "table",
        "pivotAggregation": null,
        "pivotColumns": null,
        "xColumns": null,
        "yColumns": null
       },
       "removedWidgets": [],
       "schema": [
        {
         "metadata": "{}",
         "name": "user_id",
         "type": "\"string\""
        },
        {
         "metadata": "{}",
         "name": "update_type",
         "type": "\"string\""
        },
        {
         "metadata": "{}",
         "name": "timestamp",
         "type": "\"long\""
        },
        {
         "metadata": "{}",
         "name": "dob",
         "type": "\"string\""
        },
        {
         "metadata": "{}",
         "name": "sex",
         "type": "\"string\""
        },
        {
         "metadata": "{}",
         "name": "gender",
         "type": "\"string\""
        },
        {
         "metadata": "{}",
         "name": "first_name",
         "type": "\"string\""
        },
        {
         "metadata": "{}",
         "name": "last_name",
         "type": "\"string\""
        },
        {
         "metadata": "{}",
         "name": "address",
         "type": "{\"type\":\"struct\",\"fields\":[{\"name\":\"street_address\",\"type\":\"string\",\"nullable\":true,\"metadata\":{}},{\"name\":\"city\",\"type\":\"string\",\"nullable\":true,\"metadata\":{}},{\"name\":\"state\",\"type\":\"string\",\"nullable\":true,\"metadata\":{}},{\"name\":\"zip\",\"type\":\"string\",\"nullable\":true,\"metadata\":{}}]}"
        }
       ],
       "type": "table"
      }
     },
     "output_type": "display_data"
    }
   ],
   "source": [
    "%sql\n",
    "select * from DEV.scd_raw_layer.users_profile_raw\n",
    "order by user_id , timestamp;"
   ]
  }
 ],
 "metadata": {
  "application/vnd.databricks.v1+notebook": {
   "computePreferences": null,
   "dashboards": [],
   "environmentMetadata": {
    "base_environment": "",
    "client": "1"
   },
   "language": "python",
   "notebookMetadata": {
    "mostRecentlyExecutedCommandWithImplicitDF": {
     "commandId": 2257650923254661,
     "dataframes": [
      "_sqldf"
     ]
    },
    "pythonIndentUnit": 4
   },
   "notebookName": "SCD implementation - Bronze Layer",
   "widgets": {}
  },
  "language_info": {
   "name": "python"
  }
 },
 "nbformat": 4,
 "nbformat_minor": 0
}