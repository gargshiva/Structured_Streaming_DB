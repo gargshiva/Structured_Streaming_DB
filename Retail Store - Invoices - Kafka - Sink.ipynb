{
 "cells": [
  {
   "cell_type": "code",
   "execution_count": 0,
   "metadata": {
    "application/vnd.databricks.v1+cell": {
     "cellMetadata": {
      "byteLimit": 2048000,
      "rowLimit": 10000
     },
     "inputWidgets": {},
     "nuid": "b7e1f6cf-1671-4074-8164-2077a66b3526",
     "showTitle": false,
     "tableResultSettingsMap": {},
     "title": ""
    }
   },
   "outputs": [],
   "source": [
    "from pyspark.sql.functions import *\n",
    "from pyspark.sql.types import *\n",
    "\n",
    "class InvoicePublisher:\n",
    "\n",
    "    def __init__(self):\n",
    "        self.landing_zone = \"/Volumes/dev/retail_store/landing_zone\"\n",
    "        self.bootstrap_server = 'pkc-619z3.us-east1.gcp.confluent.cloud:9092'\n",
    "        self.jaas_module = 'org.apache.kafka.common.security.plain.PlainLoginModule'\n",
    "        self.api_key = 'OVPNJYWE56QVX4LD'\n",
    "        self.api_secret = 'LSK7hPY5Kvqpj12hiaZuLyawzvN+eOXqDXtOgyRdBAcz9j6RxQdx0DlIlSXLU7Jb'\n",
    "        self.topic = 'invoices'\n",
    "        self.delivery_add_schema = (StructType([\n",
    "            StructField(\"AddressLine\", StringType(), True),\n",
    "            StructField(\"City\", StringType(), True),\n",
    "            StructField(\"State\", StringType(), True),\n",
    "            StructField(\"PinCode\", StringType(), True),\n",
    "            StructField(\"ContactNumber\", StringType(), True)\n",
    "        ]))\n",
    "        self.line_item_schema = (StructType([\n",
    "            StructField(\"ItemCode\", StringType(), True),\n",
    "            StructField(\"ItemDescription\", StringType(), True),\n",
    "            StructField(\"ItemPrice\", DoubleType(), True),\n",
    "            StructField(\"ItemQty\", IntegerType(), True),\n",
    "            StructField(\"TotalValue\", DoubleType(), True)\n",
    "        ]))\n",
    "        self.invoice_schema = (StructType([\n",
    "            StructField(\"InvoiceNumber\", StringType(), True),\n",
    "            StructField(\"CreatedTime\", LongType(), True),\n",
    "            StructField(\"StoreID\", StringType(), True),\n",
    "            StructField(\"PosID\", StringType(), True),\n",
    "            StructField(\"CashierID\", StringType(), True),\n",
    "            StructField(\"CustomerType\", StringType(), True),\n",
    "            StructField(\"CustomerCardNo\", IntegerType(), True),\n",
    "            StructField(\"TotalAmount\", DoubleType(), True),\n",
    "            StructField(\"NumberOfItems\", IntegerType(), True),\n",
    "            StructField(\"PaymentMethod\", StringType(), True),\n",
    "            StructField(\"TaxableAmount\", DoubleType(), True),\n",
    "            StructField(\"CGST\", DoubleType(), True),\n",
    "            StructField(\"SGST\", DoubleType(), True),\n",
    "            StructField(\"CESS\", DoubleType(), True),\n",
    "            StructField(\"DeliveryType\", StringType(), True),\n",
    "            StructField(\"DeliveryAddress\", self.delivery_add_schema),\n",
    "            StructField(\"InvoiceLineItems\", ArrayType(self.line_item_schema))]))\n",
    "    \n",
    "    def load_raw_data(self):\n",
    "        raw_df = (spark\n",
    "                  .readStream\n",
    "                  .format(\"json\")\n",
    "                  .schema(self.invoice_schema)\n",
    "                  .load(self.landing_zone)\n",
    "                  )\n",
    "        return raw_df\n",
    "    \n",
    "    def format_message(self, raw_df):\n",
    "        formatted_df = (raw_df.selectExpr(\"StoreID as key\",\"to_json(struct(*)) as value\"))\n",
    "        return formatted_df\n",
    "    \n",
    "    def publish_to_kafka(self, formatted_df):\n",
    "        write_streaming_query = (formatted_df\n",
    "                                 .writeStream\n",
    "                                 .format(\"kafka\")\n",
    "                                 .option(\"kafka.bootstrap.servers\", self.bootstrap_server)\n",
    "                                 .option(\"kafka.security.protocol\", \"SASL_SSL\") \n",
    "                                 .option(\"kafka.sasl.mechanism\", \"PLAIN\")\n",
    "                                 .option(\"kafka.sasl.jaas.config\", f\"{self.jaas_module} required username='{self.api_key}' password='{self.api_secret}';\")\n",
    "                                 .option(\"topic\", self.topic)\n",
    "                                 .outputMode(\"append\")\n",
    "                                 .option(\"checkpointLocation\", \"/Volumes/dev/retail_store/checkpoint_invoices_raw\")\n",
    "                                 .start()\n",
    "                                 )\n",
    "        return write_streaming_query\n",
    "    \n",
    "    def start_publisher(self):\n",
    "        raw_df = self.load_raw_data()\n",
    "        formatted_df = self.format_message(raw_df)\n",
    "        return self.publish_to_kafka(formatted_df)"
   ]
  },
  {
   "cell_type": "code",
   "execution_count": 0,
   "metadata": {
    "application/vnd.databricks.v1+cell": {
     "cellMetadata": {
      "byteLimit": 2048000,
      "rowLimit": 10000
     },
     "inputWidgets": {},
     "nuid": "17cd9b3b-d6e4-4735-8286-8a8f9de2a569",
     "showTitle": false,
     "tableResultSettingsMap": {},
     "title": ""
    }
   },
   "outputs": [],
   "source": [
    "publisher = InvoicePublisher()\n",
    "write_streaming_query= publisher.start_publisher()"
   ]
  },
  {
   "cell_type": "code",
   "execution_count": 0,
   "metadata": {
    "application/vnd.databricks.v1+cell": {
     "cellMetadata": {
      "byteLimit": 2048000,
      "rowLimit": 10000
     },
     "inputWidgets": {},
     "nuid": "3b7b1bfe-2992-469b-9573-9489cc423684",
     "showTitle": false,
     "tableResultSettingsMap": {},
     "title": ""
    }
   },
   "outputs": [
    {
     "output_type": "display_data",
     "data": {
      "text/plain": [
       "\u001B[0;31m---------------------------------------------------------------------------\u001B[0m\n",
       "\u001B[0;31mAttributeError\u001B[0m                            Traceback (most recent call last)\n",
       "File \u001B[0;32m<command-2848266856789996>, line 1\u001B[0m\n",
       "\u001B[0;32m----> 1\u001B[0m write_streaming_query\u001B[38;5;241m.\u001B[39mclose()\n",
       "\n",
       "\u001B[0;31mAttributeError\u001B[0m: 'StreamingQuery' object has no attribute 'close'"
      ]
     },
     "metadata": {
      "application/vnd.databricks.v1+output": {
       "addedWidgets": {},
       "arguments": {},
       "datasetInfos": [],
       "jupyterProps": {
        "ename": "AttributeError",
        "evalue": "'StreamingQuery' object has no attribute 'close'"
       },
       "metadata": {
        "errorSummary": "<span class='ansi-red-fg'>AttributeError</span>: 'StreamingQuery' object has no attribute 'close'"
       },
       "removedWidgets": [],
       "sqlProps": null,
       "stackFrames": [
        "\u001B[0;31m---------------------------------------------------------------------------\u001B[0m",
        "\u001B[0;31mAttributeError\u001B[0m                            Traceback (most recent call last)",
        "File \u001B[0;32m<command-2848266856789996>, line 1\u001B[0m\n\u001B[0;32m----> 1\u001B[0m write_streaming_query\u001B[38;5;241m.\u001B[39mclose()\n",
        "\u001B[0;31mAttributeError\u001B[0m: 'StreamingQuery' object has no attribute 'close'"
       ],
       "type": "baseError"
      }
     },
     "output_type": "display_data"
    }
   ],
   "source": [
    "write_streaming_query.close()"
   ]
  }
 ],
 "metadata": {
  "application/vnd.databricks.v1+notebook": {
   "dashboards": [],
   "environmentMetadata": {
    "base_environment": "",
    "client": "1"
   },
   "language": "python",
   "notebookMetadata": {
    "pythonIndentUnit": 4
   },
   "notebookName": "Retail Store - Invoices - Kafka - Sink",
   "widgets": {}
  },
  "language_info": {
   "name": "python"
  }
 },
 "nbformat": 4,
 "nbformat_minor": 0
}
