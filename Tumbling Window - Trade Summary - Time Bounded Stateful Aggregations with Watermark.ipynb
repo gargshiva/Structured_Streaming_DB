{
 "cells": [
  {
   "cell_type": "markdown",
   "metadata": {
    "application/vnd.databricks.v1+cell": {
     "cellMetadata": {},
     "inputWidgets": {},
     "nuid": "b94d331d-e0c6-4d07-9525-29bd2b35bb1f",
     "showTitle": false,
     "tableResultSettingsMap": {},
     "title": ""
    }
   },
   "source": [
    "- Tumbling window are of fixed size and non-overlapping.\n",
    "- Each event will be part of only 1 window."
   ]
  },
  {
   "cell_type": "code",
   "execution_count": 0,
   "metadata": {
    "application/vnd.databricks.v1+cell": {
     "cellMetadata": {
      "byteLimit": 2048000,
      "rowLimit": 10000
     },
     "inputWidgets": {},
     "nuid": "5d85980e-1047-4c88-a2b3-30f178eaeb78",
     "showTitle": false,
     "tableResultSettingsMap": {},
     "title": ""
    }
   },
   "outputs": [],
   "source": [
    "from pyspark.sql.functions import *\n",
    "from pyspark.sql.types import *\n",
    "\n",
    "class TradeSummary:\n",
    "    def __init__(self):\n",
    "        self.raw_table_name = \"dev.finance.trades_raw\"\n",
    "    \n",
    "    def get_trades_raw_schema(self):\n",
    "        return StructType([\n",
    "            StructField(\"CreatedTime\", StringType(), True),\n",
    "            StructField(\"Type\", StringType(), True),\n",
    "            StructField(\"Amount\", DoubleType(), True),\n",
    "            StructField(\"BrokerCode\", StringType(), True),\n",
    "        ])\n",
    "    \n",
    "    def get_trades_raw(self):\n",
    "        trades_raw_df = (spark\n",
    "                         .readStream\n",
    "                         .format(\"delta\")\n",
    "                         .table(self.raw_table_name)\n",
    "                         )\n",
    "        return trades_raw_df\n",
    "    \n",
    "    def format_trades_raw(self,trades_raw_df):\n",
    "        formatted_trades_df = (trades_raw_df\n",
    "                               .select(from_json(col(\"value\"), self.get_trades_raw_schema()).alias(\"value\"))\n",
    "                               .select(\"value.*\")\n",
    "                               .withColumn(\"CreatedTime\", to_timestamp(\"CreatedTime\", \"yyyy-MM-dd HH:mm:ss\"))\n",
    "                               .withColumn(\"BUY\", expr('case when type == \"BUY\" then amount  else 0 end'))\n",
    "                               .withColumn(\"SELL\", expr('case when type == \"SELL\" then amount  else 0 end'))\n",
    "                               )\n",
    "        return formatted_trades_df\n",
    "    \n",
    "    def process_trades(self,formatted_trades_df):\n",
    "        # Watermark is basically to tell how far back to process the data. How long should wait for late record.\n",
    "        # Otherwise the state will always be maintained in the state store.\n",
    "        \n",
    "        processed_trades_df = (formatted_trades_df.withWatermark(\"CreatedTime\", \"30 minutes\")\n",
    "                               .groupBy(window(col(\"CreatedTime\"),\"15 minutes\"))\n",
    "                               .agg(sum(\"BUY\").alias(\"total_buy\"), sum(\"SELL\").alias(\"total_sell\"))\n",
    "                               .select(\"window.start\",\"window.end\", \"total_buy\", \"total_sell\")\n",
    "                               )\n",
    "        return processed_trades_df\n",
    "    \n",
    "    def write_processed_trades(self,processed_trades_df):\n",
    "        streaming_agg_query = (processed_trades_df\n",
    "                               .writeStream\n",
    "                               .queryName(\"trades_agg\")\n",
    "                               .format(\"delta\")\n",
    "                               .outputMode(\"complete\")\n",
    "                               .option(\"checkpointLocation\",\"/Volumes/dev/finance/trades_summary_checkpoint\")\n",
    "                               # Complete mode is supported with toTable. Complete mode is equivalent to insert overwrite\n",
    "                               .table(\"dev.finance.trades_summary\")\n",
    "                               )\n",
    "        return streaming_agg_query\n",
    "\n",
    "    def start_trade_aggregates(self):\n",
    "        raw_data = self.get_trades_raw()\n",
    "        formatted_data = self.format_trades_raw(raw_data)\n",
    "        processed_data = self.process_trades(formatted_data)\n",
    "        return self.write_processed_trades(processed_data)\n",
    "\n",
    "    \n"
   ]
  },
  {
   "cell_type": "code",
   "execution_count": 0,
   "metadata": {
    "application/vnd.databricks.v1+cell": {
     "cellMetadata": {
      "byteLimit": 2048000,
      "rowLimit": 10000
     },
     "inputWidgets": {},
     "nuid": "92532e59-04cb-4b3a-918a-762468b81e43",
     "showTitle": false,
     "tableResultSettingsMap": {},
     "title": ""
    }
   },
   "outputs": [],
   "source": [
    "trades_agg = TradeSummary()\n",
    "streaming_agg_query = trades_agg.start_trade_aggregates()"
   ]
  },
  {
   "cell_type": "code",
   "execution_count": 0,
   "metadata": {
    "application/vnd.databricks.v1+cell": {
     "cellMetadata": {
      "byteLimit": 2048000,
      "rowLimit": 10000
     },
     "inputWidgets": {},
     "nuid": "3bd499af-7b2b-4d05-b6d8-a697367667a9",
     "showTitle": false,
     "tableResultSettingsMap": {},
     "title": ""
    }
   },
   "outputs": [],
   "source": [
    "streaming_agg_query.stop()"
   ]
  },
  {
   "cell_type": "code",
   "execution_count": 0,
   "metadata": {
    "application/vnd.databricks.v1+cell": {
     "cellMetadata": {
      "byteLimit": 2048000,
      "implicitDf": true,
      "rowLimit": 10000
     },
     "inputWidgets": {},
     "nuid": "36e19bc2-5f10-4e3f-b007-739f6f6a0822",
     "showTitle": false,
     "tableResultSettingsMap": {},
     "title": ""
    }
   },
   "outputs": [
    {
     "output_type": "display_data",
     "data": {
      "text/html": [
       "<style scoped>\n",
       "  .table-result-container {\n",
       "    max-height: 300px;\n",
       "    overflow: auto;\n",
       "  }\n",
       "  table, th, td {\n",
       "    border: 1px solid black;\n",
       "    border-collapse: collapse;\n",
       "  }\n",
       "  th, td {\n",
       "    padding: 5px;\n",
       "  }\n",
       "  th {\n",
       "    text-align: left;\n",
       "  }\n",
       "</style><div class='table-result-container'><table class='table-result'><thead style='background-color: white'><tr><th>start</th><th>end</th><th>total_buy</th><th>total_sell</th></tr></thead><tbody><tr><td>2019-02-05T10:00:00Z</td><td>2019-02-05T10:15:00Z</td><td>800.0</td><td>0.0</td></tr><tr><td>2019-02-05T10:15:00Z</td><td>2019-02-05T10:30:00Z</td><td>600.0</td><td>400.0</td></tr><tr><td>2019-02-05T10:30:00Z</td><td>2019-02-05T10:45:00Z</td><td>900.0</td><td>0.0</td></tr><tr><td>2019-02-05T10:45:00Z</td><td>2019-02-05T11:00:00Z</td><td>0.0</td><td>500.0</td></tr></tbody></table></div>"
      ]
     },
     "metadata": {
      "application/vnd.databricks.v1+output": {
       "addedWidgets": {},
       "aggData": [],
       "aggError": "",
       "aggOverflow": false,
       "aggSchema": [],
       "aggSeriesLimitReached": false,
       "aggType": "",
       "arguments": {},
       "columnCustomDisplayInfos": {},
       "data": [
        [
         "2019-02-05T10:00:00Z",
         "2019-02-05T10:15:00Z",
         800.0,
         0.0
        ],
        [
         "2019-02-05T10:15:00Z",
         "2019-02-05T10:30:00Z",
         600.0,
         400.0
        ],
        [
         "2019-02-05T10:30:00Z",
         "2019-02-05T10:45:00Z",
         900.0,
         0.0
        ],
        [
         "2019-02-05T10:45:00Z",
         "2019-02-05T11:00:00Z",
         0.0,
         500.0
        ]
       ],
       "datasetInfos": [],
       "dbfsResultPath": null,
       "isJsonSchema": true,
       "metadata": {
        "createTempViewForImplicitDf": true,
        "dataframeName": "_sqldf",
        "executionCount": 57
       },
       "overflow": false,
       "plotOptions": {
        "customPlotOptions": {},
        "displayType": "table",
        "pivotAggregation": null,
        "pivotColumns": null,
        "xColumns": null,
        "yColumns": null
       },
       "removedWidgets": [],
       "schema": [
        {
         "metadata": "{}",
         "name": "start",
         "type": "\"timestamp\""
        },
        {
         "metadata": "{}",
         "name": "end",
         "type": "\"timestamp\""
        },
        {
         "metadata": "{}",
         "name": "total_buy",
         "type": "\"double\""
        },
        {
         "metadata": "{}",
         "name": "total_sell",
         "type": "\"double\""
        }
       ],
       "type": "table"
      }
     },
     "output_type": "display_data"
    }
   ],
   "source": [
    "%sql\n",
    "select * from dev.finance.trades_summary order by end;"
   ]
  }
 ],
 "metadata": {
  "application/vnd.databricks.v1+notebook": {
   "dashboards": [],
   "environmentMetadata": {
    "base_environment": "",
    "client": "1"
   },
   "language": "python",
   "notebookMetadata": {
    "mostRecentlyExecutedCommandWithImplicitDF": {
     "commandId": 4380482404163282,
     "dataframes": [
      "_sqldf"
     ]
    },
    "pythonIndentUnit": 4
   },
   "notebookName": "Tumbling Window - Trade Summary - Time Bounded Stateful Aggregations with Watermark",
   "widgets": {}
  },
  "language_info": {
   "name": "python"
  }
 },
 "nbformat": 4,
 "nbformat_minor": 0
}
