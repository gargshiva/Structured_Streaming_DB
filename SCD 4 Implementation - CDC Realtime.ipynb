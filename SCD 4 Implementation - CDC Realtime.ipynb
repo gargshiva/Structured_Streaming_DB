{
 "cells": [
  {
   "cell_type": "code",
   "execution_count": 0,
   "metadata": {
    "application/vnd.databricks.v1+cell": {
     "cellMetadata": {
      "byteLimit": 2048000,
      "rowLimit": 10000
     },
     "inputWidgets": {},
     "nuid": "64e7bedb-f2e0-4383-a0d1-40ccf1f62cb0",
     "showTitle": false,
     "tableResultSettingsMap": {},
     "title": ""
    }
   },
   "outputs": [],
   "source": [
    "# Process the CDC data using the SCD4 pattern\n",
    "# SCD4 is similar to the SCD2 but we keep the active records in seperate table.\n",
    "from pyspark.sql.functions import *\n",
    "from pyspark.sql import Window\n",
    "\n",
    "class SilverLayer_SCD4:\n",
    "    def __init__(self):\n",
    "        pass\n",
    "\n",
    "    def read_raw_data(self):\n",
    "        raw_df = (\n",
    "            spark\n",
    "            .readStream\n",
    "            .table(\"DEV.scd_raw_layer.users_profile_raw\")\n",
    "        )\n",
    "        return raw_df\n",
    "    \n",
    "    def process_raw_df(self,raw_df):\n",
    "        processed_df = (\n",
    "            raw_df\n",
    "            .selectExpr(\"user_id\",\"update_type\",\"timestamp\",\"dob\",\"sex\",\"gender\",\"first_name\",\"last_name\",\"address.*\")\n",
    "            .withColumnRenamed(\"timestamp\",\"event_timestamp\")\n",
    "            .withColumn(\"event_timestamp\",col(\"event_timestamp\").cast(\"timestamp\"))\n",
    "            .withColumn(\"dob\",to_date(col(\"dob\"),\"mm/dd/yyyy\"))\n",
    "            .withColumn(\"start_time\",col(\"event_timestamp\"))\n",
    "            .withColumn(\"end_time\",lit(None))\n",
    "        )\n",
    "        return processed_df\n",
    "    \n",
    "    def upsert(self,df,batch_id):\n",
    "\n",
    "        # Implement SCD Type1 in the actv table\n",
    "\n",
    "        # pickup the latest records within the microbatch\n",
    "        window_spec = Window.partitionBy(\"user_id\").orderBy(col(\"event_timestamp\").desc())\n",
    "        df_latest = df.withColumn(\"row_num\",row_number().over(window_spec))\n",
    "        df_latest = df_latest.filter(col(\"row_num\") == 1).drop(\"row_num\",\"start_time\",\"end_time\")\n",
    "\n",
    "        df_latest.createOrReplaceTempView(\"users_profile_scd1_4_stage\")\n",
    "\n",
    "        scd1_merge_statement = \"\"\"\n",
    "        MERGE into DEV.scd_silver_layer.users_profile_scd4_actv t\n",
    "        using users_profile_scd1_4_stage s\n",
    "        on s.user_id = t.user_id\n",
    "        when matched and s.update_type = 'update' then update set *\n",
    "        when matched and s.update_type = 'delete' then delete\n",
    "        when not matched and s.update_type = 'new' then insert *\n",
    "        when not matched then insert *\n",
    "        \"\"\"\n",
    "\n",
    "        df_latest._jdf.sparkSession().sql(scd1_merge_statement)\n",
    "\n",
    "        # Implement SCD Type2 in the hist table\n",
    "        window_spec_scd2 = Window.partitionBy(\"user_id\").orderBy(col(\"event_timestamp\"))\n",
    "        df_rnk = df.withColumn(\"row_num\",row_number().over(window_spec_scd2))\n",
    "\n",
    "        # Update the existing records\n",
    "        scd_type2_update_statement = \"\"\"\n",
    "        MERGE into DEV.scd_silver_layer.users_profile_scd4_hist t\n",
    "        using users_profile_update_scd2_4_stage s\n",
    "        on s.user_id = t.user_id\n",
    "        and s.start_time > t.start_time\n",
    "        and t.end_time is null\n",
    "        and s.update_type in ('update','delete')\n",
    "        when matched then update set end_time = s.start_time\n",
    "        \"\"\"\n",
    "\n",
    "        scd_type2_insert_statement = \"\"\"\n",
    "        MERGE into DEV.scd_silver_layer.users_profile_scd4_hist t\n",
    "        using users_profile_insert_scd2_4__stage s\n",
    "        on s.user_id = t.user_id\n",
    "        and t.end_time is null\n",
    "        when not matched \n",
    "        then insert (\n",
    "         user_id,\n",
    "         event_timestamp,\n",
    "         dob,\n",
    "         sex,\n",
    "         gender ,\n",
    "         first_name ,\n",
    "         last_name ,\n",
    "         street_address, \n",
    "         city, \n",
    "         state, \n",
    "         zip,\n",
    "         start_time,\n",
    "         end_time\n",
    "        ) \n",
    "        values(\n",
    "            s.user_id,\n",
    "            s.event_timestamp,\n",
    "            s.dob,\n",
    "            s.sex,\n",
    "            s.gender,\n",
    "            s.first_name,\n",
    "            s.last_name,\n",
    "            s.street_address, \n",
    "            s.city, \n",
    "            s.state, \n",
    "            s.zip,\n",
    "            s.start_time,\n",
    "            s.end_time\n",
    "        )\n",
    "        \"\"\"\n",
    "\n",
    "        mx_rnk = df_rnk.select(max(\"row_num\").alias(\"max_rnk\")).collect()[0][0]\n",
    "        for i in range(1,mx_rnk+1):\n",
    "            t = df_rnk.filter(col(\"row_num\") == i).drop(\"row_num\")\n",
    "            t.createOrReplaceTempView(\"users_profile_update_scd2_4_stage\")\n",
    "            t._jdf.sparkSession().sql(scd_type2_update_statement)\n",
    "\n",
    "            t1=t.filter(col(\"update_type\") != 'delete')\n",
    "            t1.createOrReplaceTempView(\"users_profile_insert_scd2_4__stage\")\n",
    "            t1._jdf.sparkSession().sql(scd_type2_insert_statement)\n",
    "\n",
    "    def write_processed_df(self,processed_df):\n",
    "        streaming_query = (processed_df\n",
    "                            .writeStream\n",
    "                            .queryName(\"user_profile_scd_type4\")\n",
    "                            .option(\"checkpointLocation\",\"/Volumes/dev/scd_silver_layer/users_profile_scd4\")\n",
    "                            .trigger(processingTime=\"1 seconds\")\n",
    "                            .outputMode(\"update\")\n",
    "                            .foreachBatch(self.upsert)\n",
    "                            .start()\n",
    "                          )\n",
    "        \n",
    "        return streaming_query\n",
    "    \n",
    "    def start_streaming_query(self):\n",
    "        raw_df = self.read_raw_data()\n",
    "        processed_df = self.process_raw_df(raw_df)\n",
    "        streaming_query = self.write_processed_df(processed_df)\n",
    "        return streaming_query"
   ]
  },
  {
   "cell_type": "code",
   "execution_count": 0,
   "metadata": {
    "application/vnd.databricks.v1+cell": {
     "cellMetadata": {
      "byteLimit": 2048000,
      "rowLimit": 10000
     },
     "inputWidgets": {},
     "nuid": "312bb38e-628a-4d12-8f07-93579a9f76f4",
     "showTitle": false,
     "tableResultSettingsMap": {},
     "title": ""
    }
   },
   "outputs": [],
   "source": [
    "scd_type4 = SilverLayer_SCD4()\n",
    "streaming_query_scd4 = scd_type4.start_streaming_query()"
   ]
  },
  {
   "cell_type": "code",
   "execution_count": 0,
   "metadata": {
    "application/vnd.databricks.v1+cell": {
     "cellMetadata": {
      "byteLimit": 2048000,
      "rowLimit": 10000
     },
     "inputWidgets": {},
     "nuid": "2d31ac90-0eda-4852-bd4d-2403796562de",
     "showTitle": false,
     "tableResultSettingsMap": {},
     "title": ""
    }
   },
   "outputs": [],
   "source": [
    "streaming_query_scd4.stop()"
   ]
  },
  {
   "cell_type": "code",
   "execution_count": 0,
   "metadata": {
    "application/vnd.databricks.v1+cell": {
     "cellMetadata": {
      "byteLimit": 2048000,
      "implicitDf": true,
      "rowLimit": 10000
     },
     "inputWidgets": {},
     "nuid": "592ed04f-fbec-4be3-b06c-9ce2568938eb",
     "showTitle": false,
     "tableResultSettingsMap": {},
     "title": ""
    }
   },
   "outputs": [
    {
     "output_type": "display_data",
     "data": {
      "text/html": [
       "<style scoped>\n",
       "  .table-result-container {\n",
       "    max-height: 300px;\n",
       "    overflow: auto;\n",
       "  }\n",
       "  table, th, td {\n",
       "    border: 1px solid black;\n",
       "    border-collapse: collapse;\n",
       "  }\n",
       "  th, td {\n",
       "    padding: 5px;\n",
       "  }\n",
       "  th {\n",
       "    text-align: left;\n",
       "  }\n",
       "</style><div class='table-result-container'><table class='table-result'><thead style='background-color: white'><tr><th>user_id</th><th>event_timestamp</th><th>dob</th><th>sex</th><th>gender</th><th>first_name</th><th>last_name</th><th>street_address</th><th>city</th><th>state</th><th>zip</th></tr></thead><tbody><tr><td>12140</td><td>2023-03-10T12:33:45Z</td><td>1999-01-02</td><td>M</td><td>M</td><td>Robert</td><td>Castillo</td><td>68994 Steven Vista</td><td>Pearblossom</td><td>CA</td><td>93553</td></tr><tr><td>12227</td><td>2023-03-10T12:40:28Z</td><td>1949-01-11</td><td>F</td><td>F</td><td>Courtney</td><td>Sheppard</td><td>47754 Angela Plaza Apt. 135</td><td>Los Angeles</td><td>CA</td><td>90010</td></tr><tr><td>14232</td><td>2023-03-11T12:51:27Z</td><td>1979-01-04</td><td>M</td><td>M</td><td>Edward</td><td>Simpson</td><td>92012 Bradley Shoals</td><td>Long Beach</td><td>CA</td><td>90815</td></tr><tr><td>14508</td><td>2023-03-11T12:50:25Z</td><td>1936-01-28</td><td>M</td><td>M</td><td>Justin</td><td>Eaton</td><td>04952 Lori Plain</td><td>Sierra Madre</td><td>CA</td><td>91024</td></tr><tr><td>14633</td><td>2023-03-11T12:47:10Z</td><td>1997-01-04</td><td>F</td><td>F</td><td>Hannah</td><td>Fuller</td><td>81346 Obrien Streets</td><td>Gardena</td><td>CA</td><td>90249</td></tr></tbody></table></div>"
      ]
     },
     "metadata": {
      "application/vnd.databricks.v1+output": {
       "addedWidgets": {},
       "aggData": [],
       "aggError": "",
       "aggOverflow": false,
       "aggSchema": [],
       "aggSeriesLimitReached": false,
       "aggType": "",
       "arguments": {},
       "columnCustomDisplayInfos": {},
       "data": [
        [
         "12140",
         "2023-03-10T12:33:45Z",
         "1999-01-02",
         "M",
         "M",
         "Robert",
         "Castillo",
         "68994 Steven Vista",
         "Pearblossom",
         "CA",
         "93553"
        ],
        [
         "12227",
         "2023-03-10T12:40:28Z",
         "1949-01-11",
         "F",
         "F",
         "Courtney",
         "Sheppard",
         "47754 Angela Plaza Apt. 135",
         "Los Angeles",
         "CA",
         "90010"
        ],
        [
         "14232",
         "2023-03-11T12:51:27Z",
         "1979-01-04",
         "M",
         "M",
         "Edward",
         "Simpson",
         "92012 Bradley Shoals",
         "Long Beach",
         "CA",
         "90815"
        ],
        [
         "14508",
         "2023-03-11T12:50:25Z",
         "1936-01-28",
         "M",
         "M",
         "Justin",
         "Eaton",
         "04952 Lori Plain",
         "Sierra Madre",
         "CA",
         "91024"
        ],
        [
         "14633",
         "2023-03-11T12:47:10Z",
         "1997-01-04",
         "F",
         "F",
         "Hannah",
         "Fuller",
         "81346 Obrien Streets",
         "Gardena",
         "CA",
         "90249"
        ]
       ],
       "datasetInfos": [],
       "dbfsResultPath": null,
       "isJsonSchema": true,
       "metadata": {
        "createTempViewForImplicitDf": true,
        "dataframeName": "_sqldf",
        "executionCount": 3
       },
       "overflow": false,
       "plotOptions": {
        "customPlotOptions": {},
        "displayType": "table",
        "pivotAggregation": null,
        "pivotColumns": null,
        "xColumns": null,
        "yColumns": null
       },
       "removedWidgets": [],
       "schema": [
        {
         "metadata": "{}",
         "name": "user_id",
         "type": "\"string\""
        },
        {
         "metadata": "{}",
         "name": "event_timestamp",
         "type": "\"timestamp\""
        },
        {
         "metadata": "{}",
         "name": "dob",
         "type": "\"date\""
        },
        {
         "metadata": "{}",
         "name": "sex",
         "type": "\"string\""
        },
        {
         "metadata": "{}",
         "name": "gender",
         "type": "\"string\""
        },
        {
         "metadata": "{}",
         "name": "first_name",
         "type": "\"string\""
        },
        {
         "metadata": "{}",
         "name": "last_name",
         "type": "\"string\""
        },
        {
         "metadata": "{}",
         "name": "street_address",
         "type": "\"string\""
        },
        {
         "metadata": "{}",
         "name": "city",
         "type": "\"string\""
        },
        {
         "metadata": "{}",
         "name": "state",
         "type": "\"string\""
        },
        {
         "metadata": "{}",
         "name": "zip",
         "type": "\"string\""
        }
       ],
       "type": "table"
      }
     },
     "output_type": "display_data"
    }
   ],
   "source": [
    "%sql\n",
    "select * from DEV.scd_silver_layer.users_profile_scd4_actv;"
   ]
  },
  {
   "cell_type": "code",
   "execution_count": 0,
   "metadata": {
    "application/vnd.databricks.v1+cell": {
     "cellMetadata": {
      "byteLimit": 2048000,
      "implicitDf": true,
      "rowLimit": 10000
     },
     "inputWidgets": {},
     "nuid": "de0e2517-bcfe-4fb0-bc48-d3f462964276",
     "showTitle": false,
     "tableResultSettingsMap": {},
     "title": ""
    }
   },
   "outputs": [
    {
     "output_type": "display_data",
     "data": {
      "text/html": [
       "<style scoped>\n",
       "  .table-result-container {\n",
       "    max-height: 300px;\n",
       "    overflow: auto;\n",
       "  }\n",
       "  table, th, td {\n",
       "    border: 1px solid black;\n",
       "    border-collapse: collapse;\n",
       "  }\n",
       "  th, td {\n",
       "    padding: 5px;\n",
       "  }\n",
       "  th {\n",
       "    text-align: left;\n",
       "  }\n",
       "</style><div class='table-result-container'><table class='table-result'><thead style='background-color: white'><tr><th>user_id</th><th>event_timestamp</th><th>dob</th><th>sex</th><th>gender</th><th>first_name</th><th>last_name</th><th>street_address</th><th>city</th><th>state</th><th>zip</th><th>start_time</th><th>end_time</th></tr></thead><tbody><tr><td>12227</td><td>2023-03-10T12:40:28Z</td><td>1949-01-11</td><td>F</td><td>F</td><td>Courtney</td><td>Sheppard</td><td>47754 Angela Plaza Apt. 135</td><td>Los Angeles</td><td>CA</td><td>90010</td><td>2023-03-10T12:40:28Z</td><td>null</td></tr><tr><td>14232</td><td>2023-03-11T12:51:27Z</td><td>1979-01-04</td><td>M</td><td>M</td><td>Edward</td><td>Simpson</td><td>92012 Bradley Shoals</td><td>Long Beach</td><td>CA</td><td>90815</td><td>2023-03-11T12:51:27Z</td><td>null</td></tr><tr><td>14508</td><td>2023-03-11T12:50:25Z</td><td>1936-01-28</td><td>M</td><td>M</td><td>Justin</td><td>Eaton</td><td>04952 Lori Plain</td><td>Sierra Madre</td><td>CA</td><td>91024</td><td>2023-03-11T12:50:25Z</td><td>null</td></tr><tr><td>14633</td><td>2023-03-11T12:47:10Z</td><td>1997-01-04</td><td>F</td><td>F</td><td>Hannah</td><td>Fuller</td><td>81346 Obrien Streets</td><td>Gardena</td><td>CA</td><td>90249</td><td>2023-03-11T12:47:10Z</td><td>null</td></tr><tr><td>12140</td><td>2023-03-10T12:32:09Z</td><td>1999-01-02</td><td>M</td><td>M</td><td>Robert</td><td>Clark</td><td>68994 Steven Vista</td><td>Pearblossom</td><td>CA</td><td>93553</td><td>2023-03-10T12:32:09Z</td><td>2023-03-10T12:33:45Z</td></tr><tr><td>12140</td><td>2023-03-10T12:33:45Z</td><td>1999-01-02</td><td>M</td><td>M</td><td>Robert</td><td>Castillo</td><td>68994 Steven Vista</td><td>Pearblossom</td><td>CA</td><td>93553</td><td>2023-03-10T12:33:45Z</td><td>null</td></tr></tbody></table></div>"
      ]
     },
     "metadata": {
      "application/vnd.databricks.v1+output": {
       "addedWidgets": {},
       "aggData": [],
       "aggError": "",
       "aggOverflow": false,
       "aggSchema": [],
       "aggSeriesLimitReached": false,
       "aggType": "",
       "arguments": {},
       "columnCustomDisplayInfos": {},
       "data": [
        [
         "12227",
         "2023-03-10T12:40:28Z",
         "1949-01-11",
         "F",
         "F",
         "Courtney",
         "Sheppard",
         "47754 Angela Plaza Apt. 135",
         "Los Angeles",
         "CA",
         "90010",
         "2023-03-10T12:40:28Z",
         null
        ],
        [
         "14232",
         "2023-03-11T12:51:27Z",
         "1979-01-04",
         "M",
         "M",
         "Edward",
         "Simpson",
         "92012 Bradley Shoals",
         "Long Beach",
         "CA",
         "90815",
         "2023-03-11T12:51:27Z",
         null
        ],
        [
         "14508",
         "2023-03-11T12:50:25Z",
         "1936-01-28",
         "M",
         "M",
         "Justin",
         "Eaton",
         "04952 Lori Plain",
         "Sierra Madre",
         "CA",
         "91024",
         "2023-03-11T12:50:25Z",
         null
        ],
        [
         "14633",
         "2023-03-11T12:47:10Z",
         "1997-01-04",
         "F",
         "F",
         "Hannah",
         "Fuller",
         "81346 Obrien Streets",
         "Gardena",
         "CA",
         "90249",
         "2023-03-11T12:47:10Z",
         null
        ],
        [
         "12140",
         "2023-03-10T12:32:09Z",
         "1999-01-02",
         "M",
         "M",
         "Robert",
         "Clark",
         "68994 Steven Vista",
         "Pearblossom",
         "CA",
         "93553",
         "2023-03-10T12:32:09Z",
         "2023-03-10T12:33:45Z"
        ],
        [
         "12140",
         "2023-03-10T12:33:45Z",
         "1999-01-02",
         "M",
         "M",
         "Robert",
         "Castillo",
         "68994 Steven Vista",
         "Pearblossom",
         "CA",
         "93553",
         "2023-03-10T12:33:45Z",
         null
        ]
       ],
       "datasetInfos": [],
       "dbfsResultPath": null,
       "isJsonSchema": true,
       "metadata": {
        "createTempViewForImplicitDf": true,
        "dataframeName": "_sqldf",
        "executionCount": 6
       },
       "overflow": false,
       "plotOptions": {
        "customPlotOptions": {},
        "displayType": "table",
        "pivotAggregation": null,
        "pivotColumns": null,
        "xColumns": null,
        "yColumns": null
       },
       "removedWidgets": [],
       "schema": [
        {
         "metadata": "{}",
         "name": "user_id",
         "type": "\"string\""
        },
        {
         "metadata": "{}",
         "name": "event_timestamp",
         "type": "\"timestamp\""
        },
        {
         "metadata": "{}",
         "name": "dob",
         "type": "\"date\""
        },
        {
         "metadata": "{}",
         "name": "sex",
         "type": "\"string\""
        },
        {
         "metadata": "{}",
         "name": "gender",
         "type": "\"string\""
        },
        {
         "metadata": "{}",
         "name": "first_name",
         "type": "\"string\""
        },
        {
         "metadata": "{}",
         "name": "last_name",
         "type": "\"string\""
        },
        {
         "metadata": "{}",
         "name": "street_address",
         "type": "\"string\""
        },
        {
         "metadata": "{}",
         "name": "city",
         "type": "\"string\""
        },
        {
         "metadata": "{}",
         "name": "state",
         "type": "\"string\""
        },
        {
         "metadata": "{}",
         "name": "zip",
         "type": "\"string\""
        },
        {
         "metadata": "{}",
         "name": "start_time",
         "type": "\"timestamp\""
        },
        {
         "metadata": "{}",
         "name": "end_time",
         "type": "\"timestamp\""
        }
       ],
       "type": "table"
      }
     },
     "output_type": "display_data"
    }
   ],
   "source": [
    "%sql\n",
    "select * from DEV.scd_silver_layer.users_profile_scd4_hist;"
   ]
  }
 ],
 "metadata": {
  "application/vnd.databricks.v1+notebook": {
   "computePreferences": null,
   "dashboards": [],
   "environmentMetadata": {
    "base_environment": "",
    "client": "1"
   },
   "language": "python",
   "notebookMetadata": {
    "mostRecentlyExecutedCommandWithImplicitDF": {
     "commandId": 4778204268589553,
     "dataframes": [
      "_sqldf"
     ]
    },
    "pythonIndentUnit": 4
   },
   "notebookName": "SCD 4 Implementation - CDC Realtime",
   "widgets": {}
  },
  "language_info": {
   "name": "python"
  }
 },
 "nbformat": 4,
 "nbformat_minor": 0
}