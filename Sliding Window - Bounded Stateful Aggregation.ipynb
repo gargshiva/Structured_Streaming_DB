{
 "cells": [
  {
   "cell_type": "code",
   "execution_count": 0,
   "metadata": {
    "application/vnd.databricks.v1+cell": {
     "cellMetadata": {
      "byteLimit": 2048000,
      "implicitDf": true,
      "rowLimit": 10000
     },
     "inputWidgets": {},
     "nuid": "b953e271-7a8a-48d5-9031-e31bd08bb692",
     "showTitle": false,
     "tableResultSettingsMap": {},
     "title": ""
    }
   },
   "outputs": [
    {
     "output_type": "display_data",
     "data": {
      "text/html": [
       "<style scoped>\n",
       "  .table-result-container {\n",
       "    max-height: 300px;\n",
       "    overflow: auto;\n",
       "  }\n",
       "  table, th, td {\n",
       "    border: 1px solid black;\n",
       "    border-collapse: collapse;\n",
       "  }\n",
       "  th, td {\n",
       "    padding: 5px;\n",
       "  }\n",
       "  th {\n",
       "    text-align: left;\n",
       "  }\n",
       "</style><div class='table-result-container'><table class='table-result'><thead style='background-color: white'><tr></tr></thead><tbody></tbody></table></div>"
      ]
     },
     "metadata": {
      "application/vnd.databricks.v1+output": {
       "addedWidgets": {},
       "aggData": [],
       "aggError": "",
       "aggOverflow": false,
       "aggSchema": [],
       "aggSeriesLimitReached": false,
       "aggType": "",
       "arguments": {},
       "columnCustomDisplayInfos": {},
       "data": [],
       "datasetInfos": [],
       "dbfsResultPath": null,
       "isJsonSchema": true,
       "metadata": {
        "dataframeName": null
       },
       "overflow": false,
       "plotOptions": {
        "customPlotOptions": {},
        "displayType": "table",
        "pivotAggregation": null,
        "pivotColumns": null,
        "xColumns": null,
        "yColumns": null
       },
       "removedWidgets": [],
       "schema": [],
       "type": "table"
      }
     },
     "output_type": "display_data"
    }
   ],
   "source": [
    "%sql\n",
    "\n",
    "drop database if exists dev.iot_sensor cascade;\n",
    "create database if not exists dev.iot_sensor;\n",
    "\n",
    "-- Brone Layer table to store kafka data.\n",
    "create table if not exists dev.iot_sensor.temp_sensor_raw (\n",
    "  key string,\n",
    "  value string\n",
    ") using delta;\n",
    "\n",
    "INSERT INTO dev.iot_sensor.temp_sensor_raw VALUES\n",
    "                  ('SET41', '{\"CreatedTime\": \"2019-02-05 09:54:00\",\"Reading\": 36.2}'),\n",
    "                  ('SET41', '{\"CreatedTime\": \"2019-02-05 09:59:00\",\"Reading\": 36.5}'),\n",
    "                  ('SET41', '{\"CreatedTime\": \"2019-02-05 10:04:00\",\"Reading\": 36.8}'),\n",
    "                  ('SET41', '{\"CreatedTime\": \"2019-02-05 10:09:00\",\"Reading\": 36.2}'),\n",
    "                  ('SET41', '{\"CreatedTime\": \"2019-02-05 10:14:00\",\"Reading\": 36.5}'),\n",
    "                  ('SET41', '{\"CreatedTime\": \"2019-02-05 10:19:00\",\"Reading\": 36.3}'),\n",
    "                  ('SET41', '{\"CreatedTime\": \"2019-02-05 10:24:00\",\"Reading\": 37.7}'),\n",
    "                  ('SET41', '{\"CreatedTime\": \"2019-02-05 10:29:00\",\"Reading\": 37.2}');\n",
    "\n",
    "\n",
    "create external volume if not exists dev.iot_sensor.max_temp_sensor_checkpoint\n",
    "location 'abfss://structured-streaming-course@dbstorageact.dfs.core.windows.net/sensor_analysis_app/max_temp_sensor_checkpoint';\n",
    "\n"
   ]
  },
  {
   "cell_type": "code",
   "execution_count": 0,
   "metadata": {
    "application/vnd.databricks.v1+cell": {
     "cellMetadata": {
      "byteLimit": 2048000,
      "implicitDf": true,
      "rowLimit": 10000
     },
     "inputWidgets": {},
     "nuid": "5ed1bd36-4d1f-45d9-b2d1-ecb6f9a9edb7",
     "showTitle": false,
     "tableResultSettingsMap": {},
     "title": ""
    }
   },
   "outputs": [
    {
     "output_type": "display_data",
     "data": {
      "text/html": [
       "<style scoped>\n",
       "  .table-result-container {\n",
       "    max-height: 300px;\n",
       "    overflow: auto;\n",
       "  }\n",
       "  table, th, td {\n",
       "    border: 1px solid black;\n",
       "    border-collapse: collapse;\n",
       "  }\n",
       "  th, td {\n",
       "    padding: 5px;\n",
       "  }\n",
       "  th {\n",
       "    text-align: left;\n",
       "  }\n",
       "</style><div class='table-result-container'><table class='table-result'><thead style='background-color: white'><tr><th>key</th><th>value</th></tr></thead><tbody><tr><td>SET41</td><td>{\"CreatedTime\": \"2019-02-05 09:54:00\",\"Reading\": 36.2}</td></tr><tr><td>SET41</td><td>{\"CreatedTime\": \"2019-02-05 09:59:00\",\"Reading\": 36.5}</td></tr><tr><td>SET41</td><td>{\"CreatedTime\": \"2019-02-05 10:04:00\",\"Reading\": 36.8}</td></tr><tr><td>SET41</td><td>{\"CreatedTime\": \"2019-02-05 10:09:00\",\"Reading\": 36.2}</td></tr><tr><td>SET41</td><td>{\"CreatedTime\": \"2019-02-05 10:14:00\",\"Reading\": 36.5}</td></tr><tr><td>SET41</td><td>{\"CreatedTime\": \"2019-02-05 10:19:00\",\"Reading\": 36.3}</td></tr><tr><td>SET41</td><td>{\"CreatedTime\": \"2019-02-05 10:24:00\",\"Reading\": 37.7}</td></tr><tr><td>SET41</td><td>{\"CreatedTime\": \"2019-02-05 10:29:00\",\"Reading\": 37.2}</td></tr></tbody></table></div>"
      ]
     },
     "metadata": {
      "application/vnd.databricks.v1+output": {
       "addedWidgets": {},
       "aggData": [],
       "aggError": "",
       "aggOverflow": false,
       "aggSchema": [],
       "aggSeriesLimitReached": false,
       "aggType": "",
       "arguments": {},
       "columnCustomDisplayInfos": {},
       "data": [
        [
         "SET41",
         "{\"CreatedTime\": \"2019-02-05 09:54:00\",\"Reading\": 36.2}"
        ],
        [
         "SET41",
         "{\"CreatedTime\": \"2019-02-05 09:59:00\",\"Reading\": 36.5}"
        ],
        [
         "SET41",
         "{\"CreatedTime\": \"2019-02-05 10:04:00\",\"Reading\": 36.8}"
        ],
        [
         "SET41",
         "{\"CreatedTime\": \"2019-02-05 10:09:00\",\"Reading\": 36.2}"
        ],
        [
         "SET41",
         "{\"CreatedTime\": \"2019-02-05 10:14:00\",\"Reading\": 36.5}"
        ],
        [
         "SET41",
         "{\"CreatedTime\": \"2019-02-05 10:19:00\",\"Reading\": 36.3}"
        ],
        [
         "SET41",
         "{\"CreatedTime\": \"2019-02-05 10:24:00\",\"Reading\": 37.7}"
        ],
        [
         "SET41",
         "{\"CreatedTime\": \"2019-02-05 10:29:00\",\"Reading\": 37.2}"
        ]
       ],
       "datasetInfos": [],
       "dbfsResultPath": null,
       "isJsonSchema": true,
       "metadata": {
        "createTempViewForImplicitDf": true,
        "dataframeName": "_sqldf",
        "executionCount": 1
       },
       "overflow": false,
       "plotOptions": {
        "customPlotOptions": {},
        "displayType": "table",
        "pivotAggregation": null,
        "pivotColumns": null,
        "xColumns": null,
        "yColumns": null
       },
       "removedWidgets": [],
       "schema": [
        {
         "metadata": "{}",
         "name": "key",
         "type": "\"string\""
        },
        {
         "metadata": "{}",
         "name": "value",
         "type": "\"string\""
        }
       ],
       "type": "table"
      }
     },
     "output_type": "display_data"
    }
   ],
   "source": [
    "%sql\n",
    "select * from dev.iot_sensor.temp_sensor_raw;"
   ]
  },
  {
   "cell_type": "code",
   "execution_count": 0,
   "metadata": {
    "application/vnd.databricks.v1+cell": {
     "cellMetadata": {
      "byteLimit": 2048000,
      "rowLimit": 10000
     },
     "inputWidgets": {},
     "nuid": "0329acf1-2f67-47ba-b143-c2ba0cc9d625",
     "showTitle": false,
     "tableResultSettingsMap": {},
     "title": ""
    }
   },
   "outputs": [],
   "source": [
    "from pyspark.sql.functions import *\n",
    "from pyspark.sql.types import *\n",
    "\n",
    "class MaxTempAnalysis:\n",
    "    \n",
    "    def __init__(self):\n",
    "        self.bz_layer_raw_tb = \"dev.iot_sensor.temp_sensor_raw\"\n",
    "\n",
    "    def get_schema(self):\n",
    "        return StructType([\n",
    "            StructField(\"CreatedTime\", StringType(), True),\n",
    "            StructField(\"Reading\", DoubleType(), True),\n",
    "        ])\n",
    "    \n",
    "    def load_raw_data(self):\n",
    "        return spark.readStream.format(\"delta\").table(self.bz_layer_raw_tb)\n",
    "    \n",
    "    def formaat_raw_data(self, raw_df):\n",
    "        formatted_df = (raw_df\n",
    "                        .withColumn(\"SensorId\",raw_df.key)\n",
    "                        .withColumn(\"value\",from_json(raw_df.value,self.get_schema()))\n",
    "                        .select(\"SensorId\",\"value.*\")\n",
    "                        .withColumn(\"CreatedTime\",to_timestamp(\"CreatedTime\",\"yyyy-MM-dd HH:mm:ss\"))\n",
    "                        )\n",
    "        return formatted_df\n",
    "    \n",
    "    def find_max_temp_reading(self, formatted_df):\n",
    "        agg_df = (formatted_df\n",
    "                  .groupBy(\"SensorId\",window(\"CreatedTime\",\"15 minutes\",\"5 minutes\"))\n",
    "                  .agg(max(\"Reading\").alias(\"max_temp\"))\n",
    "                  .select(\"SensorId\",\"window.start\",\"window.end\",\"max_temp\")\n",
    "                 )\n",
    "        return agg_df\n",
    "    \n",
    "    def write_to_table(self, agg_df):\n",
    "        streaming_query = (agg_df\n",
    "                           .writeStream\n",
    "                           .queryName(\"max_temp_reading\")\n",
    "                           .outputMode(\"complete\")\n",
    "                           .option(\"checkpointLocation\",\"/Volumes/dev/iot_sensor/max_temp_sensor_checkpoint\")\n",
    "                           .table(\"dev.iot_sensor.max_temp_readings\")\n",
    "                           )\n",
    "        return streaming_query\n",
    "    \n",
    "    def start_stream(self):\n",
    "       raw_data = self.load_raw_data()\n",
    "       formatted_data = self.formaat_raw_data(raw_data)\n",
    "       agg_data = self.find_max_temp_reading(formatted_data)\n",
    "       return self.write_to_table(agg_data)\n"
   ]
  },
  {
   "cell_type": "code",
   "execution_count": 0,
   "metadata": {
    "application/vnd.databricks.v1+cell": {
     "cellMetadata": {
      "byteLimit": 2048000,
      "rowLimit": 10000
     },
     "inputWidgets": {},
     "nuid": "b57421eb-af0e-404c-8f95-252fb51ad6d0",
     "showTitle": false,
     "tableResultSettingsMap": {},
     "title": ""
    }
   },
   "outputs": [],
   "source": [
    "max_temp = MaxTempAnalysis()\n",
    "streaming_query= max_temp.start_stream()"
   ]
  },
  {
   "cell_type": "code",
   "execution_count": 0,
   "metadata": {
    "application/vnd.databricks.v1+cell": {
     "cellMetadata": {
      "byteLimit": 2048000,
      "rowLimit": 10000
     },
     "inputWidgets": {},
     "nuid": "8d3977eb-2c90-4c11-b5f6-3fcdb1e7bbe0",
     "showTitle": false,
     "tableResultSettingsMap": {},
     "title": ""
    }
   },
   "outputs": [],
   "source": [
    "streaming_query.stop()"
   ]
  },
  {
   "cell_type": "code",
   "execution_count": 0,
   "metadata": {
    "application/vnd.databricks.v1+cell": {
     "cellMetadata": {
      "byteLimit": 2048000,
      "implicitDf": true,
      "rowLimit": 10000
     },
     "inputWidgets": {},
     "nuid": "5b01094d-cf6b-4e15-b46f-d682ab4ecc38",
     "showTitle": false,
     "tableResultSettingsMap": {},
     "title": ""
    }
   },
   "outputs": [
    {
     "output_type": "display_data",
     "data": {
      "text/html": [
       "<style scoped>\n",
       "  .table-result-container {\n",
       "    max-height: 300px;\n",
       "    overflow: auto;\n",
       "  }\n",
       "  table, th, td {\n",
       "    border: 1px solid black;\n",
       "    border-collapse: collapse;\n",
       "  }\n",
       "  th, td {\n",
       "    padding: 5px;\n",
       "  }\n",
       "  th {\n",
       "    text-align: left;\n",
       "  }\n",
       "</style><div class='table-result-container'><table class='table-result'><thead style='background-color: white'><tr><th>SensorId</th><th>start</th><th>end</th><th>max_temp</th></tr></thead><tbody><tr><td>SET41</td><td>2019-02-05T09:40:00Z</td><td>2019-02-05T09:55:00Z</td><td>36.2</td></tr><tr><td>SET41</td><td>2019-02-05T09:45:00Z</td><td>2019-02-05T10:00:00Z</td><td>36.5</td></tr><tr><td>SET41</td><td>2019-02-05T09:50:00Z</td><td>2019-02-05T10:05:00Z</td><td>36.8</td></tr><tr><td>SET41</td><td>2019-02-05T09:55:00Z</td><td>2019-02-05T10:10:00Z</td><td>36.8</td></tr><tr><td>SET41</td><td>2019-02-05T10:00:00Z</td><td>2019-02-05T10:15:00Z</td><td>36.8</td></tr><tr><td>SET41</td><td>2019-02-05T10:05:00Z</td><td>2019-02-05T10:20:00Z</td><td>36.5</td></tr><tr><td>SET41</td><td>2019-02-05T10:10:00Z</td><td>2019-02-05T10:25:00Z</td><td>37.7</td></tr><tr><td>SET41</td><td>2019-02-05T10:15:00Z</td><td>2019-02-05T10:30:00Z</td><td>37.7</td></tr><tr><td>SET41</td><td>2019-02-05T10:20:00Z</td><td>2019-02-05T10:35:00Z</td><td>37.7</td></tr><tr><td>SET41</td><td>2019-02-05T10:25:00Z</td><td>2019-02-05T10:40:00Z</td><td>37.2</td></tr></tbody></table></div>"
      ]
     },
     "metadata": {
      "application/vnd.databricks.v1+output": {
       "addedWidgets": {},
       "aggData": [],
       "aggError": "",
       "aggOverflow": false,
       "aggSchema": [],
       "aggSeriesLimitReached": false,
       "aggType": "",
       "arguments": {},
       "columnCustomDisplayInfos": {},
       "data": [
        [
         "SET41",
         "2019-02-05T09:40:00Z",
         "2019-02-05T09:55:00Z",
         36.2
        ],
        [
         "SET41",
         "2019-02-05T09:45:00Z",
         "2019-02-05T10:00:00Z",
         36.5
        ],
        [
         "SET41",
         "2019-02-05T09:50:00Z",
         "2019-02-05T10:05:00Z",
         36.8
        ],
        [
         "SET41",
         "2019-02-05T09:55:00Z",
         "2019-02-05T10:10:00Z",
         36.8
        ],
        [
         "SET41",
         "2019-02-05T10:00:00Z",
         "2019-02-05T10:15:00Z",
         36.8
        ],
        [
         "SET41",
         "2019-02-05T10:05:00Z",
         "2019-02-05T10:20:00Z",
         36.5
        ],
        [
         "SET41",
         "2019-02-05T10:10:00Z",
         "2019-02-05T10:25:00Z",
         37.7
        ],
        [
         "SET41",
         "2019-02-05T10:15:00Z",
         "2019-02-05T10:30:00Z",
         37.7
        ],
        [
         "SET41",
         "2019-02-05T10:20:00Z",
         "2019-02-05T10:35:00Z",
         37.7
        ],
        [
         "SET41",
         "2019-02-05T10:25:00Z",
         "2019-02-05T10:40:00Z",
         37.2
        ]
       ],
       "datasetInfos": [],
       "dbfsResultPath": null,
       "isJsonSchema": true,
       "metadata": {
        "createTempViewForImplicitDf": true,
        "dataframeName": "_sqldf",
        "executionCount": 11
       },
       "overflow": false,
       "plotOptions": {
        "customPlotOptions": {},
        "displayType": "table",
        "pivotAggregation": null,
        "pivotColumns": null,
        "xColumns": null,
        "yColumns": null
       },
       "removedWidgets": [],
       "schema": [
        {
         "metadata": "{}",
         "name": "SensorId",
         "type": "\"string\""
        },
        {
         "metadata": "{}",
         "name": "start",
         "type": "\"timestamp\""
        },
        {
         "metadata": "{}",
         "name": "end",
         "type": "\"timestamp\""
        },
        {
         "metadata": "{}",
         "name": "max_temp",
         "type": "\"double\""
        }
       ],
       "type": "table"
      }
     },
     "output_type": "display_data"
    }
   ],
   "source": [
    "%sql\n",
    "select * from dev.iot_sensor.max_temp_readings order by end;"
   ]
  }
 ],
 "metadata": {
  "application/vnd.databricks.v1+notebook": {
   "dashboards": [],
   "environmentMetadata": {
    "base_environment": "",
    "client": "1"
   },
   "language": "python",
   "notebookMetadata": {
    "mostRecentlyExecutedCommandWithImplicitDF": {
     "commandId": 2102794384418180,
     "dataframes": [
      "_sqldf"
     ]
    },
    "pythonIndentUnit": 4
   },
   "notebookName": "Sliding Window - Bounded Stateful Aggregation",
   "widgets": {}
  },
  "language_info": {
   "name": "python"
  }
 },
 "nbformat": 4,
 "nbformat_minor": 0
}
