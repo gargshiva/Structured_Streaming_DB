{
 "cells": [
  {
   "cell_type": "code",
   "execution_count": 0,
   "metadata": {
    "application/vnd.databricks.v1+cell": {
     "cellMetadata": {
      "byteLimit": 2048000,
      "rowLimit": 10000
     },
     "inputWidgets": {},
     "nuid": "9eb8ec6c-9375-4a3b-88fb-b572f496552f",
     "showTitle": false,
     "tableResultSettingsMap": {},
     "title": ""
    }
   },
   "outputs": [],
   "source": [
    "from pyspark.sql.functions import *\n",
    "from pyspark.sql import Window\n",
    "\n",
    "\n",
    "class SilverLayer_SCD1:\n",
    "    def __init__(self):\n",
    "        pass\n",
    "\n",
    "    def load_raw_data(self):\n",
    "        raw_df = (spark\n",
    "                  .readStream\n",
    "                  .table(\"DEV.scd_raw_layer.users_profile_raw\")\n",
    "                 )\n",
    "        \n",
    "        processed_df =  (raw_df\n",
    "                 .selectExpr(\"user_id\",\"update_type\",\"timestamp\",\"dob\",\"sex\",\"gender\",\"first_name\",\"last_name\",\"address.*\")\n",
    "                 .withColumnRenamed(\"timestamp\",\"event_timestamp\")\n",
    "                 .withColumn(\"event_timestamp\",col(\"event_timestamp\").cast(\"timestamp\"))\n",
    "                 .withColumn(\"dob\",to_date(col(\"dob\"),\"mm/dd/yyyy\"))\n",
    "              )\n",
    "\n",
    "        return processed_df\n",
    "\n",
    "    # Implement SCD1\n",
    "    # Overwrite the changes - No need to maintain any history\n",
    "    def upsert(self,df,batch_id):\n",
    "\n",
    "        # Within microbatch pick the latest records.\n",
    "        # Remove Duplicates within the microbatch\n",
    "        window_spec = Window.partitionBy(\"user_id\").orderBy(col(\"event_timestamp\").desc())\n",
    "        df_rank = df.withColumn(\"row_num\",row_number().over(window_spec))\n",
    "        dedup_df = df_rank.filter(col(\"row_num\") == 1).drop(\"row_num\")\n",
    "\n",
    "        dedup_df.createOrReplaceTempView(\"users_profile_scd1_stage\")\n",
    "\n",
    "        # Overwrite the records across the microbatches\n",
    "        merge_statment = \"\"\"\n",
    "        MERGE into DEV.scd_silver_layer.users_profile_scd1 t\n",
    "        using users_profile_scd1_stage s\n",
    "        on t.user_id = s.user_id\n",
    "        when matched and s.update_type = 'update'  then update set *\n",
    "        when matched and s.update_type = 'delete' then delete\n",
    "        when not matched and s.update_type = 'new' then insert *\n",
    "        when not matched then insert *\n",
    "        \"\"\"\n",
    "\n",
    "        df._jdf.sparkSession().sql(merge_statment)\n",
    "\n",
    "    def implement_scd1(self,raw_df):\n",
    "        streaming_query = (raw_df\n",
    "                          .writeStream\n",
    "                          .queryName(\"User_profile_scd1_silver_layer\")\n",
    "                          .option(\"checkpointLocation\",\"/Volumes/dev/scd_silver_layer/users_profile_scd1\")\n",
    "                          .trigger(processingTime=\"1 seconds\")\n",
    "                          .outputMode(\"update\")\n",
    "                          .foreachBatch(self.upsert)\n",
    "                          .start()\n",
    "                          )\n",
    "        return streaming_query\n",
    "    \n",
    "    def start_streaming_query(self):\n",
    "        raw_df = self.load_raw_data()\n",
    "        streaming_query = self.implement_scd1(raw_df)\n",
    "        return streaming_query\n",
    "    \n",
    "    "
   ]
  },
  {
   "cell_type": "code",
   "execution_count": 0,
   "metadata": {
    "application/vnd.databricks.v1+cell": {
     "cellMetadata": {
      "byteLimit": 2048000,
      "rowLimit": 10000
     },
     "inputWidgets": {},
     "nuid": "2ada6ff9-be11-413a-938b-ffe420f07a5b",
     "showTitle": false,
     "tableResultSettingsMap": {},
     "title": ""
    }
   },
   "outputs": [],
   "source": [
    "silver_layer = SilverLayer_SCD1()\n",
    "streaming_query = silver_layer.start_streaming_query()"
   ]
  },
  {
   "cell_type": "code",
   "execution_count": 0,
   "metadata": {
    "application/vnd.databricks.v1+cell": {
     "cellMetadata": {
      "byteLimit": 2048000,
      "rowLimit": 10000
     },
     "inputWidgets": {},
     "nuid": "c01551f4-eca5-4d79-b8b1-a82001e21c28",
     "showTitle": false,
     "tableResultSettingsMap": {},
     "title": ""
    }
   },
   "outputs": [],
   "source": [
    "streaming_query.stop()"
   ]
  },
  {
   "cell_type": "code",
   "execution_count": 0,
   "metadata": {
    "application/vnd.databricks.v1+cell": {
     "cellMetadata": {
      "byteLimit": 2048000,
      "implicitDf": true,
      "rowLimit": 10000
     },
     "inputWidgets": {},
     "nuid": "a601cced-f708-4262-9dc1-6cba9d74cd7e",
     "showTitle": false,
     "tableResultSettingsMap": {},
     "title": ""
    }
   },
   "outputs": [
    {
     "output_type": "display_data",
     "data": {
      "text/html": [
       "<style scoped>\n",
       "  .table-result-container {\n",
       "    max-height: 300px;\n",
       "    overflow: auto;\n",
       "  }\n",
       "  table, th, td {\n",
       "    border: 1px solid black;\n",
       "    border-collapse: collapse;\n",
       "  }\n",
       "  th, td {\n",
       "    padding: 5px;\n",
       "  }\n",
       "  th {\n",
       "    text-align: left;\n",
       "  }\n",
       "</style><div class='table-result-container'><table class='table-result'><thead style='background-color: white'><tr><th>user_id</th><th>event_timestamp</th><th>dob</th><th>sex</th><th>gender</th><th>first_name</th><th>last_name</th><th>street_address</th><th>city</th><th>state</th><th>zip</th></tr></thead><tbody><tr><td>12140</td><td>2023-03-10T12:33:45Z</td><td>1999-01-02</td><td>M</td><td>M</td><td>Robert</td><td>Castillo</td><td>68994 Steven Vista</td><td>Pearblossom</td><td>CA</td><td>93553</td></tr><tr><td>12227</td><td>2023-03-10T12:40:28Z</td><td>1949-01-11</td><td>F</td><td>F</td><td>Courtney</td><td>Sheppard</td><td>47754 Angela Plaza Apt. 135</td><td>Los Angeles</td><td>CA</td><td>90010</td></tr><tr><td>14232</td><td>2023-03-11T12:51:27Z</td><td>1979-01-04</td><td>M</td><td>M</td><td>Edward</td><td>Simpson</td><td>92012 Bradley Shoals</td><td>Long Beach</td><td>CA</td><td>90815</td></tr><tr><td>14508</td><td>2023-03-11T12:50:25Z</td><td>1936-01-28</td><td>M</td><td>M</td><td>Justin</td><td>Eaton</td><td>04952 Lori Plain</td><td>Sierra Madre</td><td>CA</td><td>91024</td></tr><tr><td>14633</td><td>2023-03-11T12:47:10Z</td><td>1997-01-04</td><td>F</td><td>F</td><td>Hannah</td><td>Fuller</td><td>81346 Obrien Streets</td><td>Gardena</td><td>CA</td><td>90249</td></tr></tbody></table></div>"
      ]
     },
     "metadata": {
      "application/vnd.databricks.v1+output": {
       "addedWidgets": {},
       "aggData": [],
       "aggError": "",
       "aggOverflow": false,
       "aggSchema": [],
       "aggSeriesLimitReached": false,
       "aggType": "",
       "arguments": {},
       "columnCustomDisplayInfos": {},
       "data": [
        [
         "12140",
         "2023-03-10T12:33:45Z",
         "1999-01-02",
         "M",
         "M",
         "Robert",
         "Castillo",
         "68994 Steven Vista",
         "Pearblossom",
         "CA",
         "93553"
        ],
        [
         "12227",
         "2023-03-10T12:40:28Z",
         "1949-01-11",
         "F",
         "F",
         "Courtney",
         "Sheppard",
         "47754 Angela Plaza Apt. 135",
         "Los Angeles",
         "CA",
         "90010"
        ],
        [
         "14232",
         "2023-03-11T12:51:27Z",
         "1979-01-04",
         "M",
         "M",
         "Edward",
         "Simpson",
         "92012 Bradley Shoals",
         "Long Beach",
         "CA",
         "90815"
        ],
        [
         "14508",
         "2023-03-11T12:50:25Z",
         "1936-01-28",
         "M",
         "M",
         "Justin",
         "Eaton",
         "04952 Lori Plain",
         "Sierra Madre",
         "CA",
         "91024"
        ],
        [
         "14633",
         "2023-03-11T12:47:10Z",
         "1997-01-04",
         "F",
         "F",
         "Hannah",
         "Fuller",
         "81346 Obrien Streets",
         "Gardena",
         "CA",
         "90249"
        ]
       ],
       "datasetInfos": [],
       "dbfsResultPath": null,
       "isJsonSchema": true,
       "metadata": {
        "createTempViewForImplicitDf": true,
        "dataframeName": "_sqldf",
        "executionCount": 7
       },
       "overflow": false,
       "plotOptions": {
        "customPlotOptions": {},
        "displayType": "table",
        "pivotAggregation": null,
        "pivotColumns": null,
        "xColumns": null,
        "yColumns": null
       },
       "removedWidgets": [],
       "schema": [
        {
         "metadata": "{}",
         "name": "user_id",
         "type": "\"string\""
        },
        {
         "metadata": "{}",
         "name": "event_timestamp",
         "type": "\"timestamp\""
        },
        {
         "metadata": "{}",
         "name": "dob",
         "type": "\"date\""
        },
        {
         "metadata": "{}",
         "name": "sex",
         "type": "\"string\""
        },
        {
         "metadata": "{}",
         "name": "gender",
         "type": "\"string\""
        },
        {
         "metadata": "{}",
         "name": "first_name",
         "type": "\"string\""
        },
        {
         "metadata": "{}",
         "name": "last_name",
         "type": "\"string\""
        },
        {
         "metadata": "{}",
         "name": "street_address",
         "type": "\"string\""
        },
        {
         "metadata": "{}",
         "name": "city",
         "type": "\"string\""
        },
        {
         "metadata": "{}",
         "name": "state",
         "type": "\"string\""
        },
        {
         "metadata": "{}",
         "name": "zip",
         "type": "\"string\""
        }
       ],
       "type": "table"
      }
     },
     "output_type": "display_data"
    }
   ],
   "source": [
    "%sql\n",
    "select * from DEV.scd_silver_layer.users_profile_scd1;"
   ]
  }
 ],
 "metadata": {
  "application/vnd.databricks.v1+notebook": {
   "computePreferences": null,
   "dashboards": [],
   "environmentMetadata": {
    "base_environment": "",
    "client": "1"
   },
   "language": "python",
   "notebookMetadata": {
    "mostRecentlyExecutedCommandWithImplicitDF": {
     "commandId": 4778204268589541,
     "dataframes": [
      "_sqldf"
     ]
    },
    "pythonIndentUnit": 4
   },
   "notebookName": "SCD 1 Implementation - CDC Realtime",
   "widgets": {}
  },
  "language_info": {
   "name": "python"
  }
 },
 "nbformat": 4,
 "nbformat_minor": 0
}