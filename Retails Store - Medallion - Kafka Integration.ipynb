{
 "cells": [
  {
   "cell_type": "code",
   "execution_count": 0,
   "metadata": {
    "application/vnd.databricks.v1+cell": {
     "cellMetadata": {
      "byteLimit": 2048000,
      "rowLimit": 10000
     },
     "inputWidgets": {},
     "nuid": "cfec773f-873f-4e8a-9030-e1b5244a22df",
     "showTitle": false,
     "tableResultSettingsMap": {},
     "title": ""
    }
   },
   "outputs": [],
   "source": [
    "from pyspark.sql.functions import *\n",
    "from pyspark.sql.types import *\n",
    "\n",
    "class InvoiceBronzeLayer:\n",
    "\n",
    "    def __init__(self):\n",
    "        self.bootstrap_server = 'pkc-619z3.us-east1.gcp.confluent.cloud:9092'\n",
    "        self.jaas_module = 'org.apache.kafka.common.security.plain.PlainLoginModule'\n",
    "        self.api_key = 'OVPNJYWE56QVX4LD'\n",
    "        self.api_secret = 'LSK7hPY5Kvqpj12hiaZuLyawzvN+eOXqDXtOgyRdBAcz9j6RxQdx0DlIlSXLU7Jb'\n",
    "        self.topic = 'invoices'\n",
    "        self.delivery_add_schema = (StructType([\n",
    "            StructField(\"AddressLine\", StringType(), True),\n",
    "            StructField(\"City\", StringType(), True),\n",
    "            StructField(\"State\", StringType(), True),\n",
    "            StructField(\"PinCode\", StringType(), True),\n",
    "            StructField(\"ContactNumber\", StringType(), True)\n",
    "        ]))\n",
    "        self.line_item_schema = (StructType([\n",
    "            StructField(\"ItemCode\", StringType(), True),\n",
    "            StructField(\"ItemDescription\", StringType(), True),\n",
    "            StructField(\"ItemPrice\", DoubleType(), True),\n",
    "            StructField(\"ItemQty\", IntegerType(), True),\n",
    "            StructField(\"TotalValue\", DoubleType(), True)\n",
    "        ]))\n",
    "        self.invoice_schema = (StructType([\n",
    "            StructField(\"InvoiceNumber\", StringType(), True),\n",
    "            StructField(\"CreatedTime\", LongType(), True),\n",
    "            StructField(\"StoreID\", StringType(), True),\n",
    "            StructField(\"PosID\", StringType(), True),\n",
    "            StructField(\"CashierID\", StringType(), True),\n",
    "            StructField(\"CustomerType\", StringType(), True),\n",
    "            StructField(\"CustomerCardNo\", IntegerType(), True),\n",
    "            StructField(\"TotalAmount\", DoubleType(), True),\n",
    "            StructField(\"NumberOfItems\", IntegerType(), True),\n",
    "            StructField(\"PaymentMethod\", StringType(), True),\n",
    "            StructField(\"TaxableAmount\", DoubleType(), True),\n",
    "            StructField(\"CGST\", DoubleType(), True),\n",
    "            StructField(\"SGST\", DoubleType(), True),\n",
    "            StructField(\"CESS\", DoubleType(), True),\n",
    "            StructField(\"DeliveryType\", StringType(), True),\n",
    "            StructField(\"DeliveryAddress\", self.delivery_add_schema),\n",
    "            StructField(\"InvoiceLineItems\", ArrayType(self.line_item_schema))]))\n",
    "    \n",
    "    def load_raw_data(self):\n",
    "        raw_df = (spark\n",
    "                  .readStream\n",
    "                  .format(\"kafka\")\n",
    "                  .option(\"kafka.bootstrap.servers\", self.bootstrap_server)\n",
    "                  .option(\"kafka.security.protocol\", \"SASL_SSL\")\n",
    "                  .option(\"kafka.sasl.mechanism\", \"PLAIN\")\n",
    "                  .option(\"kafka.sasl.jaas.config\", f\"{self.jaas_module} required username='{self.api_key}' password='{self.api_secret}';\")\n",
    "                  .option(\"maxOffsetsPerTrigger\",10)\n",
    "                  .option(\"startingTimestamp\",1)\n",
    "                  .option(\"subscribe\", self.topic)\n",
    "                  .load()\n",
    "                  )\n",
    "        \n",
    "        processed_df = raw_df.select(raw_df.key.cast(\"string\").alias(\"key\"),\n",
    "                      from_json(raw_df.value.cast(\"string\"),self.invoice_schema).alias(\"value\"),\n",
    "                      \"topic\",\"timestamp\")\n",
    "        \n",
    "        return processed_df\n",
    "    \n",
    "    # toTable is action \n",
    "    # toTable also creates the Table if not exists\n",
    "    def persist_to_bronze(self, processed_df):\n",
    "        bronze_layer_streaming_query = (processed_df\n",
    "                                        .writeStream\n",
    "                                        .queryName(\"bronze_layer_streaming_query\")\n",
    "                                        .format(\"delta\")\n",
    "                                        .option(\"checkPointLocation\",\"/Volumes/dev/retail_store/checkpoint_invoices_raw\")\n",
    "                                        .outputMode(\"append\")\n",
    "                                        .toTable(\"dev.retail_store.invoices_raw\")\n",
    "                                        )\n",
    "        return bronze_layer_streaming_query\n",
    "    \n",
    "    def start_streaming(self):\n",
    "        processed_df = self.load_raw_data()\n",
    "        return self.persist_to_bronze(processed_df)\n",
    "\n"
   ]
  },
  {
   "cell_type": "code",
   "execution_count": 0,
   "metadata": {
    "application/vnd.databricks.v1+cell": {
     "cellMetadata": {
      "byteLimit": 2048000,
      "rowLimit": 10000
     },
     "inputWidgets": {},
     "nuid": "ab7f7050-bf35-461d-b83b-a6bd4e89da04",
     "showTitle": false,
     "tableResultSettingsMap": {},
     "title": ""
    }
   },
   "outputs": [],
   "source": [
    "bronze_layer = InvoiceBronzeLayer()\n",
    "bronze_layer_streaming_query = bronze_layer.start_streaming()\n"
   ]
  },
  {
   "cell_type": "code",
   "execution_count": 0,
   "metadata": {
    "application/vnd.databricks.v1+cell": {
     "cellMetadata": {
      "byteLimit": 2048000,
      "rowLimit": 10000
     },
     "inputWidgets": {},
     "nuid": "4f4519a1-a14a-433a-a93a-0de8b558fee0",
     "showTitle": false,
     "tableResultSettingsMap": {},
     "title": ""
    }
   },
   "outputs": [],
   "source": [
    "bronze_layer_streaming_query.stop()"
   ]
  },
  {
   "cell_type": "code",
   "execution_count": 0,
   "metadata": {
    "application/vnd.databricks.v1+cell": {
     "cellMetadata": {
      "byteLimit": 2048000,
      "implicitDf": true,
      "rowLimit": 10000
     },
     "inputWidgets": {},
     "nuid": "5d4404d4-5229-461f-a11e-c73250f98afa",
     "showTitle": false,
     "tableResultSettingsMap": {},
     "title": ""
    }
   },
   "outputs": [
    {
     "output_type": "display_data",
     "data": {
      "text/html": [
       "<style scoped>\n",
       "  .table-result-container {\n",
       "    max-height: 300px;\n",
       "    overflow: auto;\n",
       "  }\n",
       "  table, th, td {\n",
       "    border: 1px solid black;\n",
       "    border-collapse: collapse;\n",
       "  }\n",
       "  th, td {\n",
       "    padding: 5px;\n",
       "  }\n",
       "  th {\n",
       "    text-align: left;\n",
       "  }\n",
       "</style><div class='table-result-container'><table class='table-result'><thead style='background-color: white'><tr><th>createtab_stmt</th></tr></thead><tbody><tr><td>CREATE TABLE dev.retail_store.invoices_raw (\n",
       "  key STRING,\n",
       "  value STRUCT<InvoiceNumber: STRING, CreatedTime: BIGINT, StoreID: STRING, PosID: STRING, CashierID: STRING, CustomerType: STRING, CustomerCardNo: INT, TotalAmount: DOUBLE, NumberOfItems: INT, PaymentMethod: STRING, TaxableAmount: DOUBLE, CGST: DOUBLE, SGST: DOUBLE, CESS: DOUBLE, DeliveryType: STRING, DeliveryAddress: STRUCT<AddressLine: STRING, City: STRING, State: STRING, PinCode: STRING, ContactNumber: STRING>, InvoiceLineItems: ARRAY<STRUCT<ItemCode: STRING, ItemDescription: STRING, ItemPrice: DOUBLE, ItemQty: INT, TotalValue: DOUBLE>>>,\n",
       "  topic STRING,\n",
       "  timestamp TIMESTAMP)\n",
       "USING delta\n",
       "TBLPROPERTIES (\n",
       "  'delta.enableDeletionVectors' = 'true',\n",
       "  'delta.feature.deletionVectors' = 'supported',\n",
       "  'delta.minReaderVersion' = '3',\n",
       "  'delta.minWriterVersion' = '7')\n",
       "</td></tr></tbody></table></div>"
      ]
     },
     "metadata": {
      "application/vnd.databricks.v1+output": {
       "addedWidgets": {},
       "aggData": [],
       "aggError": "",
       "aggOverflow": false,
       "aggSchema": [],
       "aggSeriesLimitReached": false,
       "aggType": "",
       "arguments": {},
       "columnCustomDisplayInfos": {},
       "data": [
        [
         "CREATE TABLE dev.retail_store.invoices_raw (\n  key STRING,\n  value STRUCT<InvoiceNumber: STRING, CreatedTime: BIGINT, StoreID: STRING, PosID: STRING, CashierID: STRING, CustomerType: STRING, CustomerCardNo: INT, TotalAmount: DOUBLE, NumberOfItems: INT, PaymentMethod: STRING, TaxableAmount: DOUBLE, CGST: DOUBLE, SGST: DOUBLE, CESS: DOUBLE, DeliveryType: STRING, DeliveryAddress: STRUCT<AddressLine: STRING, City: STRING, State: STRING, PinCode: STRING, ContactNumber: STRING>, InvoiceLineItems: ARRAY<STRUCT<ItemCode: STRING, ItemDescription: STRING, ItemPrice: DOUBLE, ItemQty: INT, TotalValue: DOUBLE>>>,\n  topic STRING,\n  timestamp TIMESTAMP)\nUSING delta\nTBLPROPERTIES (\n  'delta.enableDeletionVectors' = 'true',\n  'delta.feature.deletionVectors' = 'supported',\n  'delta.minReaderVersion' = '3',\n  'delta.minWriterVersion' = '7')\n"
        ]
       ],
       "datasetInfos": [],
       "dbfsResultPath": null,
       "isJsonSchema": true,
       "metadata": {
        "createTempViewForImplicitDf": true,
        "dataframeName": "_sqldf",
        "executionCount": 23
       },
       "overflow": false,
       "plotOptions": {
        "customPlotOptions": {},
        "displayType": "table",
        "pivotAggregation": null,
        "pivotColumns": null,
        "xColumns": null,
        "yColumns": null
       },
       "removedWidgets": [],
       "schema": [
        {
         "metadata": "{}",
         "name": "createtab_stmt",
         "type": "\"string\""
        }
       ],
       "type": "table"
      }
     },
     "output_type": "display_data"
    }
   ],
   "source": [
    "%sql\n",
    "show create table  dev.retail_store.invoices_raw;"
   ]
  }
 ],
 "metadata": {
  "application/vnd.databricks.v1+notebook": {
   "dashboards": [],
   "environmentMetadata": {
    "base_environment": "",
    "client": "1"
   },
   "language": "python",
   "notebookMetadata": {
    "mostRecentlyExecutedCommandWithImplicitDF": {
     "commandId": 917519457898781,
     "dataframes": [
      "_sqldf"
     ]
    },
    "pythonIndentUnit": 4
   },
   "notebookName": "Retails Store - Medallion - Kafka Integration",
   "widgets": {}
  },
  "language_info": {
   "name": "python"
  }
 },
 "nbformat": 4,
 "nbformat_minor": 0
}
